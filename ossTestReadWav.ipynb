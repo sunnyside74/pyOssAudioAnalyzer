{
 "metadata": {
  "language_info": {
   "codemirror_mode": {
    "name": "ipython",
    "version": 3
   },
   "file_extension": ".py",
   "mimetype": "text/x-python",
   "name": "python",
   "nbconvert_exporter": "python",
   "pygments_lexer": "ipython3",
   "version": "3.8.5-final"
  },
  "orig_nbformat": 2,
  "kernelspec": {
   "name": "Python 3.8.5 64-bit ('base': conda)",
   "display_name": "Python 3.8.5 64-bit ('base': conda)",
   "metadata": {
    "interpreter": {
     "hash": "048c8faec33ab08d4598d2d1b99f8cd3584737cbeccf00701c017cc95ada948e"
    }
   }
  }
 },
 "nbformat": 4,
 "nbformat_minor": 2,
 "cells": [
  {
   "source": [
    "# wav file 처리 테스트\n"
   ],
   "cell_type": "markdown",
   "metadata": {}
  },
  {
   "cell_type": "code",
   "execution_count": 1,
   "metadata": {
    "tags": []
   },
   "outputs": [],
   "source": [
    "'''\n",
    "# 라이브러리 정의\n",
    " - 시스템 라이브러리\n",
    " - 오디오 관련 라이브러리\n",
    " - 연산 및 Plot 관련 라이브러리 \n",
    " - 샤용자 라이브러리\n",
    "'''\n",
    "\n",
    "# Import Systems \n",
    "import struct\n",
    "import io\n",
    "import os\n",
    "import sys\n",
    "import time\n",
    "\n",
    "# Import Audio\n",
    "import wave\n",
    "import pyaudio\n",
    "#import librosa\n",
    "\n",
    "import numpy as np\n",
    "from scipy.io import wavfile\n",
    "import scipy.io\n",
    "import matplotlib.pyplot as plt\n",
    "\n",
    "# User Libraries\n",
    "import pyOssWavfile\n",
    "import pyRoomAcoustic\n",
    "\n"
   ]
  },
  {
   "source": [
    "# 폴더 이름 설정\n",
    " - 현재 프로젝트가 있는 폴더의 경로명을 설정\n",
    " - 프로젝트 내에 Audio File이 있는 폴더명을 프로젝트 경로와 합쳐 String으로 저장\n",
    "\n",
    "# 오디오 파일 이름 설정\n",
    " - 불러 올 오디오 파일이름과 앞서 설정한 폴더 이름을 1개의 String으로 저장\n",
    "   "
   ],
   "cell_type": "markdown",
   "metadata": {}
  },
  {
   "cell_type": "code",
   "execution_count": 2,
   "metadata": {
    "tags": []
   },
   "outputs": [],
   "source": [
    "# Path of audiofiles folder\n",
    "audio_dir = os.path.join(os.getcwd(), 'impulsefiles')\n",
    "\n",
    "#print(audio_dir)\n"
   ]
  },
  {
   "cell_type": "code",
   "execution_count": 3,
   "metadata": {},
   "outputs": [],
   "source": [
    "# Define wave file name text to open\n",
    "# Path + wave file name\n",
    "\n",
    "wav_fname = os.path.join(audio_dir, 'TyndallBruceMonument.wav')\n",
    "\n",
    "#wav_fname = os.path.join(audio_dir, 'ElvedenHallMarbleHall.wav')\n",
    "#wav_fname = os.path.join(audio_dir, 'EmptyApartmentBedroom.wav')\n",
    "#wav_fname = os.path.join(audio_dir, 'FalklandPalaceRoyalTennisCourt.wav')\n",
    "#wav_fname = os.path.join(audio_dir, 'InsidePiano.wav')\n",
    "#wav_fname = os.path.join(audio_dir, 'MaesHowe.wav')\n",
    "#wav_fname = os.path.join(audio_dir, 'SportsCentreUniversityOfYork.wav')\n",
    "#wav_fname = os.path.join(audio_dir, 'StairwayUniversityOfYork.wav')\n",
    "#wav_fname = os.path.join(audio_dir, 'StAndrewsChurch.wav')\n",
    "\n"
   ]
  },
  {
   "source": [
    "# Read wav file using module scipy.io.wavflie\n",
    "- Read wav file\n",
    "- Plot data"
   ],
   "cell_type": "markdown",
   "metadata": {}
  },
  {
   "cell_type": "code",
   "execution_count": 4,
   "metadata": {
    "tags": []
   },
   "outputs": [
    {
     "output_type": "error",
     "ename": "FileNotFoundError",
     "evalue": "[Errno 2] No such file or directory: 'c:\\\\Users\\\\iMacPC\\\\Documents\\\\workspace_py\\\\pyOssAudioAnalyzer\\\\impulsefiles\\\\TyndallBruceMonument.wav'",
     "traceback": [
      "\u001b[1;31m---------------------------------------------------------------------------\u001b[0m",
      "\u001b[1;31mFileNotFoundError\u001b[0m                         Traceback (most recent call last)",
      "\u001b[1;32m<ipython-input-4-e1ee1cba5559>\u001b[0m in \u001b[0;36m<module>\u001b[1;34m\u001b[0m\n\u001b[0;32m      1\u001b[0m \u001b[1;31m#wav_samplerate, wav_data = wavfile.read(\"audiofiles\\TyndallBruceMonument.wav\")\u001b[0m\u001b[1;33m\u001b[0m\u001b[1;33m\u001b[0m\u001b[1;33m\u001b[0m\u001b[0m\n\u001b[0;32m      2\u001b[0m \u001b[1;33m\u001b[0m\u001b[0m\n\u001b[1;32m----> 3\u001b[1;33m \u001b[0mwav_samplerate\u001b[0m\u001b[1;33m,\u001b[0m \u001b[0mwav_data\u001b[0m \u001b[1;33m=\u001b[0m \u001b[0mwavfile\u001b[0m\u001b[1;33m.\u001b[0m\u001b[0mread\u001b[0m\u001b[1;33m(\u001b[0m\u001b[0mwav_fname\u001b[0m\u001b[1;33m)\u001b[0m\u001b[1;33m\u001b[0m\u001b[1;33m\u001b[0m\u001b[0m\n\u001b[0m\u001b[0;32m      4\u001b[0m \u001b[1;33m\u001b[0m\u001b[0m\n\u001b[0;32m      5\u001b[0m \u001b[0mtime\u001b[0m \u001b[1;33m=\u001b[0m \u001b[0mwav_data\u001b[0m\u001b[1;33m.\u001b[0m\u001b[0mshape\u001b[0m\u001b[1;33m[\u001b[0m\u001b[1;36m0\u001b[0m\u001b[1;33m]\u001b[0m \u001b[1;33m/\u001b[0m \u001b[0mwav_samplerate\u001b[0m\u001b[1;33m\u001b[0m\u001b[1;33m\u001b[0m\u001b[0m\n",
      "\u001b[1;32m~\\anaconda3\\lib\\site-packages\\scipy\\io\\wavfile.py\u001b[0m in \u001b[0;36mread\u001b[1;34m(filename, mmap)\u001b[0m\n\u001b[0;32m    542\u001b[0m         \u001b[0mmmap\u001b[0m \u001b[1;33m=\u001b[0m \u001b[1;32mFalse\u001b[0m\u001b[1;33m\u001b[0m\u001b[1;33m\u001b[0m\u001b[0m\n\u001b[0;32m    543\u001b[0m     \u001b[1;32melse\u001b[0m\u001b[1;33m:\u001b[0m\u001b[1;33m\u001b[0m\u001b[1;33m\u001b[0m\u001b[0m\n\u001b[1;32m--> 544\u001b[1;33m         \u001b[0mfid\u001b[0m \u001b[1;33m=\u001b[0m \u001b[0mopen\u001b[0m\u001b[1;33m(\u001b[0m\u001b[0mfilename\u001b[0m\u001b[1;33m,\u001b[0m \u001b[1;34m'rb'\u001b[0m\u001b[1;33m)\u001b[0m\u001b[1;33m\u001b[0m\u001b[1;33m\u001b[0m\u001b[0m\n\u001b[0m\u001b[0;32m    545\u001b[0m \u001b[1;33m\u001b[0m\u001b[0m\n\u001b[0;32m    546\u001b[0m     \u001b[1;32mtry\u001b[0m\u001b[1;33m:\u001b[0m\u001b[1;33m\u001b[0m\u001b[1;33m\u001b[0m\u001b[0m\n",
      "\u001b[1;31mFileNotFoundError\u001b[0m: [Errno 2] No such file or directory: 'c:\\\\Users\\\\iMacPC\\\\Documents\\\\workspace_py\\\\pyOssAudioAnalyzer\\\\impulsefiles\\\\TyndallBruceMonument.wav'"
     ]
    }
   ],
   "source": [
    "\n",
    "#wav_samplerate, wav_data = wavfile.read(\"audiofiles\\TyndallBruceMonument.wav\")\n",
    "\n",
    "wav_samplerate, wav_data = wavfile.read(wav_fname)\n",
    "\n",
    "time = wav_data.shape[0] / wav_samplerate\n",
    "\n",
    "print(f\"Samplerate = {wav_samplerate}\")\n",
    "print(f\"Number of Channels = {wav_data.shape[1]}\")\n",
    "print(f\"Length = {wav_data.shape[0]}\")\n",
    "print(f\"Time = {time} sec\")\n",
    "\n"
   ]
  },
  {
   "cell_type": "code",
   "execution_count": null,
   "metadata": {},
   "outputs": [],
   "source": [
    "# Plot loaded wave file\n",
    "\n",
    "plot_time = np.linspace(0., time, wav_data.shape[0])\n",
    "\n",
    "plt.plot(plot_time, wav_data[:, 0], label=\"Left channel\")\n",
    "plt.plot(plot_time, wav_data[:, 1], label=\"Right channel\")\n",
    "plt.legend()\n",
    "plt.xlabel(\"Time [s]\")\n",
    "plt.ylabel(\"Amplitude\")\n",
    "plt.show()\n"
   ]
  },
  {
   "cell_type": "code",
   "execution_count": null,
   "metadata": {},
   "outputs": [],
   "source": [
    "# save numpy data file\n",
    "\n",
    "#np.save('ElvedenHallMarbleHall', wav_data)\n",
    "#np.save(wav_fname, wav_data)\n"
   ]
  },
  {
   "source": [
    "# numpy array 불러오기\n",
    "- nubpy array로 저장한 오디오 데이터 파일 (.npy)를 불러오기\n",
    "- 불러온 .npy파일을 plot하여 wav파일과 동일한 지 확인  "
   ],
   "cell_type": "markdown",
   "metadata": {}
  },
  {
   "cell_type": "code",
   "execution_count": null,
   "metadata": {
    "tags": []
   },
   "outputs": [],
   "source": [
    "# \n",
    "npy_fname = wav_fname + '.npy'\n",
    "\n",
    "wav_narray = np.load(npy_fname)\n",
    "\n",
    "#print(f\"Samplerate = {wav_samplerate}\")\n",
    "print(f\"Number of Channels = {wav_narray.shape[1]}\")\n",
    "print(f\"Length = {wav_narray.shape[0]}\")\n",
    "#print(f\"Time = {time} sec\")\n",
    "\n"
   ]
  },
  {
   "cell_type": "code",
   "execution_count": null,
   "metadata": {},
   "outputs": [],
   "source": [
    "# Plot npy array\n",
    "\n",
    "plot_time = np.linspace(0., time, wav_narray.shape[0])\n",
    "\n",
    "plt.plot(plot_time, wav_narray[:, 0], label=\"Left channel\")\n",
    "plt.plot(plot_time, wav_narray[:, 1], label=\"Right channel\")\n",
    "plt.legend()\n",
    "plt.xlabel(\"Time [s]\")\n",
    "plt.ylabel(\"Amplitude\")\n",
    "plt.show()\n"
   ]
  },
  {
   "source": [
    "# Read wav file using module \n",
    "- using modified wav file read funcion\n",
    "- extract wav file header information"
   ],
   "cell_type": "markdown",
   "metadata": {}
  },
  {
   "cell_type": "code",
   "execution_count": null,
   "metadata": {
    "tags": []
   },
   "outputs": [],
   "source": [
    "# Read .wav file using pyOssWavfile.read() & Extract .wav file header information\n",
    "\n",
    "ossWav_fmt_chunk, ossWav_data, ossWav_length = pyOssWavfile.read(wav_fname)\n",
    "\n",
    "ossWav_format, ossWav_numch, ossWav_fs, ossWav_byterate, ossWav_blockalign, ossWav_bitdepth = pyOssWavfile.extractWavFmtChunk(ossWav_fmt_chunk)\n",
    "\n",
    "print(\"Audio Format =\", ossWav_format)\n",
    "print(\"Number of Channel =\", ossWav_numch)\n",
    "print(\"Sampling Frequency =\", ossWav_fs)\n",
    "print(\"Byte Rate =\", ossWav_byterate)       # 일종의 Checksum \n",
    "print(\"Block Align =\", ossWav_blockalign)\n",
    "print(\"Bits per Sample =\", ossWav_bitdepth)\n",
    "\n",
    "\n",
    "\n"
   ]
  },
  {
   "cell_type": "code",
   "execution_count": null,
   "metadata": {},
   "outputs": [],
   "source": []
  }
 ]
}