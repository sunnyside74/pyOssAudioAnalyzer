{
 "metadata": {
  "language_info": {
   "codemirror_mode": {
    "name": "ipython",
    "version": 3
   },
   "file_extension": ".py",
   "mimetype": "text/x-python",
   "name": "python",
   "nbconvert_exporter": "python",
   "pygments_lexer": "ipython3",
   "version": "3.8.5-final"
  },
  "orig_nbformat": 2,
  "kernelspec": {
   "name": "python3",
   "display_name": "Python 3.8.5 64-bit (conda)",
   "metadata": {
    "interpreter": {
     "hash": "6ad2903d9f8eb78095a8e1054d3b7d96029c25240c1559c5c7674409ebbac066"
    }
   }
  }
 },
 "nbformat": 4,
 "nbformat_minor": 2,
 "cells": [
  {
   "cell_type": "markdown",
   "source": [
    "# wav file 처리 테스트\n"
   ],
   "metadata": {}
  },
  {
   "cell_type": "code",
   "execution_count": 1,
   "source": [
    "'''\r\n",
    "# 라이브러리 정의\r\n",
    " - 시스템 라이브러리\r\n",
    " - 오디오 관련 라이브러리\r\n",
    " - 연산 및 Plot 관련 라이브러리 \r\n",
    " - 샤용자 라이브러리\r\n",
    "'''\r\n",
    "\r\n",
    "# Import Systems \r\n",
    "import struct\r\n",
    "import io\r\n",
    "import os\r\n",
    "import sys\r\n",
    "import time\r\n",
    "\r\n",
    "# Import Audio\r\n",
    "import wave\r\n",
    "import pyaudio\r\n",
    "\r\n",
    "import numpy as np\r\n",
    "from scipy.io import wavfile\r\n",
    "import scipy.io\r\n",
    "import matplotlib.pyplot as plt\r\n",
    "\r\n",
    "# User Libraries\r\n",
    "import pyOssWavfile\r\n",
    "import pyRoomAcoustic as room\r\n",
    "import pyOssDebug as dbg\r\n",
    "\r\n"
   ],
   "outputs": [],
   "metadata": {
    "tags": []
   }
  },
  {
   "cell_type": "markdown",
   "source": [
    "# 폴더 이름 설정\n",
    " - 현재 프로젝트가 있는 폴더의 경로명을 설정\n",
    " - 프로젝트 내에 Audio File이 있는 폴더명을 프로젝트 경로와 합쳐 String으로 저장\n",
    "\n",
    "# 오디오 파일 이름 설정\n",
    " - 불러 올 오디오 파일이름과 앞서 설정한 폴더 이름을 1개의 String으로 저장\n",
    "   "
   ],
   "metadata": {}
  },
  {
   "cell_type": "code",
   "execution_count": 2,
   "source": [
    "# Path of audiofiles folder\r\n",
    "audio_dir = os.path.join(os.getcwd(), 'impulsefiles')\r\n",
    "\r\n",
    "#print(audio_dir)\r\n"
   ],
   "outputs": [],
   "metadata": {
    "tags": []
   }
  },
  {
   "cell_type": "code",
   "execution_count": 3,
   "source": [
    "# Define wave file name text to open\r\n",
    "# Path + wave file name\r\n",
    "\r\n",
    "#wav_fname = os.path.join(audio_dir, 'TyndallBruceMonument.wav')\r\n",
    "#wav_fname = os.path.join(audio_dir, 'ElvedenHallMarbleHall.wav')\r\n",
    "#wav_fname = os.path.join(audio_dir, 'EmptyApartmentBedroom.wav')\r\n",
    "#wav_fname = os.path.join(audio_dir, 'FalklandPalaceRoyalTennisCourt.wav')\r\n",
    "#wav_fname = os.path.join(audio_dir, 'InsidePiano.wav')\r\n",
    "#wav_fname = os.path.join(audio_dir, 'MaesHowe.wav')\r\n",
    "#wav_fname = os.path.join(audio_dir, 'SportsCentreUniversityOfYork.wav')\r\n",
    "#wav_fname = os.path.join(audio_dir, 'StairwayUniversityOfYork.wav')\r\n",
    "#wav_fname = os.path.join(audio_dir, 'StAndrewsChurch.wav')\r\n",
    "wav_fname = os.path.join(audio_dir, 'mh3_000_ortf_48k.wav')\r\n"
   ],
   "outputs": [],
   "metadata": {}
  },
  {
   "cell_type": "markdown",
   "source": [
    "# Read wav file using module scipy.io.wavflie\n",
    "- Read wav file\n",
    "- Plot data"
   ],
   "metadata": {}
  },
  {
   "cell_type": "code",
   "execution_count": null,
   "source": [
    "\r\n",
    "#wav_samplerate, wav_data = wavfile.read(\"audiofiles\\TyndallBruceMonument.wav\")\r\n",
    "\r\n",
    "wav_samplerate, wav_data = wavfile.read(wav_fname)\r\n",
    "\r\n",
    "time = wav_data.shape[0] / wav_samplerate\r\n",
    "\r\n",
    "print(f\"Samplerate = {wav_samplerate}\")\r\n",
    "print(f\"Number of Channels = {wav_data.shape[1]}\")\r\n",
    "print(f\"Length = {wav_data.shape[0]}\")\r\n",
    "print(f\"Time = {time} sec\")\r\n",
    "\r\n"
   ],
   "outputs": [],
   "metadata": {
    "tags": []
   }
  },
  {
   "cell_type": "code",
   "execution_count": null,
   "source": [
    "# Plot loaded wave file\r\n",
    "\r\n",
    "plot_time = np.linspace(0., time, wav_data.shape[0])\r\n",
    "\r\n",
    "plt.plot(plot_time, wav_data[:, 0], label=\"Left channel\")\r\n",
    "plt.plot(plot_time, wav_data[:, 1], label=\"Right channel\")\r\n",
    "plt.legend()\r\n",
    "plt.xlabel(\"Time [s]\")\r\n",
    "plt.ylabel(\"Amplitude\")\r\n",
    "plt.show()\r\n"
   ],
   "outputs": [],
   "metadata": {}
  },
  {
   "cell_type": "code",
   "execution_count": null,
   "source": [
    "# save numpy data file\r\n",
    "\r\n",
    "#np.save('ElvedenHallMarbleHall', wav_data)\r\n",
    "#np.save(wav_fname, wav_data)\r\n"
   ],
   "outputs": [],
   "metadata": {}
  },
  {
   "cell_type": "markdown",
   "source": [
    "# numpy array 불러오기\n",
    "- nubpy array로 저장한 오디오 데이터 파일 (.npy)를 불러오기\n",
    "- 불러온 .npy파일을 plot하여 wav파일과 동일한 지 확인  "
   ],
   "metadata": {}
  },
  {
   "cell_type": "code",
   "execution_count": null,
   "source": [
    "# \r\n",
    "npy_fname = wav_fname + '.npy'\r\n",
    "\r\n",
    "wav_narray = np.load(npy_fname)\r\n",
    "\r\n",
    "#print(f\"Samplerate = {wav_samplerate}\")\r\n",
    "print(f\"Number of Channels = {wav_narray.shape[1]}\")\r\n",
    "print(f\"Length = {wav_narray.shape[0]}\")\r\n",
    "#print(f\"Time = {time} sec\")\r\n",
    "\r\n"
   ],
   "outputs": [],
   "metadata": {
    "tags": []
   }
  },
  {
   "cell_type": "code",
   "execution_count": null,
   "source": [
    "# Plot npy array\r\n",
    "\r\n",
    "plot_time = np.linspace(0., time, wav_narray.shape[0])\r\n",
    "\r\n",
    "plt.plot(plot_time, wav_narray[:, 0], label=\"Left channel\")\r\n",
    "plt.plot(plot_time, wav_narray[:, 1], label=\"Right channel\")\r\n",
    "plt.legend()\r\n",
    "plt.xlabel(\"Time [s]\")\r\n",
    "plt.ylabel(\"Amplitude\")\r\n",
    "plt.show()\r\n"
   ],
   "outputs": [],
   "metadata": {}
  },
  {
   "cell_type": "markdown",
   "source": [
    "# Read wav file using module \n",
    "- using modified wav file read funcion\n",
    "- extract wav file header information"
   ],
   "metadata": {}
  },
  {
   "cell_type": "code",
   "execution_count": null,
   "source": [
    "# wavfile(), readf32 검증용\r\n",
    "\r\n",
    "wav_fname = 'mh3_000_ortf_48k'\r\n",
    "impulse_fname = pyOssWavfile.str_fname('impulsefiles', wav_fname)\r\n",
    "\r\n",
    "impulse_fmt, impulse_data, impulse_struct_fmt, impulse_time = pyOssWavfile.readf32(impulse_fname)\r\n",
    "\r\n",
    "dbg.dWavInfo(impulse_fname)\r\n",
    "dbg.dWavInfo(impulse_struct_fmt)\r\n",
    "dbg.dPlotAudio(impulse_struct_fmt.fs, impulse_data, wav_fname + '.wav', \"Mono\", \"Time(sec)\", \"Amplitude\")"
   ],
   "outputs": [],
   "metadata": {}
  },
  {
   "cell_type": "code",
   "execution_count": null,
   "source": [
    "inserted_data = pyOssWavfile.insertSilence(impulse_data, impulse_struct_fmt.fs, 3.0)\r\n",
    "\r\n",
    "print(inserted_data.shape[0]/impulse_struct_fmt.fs)\r\n",
    "dbg.dPlotAudio(impulse_struct_fmt.fs, inserted_data, 'Silence Insert', \"Mono\", \"Time(sec)\", \"Amplitude\")"
   ],
   "outputs": [],
   "metadata": {}
  },
  {
   "cell_type": "code",
   "execution_count": null,
   "source": [
    "print(impulse_struct_fmt)"
   ],
   "outputs": [],
   "metadata": {}
  },
  {
   "cell_type": "code",
   "execution_count": null,
   "source": [
    "pyOssWavfile.save_oss_npz(impulse_fname+'_mono_32f_44.1k', impulse_data, impulse_struct_fmt, impulse_time)"
   ],
   "outputs": [],
   "metadata": {}
  },
  {
   "cell_type": "code",
   "execution_count": null,
   "source": [
    "impulse_data2, impulse_struct_fmt2, impulse_time2 = pyOssWavfile.load_oss_npz(impulse_fname+'_mono_32f_44.1k.npz')\r\n",
    "\r\n",
    "dbg.dWavInfo(impulse_struct_fmt)\r\n",
    "print(impulse_time)\r\n",
    "dbg.dWavInfo(impulse_struct_fmt2)\r\n",
    "print(impulse_time2)\r\n",
    "dbg.dPlotAudio(impulse_struct_fmt2.fs, impulse_data2, wav_fname + '.wav', \"Mono\", \"Time(sec)\", \"Amplitude\")"
   ],
   "outputs": [],
   "metadata": {}
  },
  {
   "cell_type": "code",
   "execution_count": null,
   "source": [
    "#np.save(impulse_fname+'_mono_f32_44.1k', impulse_data)\r\n",
    "# fmt_array = [impulse_struct_fmt.format, impulse_struct_fmt.ch, impulse_struct_fmt.fs, impulse_struct_fmt.bitdepth, impulse_time]\r\n",
    "# print(fmt_array)\r\n",
    "# np.savez(impulse_fname+'_mono_f32_44.1k', fmt = fmt_array, data=impulse_data)\r\n",
    "np.savez(impulse_fname+'_mono_32f_44.1k', format=impulse_struct_fmt.format, ch=impulse_struct_fmt.ch, fs=impulse_struct_fmt.fs, bitdepth=impulse_struct_fmt.bitdepth, t=impulse_time, data=impulse_data)\r\n"
   ],
   "outputs": [],
   "metadata": {}
  },
  {
   "cell_type": "code",
   "execution_count": null,
   "source": [
    "impulse_struct_fmt2 = pyOssWavfile.CWavHeaderInfo(0, 0, 0, 0, 0, 0)\r\n",
    "impulse_fname2 = impulse_fname+'_mono_32f_44.1k.npz'\r\n",
    "\r\n",
    "with np.load(impulse_fname2) as data_array:\r\n",
    "    impulse_struct_fmt2.format = data_array['format']\r\n",
    "    impulse_struct_fmt2.ch = data_array['ch']\r\n",
    "    impulse_struct_fmt2.fs = data_array['fs']\r\n",
    "    impulse_struct_fmt2.bitdepth = data_array['bitdepth']\r\n",
    "    impulse_time2 = data_array['t']\r\n",
    "    impulse_data2 = data_array['data']\r\n",
    "\r\n",
    "dbg.dWavInfo(impulse_struct_fmt)\r\n",
    "dbg.dWavInfo(impulse_struct_fmt2)\r\n",
    "dbg.dPlotAudio(impulse_struct_fmt2.fs, impulse_data2, wav_fname + '.wav', \"Mono\", \"Time(sec)\", \"Amplitude\")"
   ],
   "outputs": [],
   "metadata": {}
  }
 ]
}