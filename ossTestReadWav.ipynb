{
 "metadata": {
  "language_info": {
   "codemirror_mode": {
    "name": "ipython",
    "version": 3
   },
   "file_extension": ".py",
   "mimetype": "text/x-python",
   "name": "python",
   "nbconvert_exporter": "python",
   "pygments_lexer": "ipython3",
   "version": "3.8.5-final"
  },
  "orig_nbformat": 2,
  "kernelspec": {
   "name": "python3",
   "display_name": "Python 3.8.5 64-bit (conda)",
   "metadata": {
    "interpreter": {
     "hash": "6ad2903d9f8eb78095a8e1054d3b7d96029c25240c1559c5c7674409ebbac066"
    }
   }
  }
 },
 "nbformat": 4,
 "nbformat_minor": 2,
 "cells": [
  {
   "source": [
    "# wav file 처리 테스트\n"
   ],
   "cell_type": "markdown",
   "metadata": {}
  },
  {
   "cell_type": "code",
   "execution_count": 1,
   "metadata": {
    "tags": []
   },
   "outputs": [],
   "source": [
    "'''\n",
    "# 라이브러리 정의\n",
    " - 시스템 라이브러리\n",
    " - 오디오 관련 라이브러리\n",
    " - 연산 및 Plot 관련 라이브러리 \n",
    " - 샤용자 라이브러리\n",
    "'''\n",
    "\n",
    "# Import Systems \n",
    "import struct\n",
    "import io\n",
    "import os\n",
    "import sys\n",
    "import time\n",
    "\n",
    "# Import Audio\n",
    "import wave\n",
    "import pyaudio\n",
    "\n",
    "import numpy as np\n",
    "from scipy.io import wavfile\n",
    "import scipy.io\n",
    "import matplotlib.pyplot as plt\n",
    "\n",
    "# User Libraries\n",
    "import pyOssWavfile\n",
    "import pyRoomAcoustic as room\n",
    "import pyOssDebug as dbg\n",
    "\n"
   ]
  },
  {
   "source": [
    "# 폴더 이름 설정\n",
    " - 현재 프로젝트가 있는 폴더의 경로명을 설정\n",
    " - 프로젝트 내에 Audio File이 있는 폴더명을 프로젝트 경로와 합쳐 String으로 저장\n",
    "\n",
    "# 오디오 파일 이름 설정\n",
    " - 불러 올 오디오 파일이름과 앞서 설정한 폴더 이름을 1개의 String으로 저장\n",
    "   "
   ],
   "cell_type": "markdown",
   "metadata": {}
  },
  {
   "cell_type": "code",
   "execution_count": 2,
   "metadata": {
    "tags": []
   },
   "outputs": [],
   "source": [
    "# Path of audiofiles folder\n",
    "audio_dir = os.path.join(os.getcwd(), 'impulsefiles')\n",
    "\n",
    "#print(audio_dir)\n"
   ]
  },
  {
   "cell_type": "code",
   "execution_count": 3,
   "metadata": {},
   "outputs": [],
   "source": [
    "# Define wave file name text to open\n",
    "# Path + wave file name\n",
    "\n",
    "#wav_fname = os.path.join(audio_dir, 'TyndallBruceMonument.wav')\n",
    "#wav_fname = os.path.join(audio_dir, 'ElvedenHallMarbleHall.wav')\n",
    "#wav_fname = os.path.join(audio_dir, 'EmptyApartmentBedroom.wav')\n",
    "#wav_fname = os.path.join(audio_dir, 'FalklandPalaceRoyalTennisCourt.wav')\n",
    "#wav_fname = os.path.join(audio_dir, 'InsidePiano.wav')\n",
    "#wav_fname = os.path.join(audio_dir, 'MaesHowe.wav')\n",
    "#wav_fname = os.path.join(audio_dir, 'SportsCentreUniversityOfYork.wav')\n",
    "#wav_fname = os.path.join(audio_dir, 'StairwayUniversityOfYork.wav')\n",
    "#wav_fname = os.path.join(audio_dir, 'StAndrewsChurch.wav')\n",
    "wav_fname = os.path.join(audio_dir, 'mh3_000_ortf_48k.wav')\n"
   ]
  },
  {
   "source": [
    "# Read wav file using module scipy.io.wavflie\n",
    "- Read wav file\n",
    "- Plot data"
   ],
   "cell_type": "markdown",
   "metadata": {}
  },
  {
   "cell_type": "code",
   "execution_count": null,
   "metadata": {
    "tags": []
   },
   "outputs": [],
   "source": [
    "\n",
    "#wav_samplerate, wav_data = wavfile.read(\"audiofiles\\TyndallBruceMonument.wav\")\n",
    "\n",
    "wav_samplerate, wav_data = wavfile.read(wav_fname)\n",
    "\n",
    "time = wav_data.shape[0] / wav_samplerate\n",
    "\n",
    "print(f\"Samplerate = {wav_samplerate}\")\n",
    "print(f\"Number of Channels = {wav_data.shape[1]}\")\n",
    "print(f\"Length = {wav_data.shape[0]}\")\n",
    "print(f\"Time = {time} sec\")\n",
    "\n"
   ]
  },
  {
   "cell_type": "code",
   "execution_count": null,
   "metadata": {},
   "outputs": [],
   "source": [
    "# Plot loaded wave file\n",
    "\n",
    "plot_time = np.linspace(0., time, wav_data.shape[0])\n",
    "\n",
    "plt.plot(plot_time, wav_data[:, 0], label=\"Left channel\")\n",
    "plt.plot(plot_time, wav_data[:, 1], label=\"Right channel\")\n",
    "plt.legend()\n",
    "plt.xlabel(\"Time [s]\")\n",
    "plt.ylabel(\"Amplitude\")\n",
    "plt.show()\n"
   ]
  },
  {
   "cell_type": "code",
   "execution_count": null,
   "metadata": {},
   "outputs": [],
   "source": [
    "# save numpy data file\n",
    "\n",
    "#np.save('ElvedenHallMarbleHall', wav_data)\n",
    "#np.save(wav_fname, wav_data)\n"
   ]
  },
  {
   "source": [
    "# numpy array 불러오기\n",
    "- nubpy array로 저장한 오디오 데이터 파일 (.npy)를 불러오기\n",
    "- 불러온 .npy파일을 plot하여 wav파일과 동일한 지 확인  "
   ],
   "cell_type": "markdown",
   "metadata": {}
  },
  {
   "cell_type": "code",
   "execution_count": null,
   "metadata": {
    "tags": []
   },
   "outputs": [],
   "source": [
    "# \n",
    "npy_fname = wav_fname + '.npy'\n",
    "\n",
    "wav_narray = np.load(npy_fname)\n",
    "\n",
    "#print(f\"Samplerate = {wav_samplerate}\")\n",
    "print(f\"Number of Channels = {wav_narray.shape[1]}\")\n",
    "print(f\"Length = {wav_narray.shape[0]}\")\n",
    "#print(f\"Time = {time} sec\")\n",
    "\n"
   ]
  },
  {
   "cell_type": "code",
   "execution_count": null,
   "metadata": {},
   "outputs": [],
   "source": [
    "# Plot npy array\n",
    "\n",
    "plot_time = np.linspace(0., time, wav_narray.shape[0])\n",
    "\n",
    "plt.plot(plot_time, wav_narray[:, 0], label=\"Left channel\")\n",
    "plt.plot(plot_time, wav_narray[:, 1], label=\"Right channel\")\n",
    "plt.legend()\n",
    "plt.xlabel(\"Time [s]\")\n",
    "plt.ylabel(\"Amplitude\")\n",
    "plt.show()\n"
   ]
  },
  {
   "source": [
    "# Read wav file using module \n",
    "- using modified wav file read funcion\n",
    "- extract wav file header information"
   ],
   "cell_type": "markdown",
   "metadata": {}
  },
  {
   "cell_type": "code",
   "execution_count": null,
   "metadata": {},
   "outputs": [],
   "source": [
    "# wavfile(), readf32 검증용\n",
    "\n",
    "wav_fname = 'mh3_000_ortf_48k'\n",
    "impulse_fname = pyOssWavfile.str_fname('impulsefiles', wav_fname)\n",
    "\n",
    "impulse_fmt, impulse_data, impulse_struct_fmt, impulse_time = pyOssWavfile.readf32(impulse_fname)\n",
    "\n",
    "dbg.dWavInfo(impulse_fname)\n",
    "dbg.dWavInfo(impulse_struct_fmt)\n",
    "dbg.dPlotAudio(impulse_struct_fmt.fs, impulse_data, wav_fname + '.wav', \"Mono\", \"Time(sec)\", \"Amplitude\")"
   ]
  },
  {
   "cell_type": "code",
   "execution_count": null,
   "metadata": {},
   "outputs": [],
   "source": [
    "inserted_data = pyOssWavfile.insertSilence(impulse_data, impulse_struct_fmt.fs, 3.0)\n",
    "\n",
    "print(inserted_data.shape[0]/impulse_struct_fmt.fs)\n",
    "dbg.dPlotAudio(impulse_struct_fmt.fs, inserted_data, 'Silence Insert', \"Mono\", \"Time(sec)\", \"Amplitude\")"
   ]
  },
  {
   "cell_type": "code",
   "execution_count": null,
   "metadata": {},
   "outputs": [],
   "source": [
    "print(impulse_struct_fmt)"
   ]
  },
  {
   "cell_type": "code",
   "execution_count": null,
   "metadata": {},
   "outputs": [],
   "source": [
    "pyOssWavfile.save_oss_npz(impulse_fname+'_mono_f32_44.1k', impulse_data, impulse_struct_fmt, impulse_time)"
   ]
  },
  {
   "cell_type": "code",
   "execution_count": null,
   "metadata": {},
   "outputs": [],
   "source": [
    "impulse_data2, impulse_struct_fmt2, impulse_time2 = pyOssWavfile.load_oss_npz(impulse_fname+'_mono_f32_44.1k.npz')\n",
    "\n",
    "dbg.dWavInfo(impulse_struct_fmt)\n",
    "print(impulse_time)\n",
    "dbg.dWavInfo(impulse_struct_fmt2)\n",
    "print(impulse_time2)\n",
    "dbg.dPlotAudio(impulse_struct_fmt2.fs, impulse_data2, wav_fname + '.wav', \"Mono\", \"Time(sec)\", \"Amplitude\")"
   ]
  },
  {
   "cell_type": "code",
   "execution_count": null,
   "metadata": {},
   "outputs": [],
   "source": [
    "#np.save(impulse_fname+'_mono_f32_44.1k', impulse_data)\n",
    "# fmt_array = [impulse_struct_fmt.format, impulse_struct_fmt.ch, impulse_struct_fmt.fs, impulse_struct_fmt.bitdepth, impulse_time]\n",
    "# print(fmt_array)\n",
    "# np.savez(impulse_fname+'_mono_f32_44.1k', fmt = fmt_array, data=impulse_data)\n",
    "np.savez(impulse_fname+'_mono_f32_44.1k', format=impulse_struct_fmt.format, ch=impulse_struct_fmt.ch, fs=impulse_struct_fmt.fs, bitdepth=impulse_struct_fmt.bitdepth, t=impulse_time, data=impulse_data)\n"
   ]
  },
  {
   "cell_type": "code",
   "execution_count": null,
   "metadata": {},
   "outputs": [],
   "source": [
    "impulse_struct_fmt2 = pyOssWavfile.CWavHeaderInfo(0, 0, 0, 0, 0, 0)\n",
    "impulse_fname2 = impulse_fname+'_mono_f32_44.1k.npz'\n",
    "\n",
    "with np.load(impulse_fname2) as data_array:\n",
    "    impulse_struct_fmt2.format = data_array['format']\n",
    "    impulse_struct_fmt2.ch = data_array['ch']\n",
    "    impulse_struct_fmt2.fs = data_array['fs']\n",
    "    impulse_struct_fmt2.bitdepth = data_array['bitdepth']\n",
    "    impulse_time2 = data_array['t']\n",
    "    impulse_data2 = data_array['data']\n",
    "\n",
    "dbg.dWavInfo(impulse_struct_fmt)\n",
    "dbg.dWavInfo(impulse_struct_fmt2)\n",
    "dbg.dPlotAudio(impulse_struct_fmt2.fs, impulse_data2, wav_fname + '.wav', \"Mono\", \"Time(sec)\", \"Amplitude\")"
   ]
  }
 ]
}