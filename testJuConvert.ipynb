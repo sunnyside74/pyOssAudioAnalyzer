{
 "metadata": {
  "language_info": {
   "codemirror_mode": {
    "name": "ipython",
    "version": 3
   },
   "file_extension": ".py",
   "mimetype": "text/x-python",
   "name": "python",
   "nbconvert_exporter": "python",
   "pygments_lexer": "ipython3",
   "version": "3.8.5-final"
  },
  "orig_nbformat": 2,
  "kernelspec": {
   "name": "Python 3.8.5 64-bit ('iMacPC': virtualenv)",
   "display_name": "Python 3.8.5 64-bit ('iMacPC': virtualenv)",
   "metadata": {
    "interpreter": {
     "hash": "048c8faec33ab08d4598d2d1b99f8cd3584737cbeccf00701c017cc95ada948e"
    }
   }
  }
 },
 "nbformat": 4,
 "nbformat_minor": 2,
 "cells": [
  {
   "source": [
    "# Convert acqusited Impulse & Anechoic Data by Jeonju University\n",
    " - Display Original Data format from .wav header\n",
    " - Convert to Mono / float32 / 44.1kHz "
   ],
   "cell_type": "markdown",
   "metadata": {}
  },
  {
   "cell_type": "code",
   "execution_count": 1,
   "metadata": {},
   "outputs": [],
   "source": [
    "import io\n",
    "import sys\n",
    "import os\n",
    "import math\n",
    "\n",
    "import numpy\n",
    "import scipy\n",
    "\n",
    "import soundfile\n",
    "\n",
    "import pyOssWavfile\n",
    "import pyOssDebug as dbg\n",
    "\n"
   ]
  },
  {
   "source": [
    "# Load Original File\n",
    "- impulse data file path: 'ju_impulse'\n",
    "- anechoic data file path: 'ju_anechoic'"
   ],
   "cell_type": "markdown",
   "metadata": {}
  },
  {
   "cell_type": "code",
   "execution_count": 30,
   "metadata": {},
   "outputs": [
    {
     "output_type": "stream",
     "name": "stdout",
     "text": [
      "ju_anecho_Thea_Male\n",
      "Audio Format = Int\n",
      "Number of Channel = 1\n",
      "Sampling Frequency = 48000\n",
      "Bits per Sample = 24\n",
      "Time = 493.00349206349205\n"
     ]
    }
   ],
   "source": [
    "# Load Original Audio File\n",
    "\n",
    "####################################\n",
    "# 임펄스 음원\n",
    "####################################\n",
    "dir_name = 'ju_impulse'         # 임펄스 음원 파일이 있는 프로젝트 내 폴더명\n",
    "\n",
    "# wav_name = 'ju_imp_goyang_aramnuri_concerthall'\n",
    "# wav_name = 'ju_imp_sejongmunhwahuigwan_chamberhall'\n",
    "wav_name = 'Impulse_201125_JU_SoundLab_Ori_mono_48k_32i'\n",
    "# wav_name = 'Impulse_201125_JU_SoundLab_Aram_mono_48k_32i'\n",
    "# wav_name = 'Impulse_201125_JU_SoundLab_Daegu_mono_48k_32i'\n",
    "# wav_name = 'Impulse_201125_JU_SoundLab_Sejong_mono_48k_32i'\n",
    "\n",
    "\n",
    "#####################################\n",
    "# 무향실 음원\n",
    "#####################################\n",
    "# dir_name = 'ju_anechoic'       # 무향실 음원 파일이 있는 프로젝트 내 폴더명\n",
    "\n",
    "# wav_name = 'ju_anecho_Kor_Trad_Daeguem' \n",
    "# wav_name = 'ju_anecho_Kor_Trad_Daeguem_BK'\n",
    "# wav_name = 'ju_anecho_Kor_Trad_Daeguem_ST'\n",
    "# wav_name = 'ju_anecho_Kor_Trad_Gayageum'\n",
    "# wav_name = 'ju_anecho_Kor_Trad_Gayageum_BK'\n",
    "# wav_name = 'ju_anecho_Kor_Trad_Gayageum_ST'\n",
    "# wav_name = 'ju_anecho_Kor_Trad_Haeguem'\n",
    "# wav_name = 'ju_anecho_Kor_Trad_Haeguem_BK'\n",
    "# wav_name = 'ju_anecho_Kor_Trad_Haeguem_ST'\n",
    "# wav_name = 'ju_anecho_Kor_Trad_Janggu'\n",
    "# wav_name = 'ju_anecho_Kor_Trad_Janggu_BK'\n",
    "# wav_name = 'ju_anecho_Kor_Trad_Janggu_ST'\n",
    "# wav_name = 'ju_anecho_Kor_Trad_Pansnori_BK'\n",
    "# wav_name = 'ju_anecho_Kor_Trad_Pansori'\n",
    "# wav_name = 'ju_anecho_Kor_Trad_Piri'\n",
    "# wav_name = 'ju_anecho_Kor_Trad_Piri_BK'\n",
    "# wav_name = 'ju_anecho_Kor_Trad_Piri_ST'\n",
    "# wav_name = 'ju_anecho_Musical_Female'\n",
    "# wav_name = 'ju_anecho_Musical_Female_Gtr'\n",
    "# wav_name = 'ju_anecho_Musical_Female_ST'\n",
    "# wav_name = 'ju_anecho_Musical_Male'\n",
    "# wav_name = 'ju_anecho_Musical_Male_Gtr'\n",
    "# wav_name = 'ju_anecho_Musical_Male_ST'\n",
    "# wav_name = 'ju_anecho_Thea_Dialog'\n",
    "# wav_name = 'ju_anecho_Thea_Female'\n",
    "# wav_name = 'ju_anecho_Thea_Male'\n",
    "\n",
    "# 파일명 조합\n",
    "fname = pyOssWavfile.str_fname(dir_name, wav_name)\n",
    "# print(wav_name)\n",
    "\n",
    "# Check Wav Header Information\n",
    "st_fmt = pyOssWavfile.extractWavFmtChunk( pyOssWavfile.read_format(fname) )\n",
    "dbg.dWavInfo(st_fmt)\n",
    "\n",
    "# Load Original Audio & Convert format mono / float32 / 44.1kHz \n",
    "chunk, data, st_fmt_temp, t = pyOssWavfile.readf32( fname )\n",
    "print(f\"Time(sec) =\", t)\n"
   ]
  },
  {
   "cell_type": "code",
   "execution_count": null,
   "metadata": {},
   "outputs": [],
   "source": [
    "# Save Converted Data to wav\n",
    "str_info = '_mono_f32_44.1k'\n",
    "sname = pyOssWavfile.str_fname(dir_name, wav_name + str_info)\n",
    "pyOssWavfile.write(sname, st_fmt_temp.fs, data)\n",
    "\n",
    "st_fmt = pyOssWavfile.extractWavFmtChunk( pyOssWavfile.read_format(sname) )\n",
    "dbg.dWavInfo(st_fmt)\n"
   ]
  }
 ]
}