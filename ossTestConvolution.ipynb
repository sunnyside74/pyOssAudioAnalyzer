{
 "metadata": {
  "language_info": {
   "codemirror_mode": {
    "name": "ipython",
    "version": 3
   },
   "file_extension": ".py",
   "mimetype": "text/x-python",
   "name": "python",
   "nbconvert_exporter": "python",
   "pygments_lexer": "ipython3",
   "version": "3.8.5-final"
  },
  "orig_nbformat": 2,
  "kernelspec": {
   "name": "Python 3.8.5 64-bit (conda)",
   "display_name": "Python 3.8.5 64-bit (conda)",
   "metadata": {
    "interpreter": {
     "hash": "048c8faec33ab08d4598d2d1b99f8cd3584737cbeccf00701c017cc95ada948e"
    }
   }
  }
 },
 "nbformat": 4,
 "nbformat_minor": 2,
 "cells": [
  {
   "source": [
    "# Convolution Test with Jeonju University Impulse Data\n",
    "- 고양 아람누리 콘서트홀\n",
    "- 세종문화회관 체임버홀"
   ],
   "cell_type": "markdown",
   "metadata": {}
  },
  {
   "cell_type": "code",
   "execution_count": null,
   "metadata": {},
   "outputs": [],
   "source": [
    "'''\n",
    "# 라이브러리 정의\n",
    " - 시스템 라이브러리\n",
    " - 오디오 관련 라이브러리\n",
    " - 연산 및 Plot 관련 라이브러리 \n",
    " - 샤용자 라이브러리\n",
    "'''\n",
    "\n",
    "# Import Systems \n",
    "import io\n",
    "import os\n",
    "import sys\n",
    "import math\n",
    "\n",
    "# Import Audio\n",
    "import soundfile\n",
    "\n",
    "import numpy as np\n",
    "import scipy\n",
    "import scipy.signal as sig\n",
    "import matplotlib.pyplot as plt\n",
    "\n",
    "# User Libraries\n",
    "import pyOssWavfile\n",
    "import pyOssDebug as dbg\n",
    "import pyOssFilter"
   ]
  },
  {
   "source": [
    "# 무향실 음원 로드\n",
    "- singing (mono / float32 / 44.1kHz)"
   ],
   "cell_type": "markdown",
   "metadata": {}
  },
  {
   "cell_type": "code",
   "execution_count": null,
   "metadata": {},
   "outputs": [],
   "source": [
    "# Audio File Load\n",
    "dir_audio = 'audiofiles'\n",
    "str_info = '_mono_f32_44.1k'\n",
    "aud_name = 'singing'\n",
    "aud_name_temp = aud_name + str_info\n",
    "aud_fname = pyOssWavfile.str_fname( dir_audio, aud_name_temp )\n",
    "print(aud_name_temp)\n",
    "\n",
    "chunk_aud, data_aud, st_fmt_aud, t_aud = pyOssWavfile.readf32( aud_fname )\n",
    "print('* Load complete audio data')\n"
   ]
  },
  {
   "source": [
    "# 임펄스 음원 로드 (선택 필요)\n",
    "- mono / float32 / 44.1kHz\n",
    "- 고양 아람누리 콘서트홀 (mono / float32 / 44.1kHz)\n",
    "- 세종문화회관 체임버홀 (mono / float32 / 44.1kHz)"
   ],
   "cell_type": "markdown",
   "metadata": {}
  },
  {
   "cell_type": "code",
   "execution_count": null,
   "metadata": {},
   "outputs": [],
   "source": [
    "# Impulse File Load\n",
    "dir_imp = 'ju_impulse'\n",
    "str_info = '_mono_f32_44.1k'\n",
    "\n",
    "# imp_name = 'ju_imp_goyang_aramnuri_concerthall'\n",
    "imp_name = 'ju_imp_sejongmunhwahuigwan_chamberhall'\n",
    "\n",
    "imp_name_temp = imp_name + str_info\n",
    "imp_fname = pyOssWavfile.str_fname( dir_imp, imp_name_temp )\n",
    "print(imp_name_temp)\n",
    "\n",
    "chunk_imp, data_imp, st_fmt_imp, t_imp = pyOssWavfile.readf32( imp_fname )\n",
    "print('* Load complete impulse data')\n"
   ]
  },
  {
   "source": [
    "# 콘볼루션 결과 확인\n",
    "- 무향실 음원과 임펄스 데이터를 scipy.signal의 fftconvolve 함수를 이용하여 연산처리\n",
    "- 무향실 음원 길이에 1 sec 만큼만 사용\n"
   ],
   "cell_type": "markdown",
   "metadata": {}
  },
  {
   "cell_type": "code",
   "execution_count": null,
   "metadata": {},
   "outputs": [],
   "source": [
    "# FFT Convolution Function Test\n",
    "# Test Audio data with Impulse data\n",
    "\n",
    "data_convolve_temp = sig.fftconvolve( data_aud, data_imp )\n",
    "# print(data_aud.shape[0], st_fmt_aud.fs, data_aud.shape[0]+st_fmt_aud.fs)\n",
    "data_convolve = data_convolve_temp[0:(data_aud.shape[0]+st_fmt_aud.fs)]     # audio data time + 1 sec (it's not full length of convolution)\n",
    "\n",
    "dbg.dPlotAudio(st_fmt_imp.fs, data_imp, imp_name_temp, \"Mono\", \"Time(sec)\", \"Amplitude\")\n",
    "dbg.dPlotAudio(st_fmt_aud.fs, data_aud, aud_name + ' original', \"Mono\", \"Time(sec)\", \"Amplitude\")\n",
    "dbg.dPlotAudio(st_fmt_aud.fs, data_convolve, aud_name + ' convolve with ' + imp_name_temp, \"Mono\", \"Time(sec)\", \"Amplitude\")\n",
    "\n",
    "# If you want save  result to wave file, do uncomment below line\n"
   ]
  },
  {
   "source": [
    "# 콘볼루션 결과 저장\n",
    " - result 폴더에 콘볼루션 결과를 wav파일로 저장\n",
    " - mono / float32 / 44.1kHz\n",
    " "
   ],
   "cell_type": "markdown",
   "metadata": {}
  },
  {
   "cell_type": "code",
   "execution_count": null,
   "metadata": {},
   "outputs": [],
   "source": [
    "# Save wav file Convolution Result\n",
    "\n",
    "dir_result = 'resultfiles'\n",
    "sname = pyOssWavfile.str_fname( dir_result, aud_name + '_' + imp_name + str_info )\n",
    "print( sname )\n",
    "pyOssWavfile.write( sname, st_fmt_aud.fs, data_convolve )\n",
    "print('* Save complete convolution data')\n",
    "\n"
   ]
  },
  {
   "cell_type": "code",
   "execution_count": null,
   "metadata": {},
   "outputs": [],
   "source": []
  }
 ]
}