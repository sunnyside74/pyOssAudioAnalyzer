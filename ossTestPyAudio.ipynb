{
 "metadata": {
  "language_info": {
   "codemirror_mode": {
    "name": "ipython",
    "version": 3
   },
   "file_extension": ".py",
   "mimetype": "text/x-python",
   "name": "python",
   "nbconvert_exporter": "python",
   "pygments_lexer": "ipython3",
   "version": "3.8.5-final"
  },
  "orig_nbformat": 2,
  "kernelspec": {
   "name": "Python 3.8.5 64-bit (conda)",
   "display_name": "Python 3.8.5 64-bit (conda)",
   "metadata": {
    "interpreter": {
     "hash": "048c8faec33ab08d4598d2d1b99f8cd3584737cbeccf00701c017cc95ada948e"
    }
   }
  }
 },
 "nbformat": 4,
 "nbformat_minor": 2,
 "cells": [
  {
   "cell_type": "code",
   "execution_count": 1,
   "metadata": {},
   "outputs": [],
   "source": [
    "'''\n",
    "# 라이브러리 정의\n",
    " - 시스템 라이브러리\n",
    " - 오디오 관련 라이브러리\n",
    " - 연산 및 Plot 관련 라이브러리 \n",
    " - 샤용자 라이브러리\n",
    "'''\n",
    "\n",
    "# Import Systems \n",
    "import struct\n",
    "import io\n",
    "import os\n",
    "import sys\n",
    "import math\n",
    "import platform\n",
    "import time\n",
    "\n",
    "# Import Audio\n",
    "import pyaudio\n",
    "import sounddevice\n",
    "import librosa\n",
    "import soundfile\n",
    "\n",
    "import numpy as np\n",
    "import scipy\n",
    "import scipy.signal as sig\n",
    "import matplotlib.pyplot as plt\n",
    "\n",
    "# User Libraries\n",
    "import pyOssWavfile\n",
    "import pyRoomAcoustic as room\n",
    "import pyOssDebug as dbg\n",
    "import pyOssFilter\n",
    "import pyOssPyAudio\n",
    "\n",
    "%matplotlib tk\n"
   ]
  },
  {
   "source": [
    "set_device_type = 'asio'\n",
    "\n",
    "if 'darwin' in platform.system():\n",
    "    IDX = pyaudio.paCoreAudio           # = 5\n",
    "elif 'linux' in platform.system():\n",
    "    IDX = pyaudio.paALSA\n",
    "else:\n",
    "    if set_device_type == 'asio':\n",
    "        IDX = pyaudio.paASIO            # = 3\n",
    "    elif set_device_type == 'wasapi':\n",
    "        IDX = pyaudio.paWASAPI          # = 13\n",
    "    elif set_device_type == 'wdm':\n",
    "        IDX = pyaudio.paWDMKS           # = 11\n",
    "    else:\n",
    "        IDX = pyaudio.paMME             # = 2\n",
    "\n",
    "print('Index of Device Type:', IDX)\n",
    "\n",
    "# List of Device Names IDX \n",
    "dev_name = pyOssPyAudio.ju_get_device_name(IDX)\n",
    "print(dev_name)\n"
   ],
   "cell_type": "code",
   "metadata": {},
   "execution_count": 2,
   "outputs": [
    {
     "output_type": "stream",
     "name": "stdout",
     "text": [
      "Index of Device Type: 3\n",
      "['ASIO4ALL v2', 'Yamaha Steinberg USB ASIO']\n"
     ]
    }
   ]
  },
  {
   "cell_type": "code",
   "execution_count": null,
   "metadata": {},
   "outputs": [],
   "source": [
    "# 장치선택: Windows MME\n",
    "\n",
    "tgt_dev_in = dev_name[0]        # Microsoft 사운드 매퍼 - Input\n",
    "tgt_dev_out = dev_name[3]       # Microsoft 사운드 매퍼 - Output\n",
    "\n",
    "dev_in = pyOssPyAudio.ju_get_device_info(IDX, tgt_dev_in)\n",
    "st_dev_in = pyOssPyAudio.CAudioDeviceInfo()\n",
    "\n",
    "st_dev_in.index = dev_in['index']\n",
    "st_dev_in.name = dev_in['name']\n",
    "st_dev_in.maxInCh = dev_in['maxInputChannels']\n",
    "st_dev_in.maxOutCh = dev_in['maxOutputChannels']\n",
    "st_dev_in.fs = int(dev_in['defaultSampleRate'])\n",
    "\n",
    "# dev_in_index = dev_in['index']\n",
    "# dev_in_name = dev_in['name']\n",
    "# dev_in_ch = dev_in['maxInputChannels']\n",
    "# dev_in_fs = int(dev_in['defaultSampleRate'])\n",
    "\n",
    "dev_out = pyOssPyAudio.ju_get_device_info(IDX, tgt_dev_out)\n",
    "\n",
    "dev_out_index = dev_out['index']\n",
    "dev_out_name = dev_out['name']\n",
    "dev_out_ch = dev_out['maxInputChannels']\n",
    "dev_out_fs = int(dev_out['defaultSampleRate'])\n"
   ]
  },
  {
   "source": [
    "# 장치 선택: ASIO\n",
    "# tgt_asio_dev_name = 'ASIO4ALL v2'\n",
    "tgt_asio_dev_name = 'Yamaha Steinberg USB ASIO'\n",
    "# tgt_asio_dev_name = 'Steinberg USB ASIO'\n",
    "\n",
    "dev_asio = pyOssPyAudio.ju_get_device_info(IDX, tgt_asio_dev_name)\n",
    "\n",
    "dev_asio_index = dev_asio['index']\n",
    "dev_asio_name = dev_asio['name']\n",
    "dev_asio_ch_in = dev_asio['maxInputChannels']\n",
    "dev_asio_fs = dev_asio['defaultSampleRate']\n",
    "\n",
    "print('dev_asio: ', dev_asio)\n",
    "print(dev_asio_index, dev_asio_name, dev_asio_ch_in, dev_asio_fs)\n"
   ],
   "cell_type": "code",
   "metadata": {},
   "execution_count": 3,
   "outputs": [
    {
     "output_type": "stream",
     "name": "stdout",
     "text": [
      "dev_asio:  {'index': 17, 'structVersion': 2, 'name': 'Yamaha Steinberg USB ASIO', 'hostApi': 2, 'maxInputChannels': 6, 'maxOutputChannels': 6, 'defaultLowInputLatency': 0.011609977324263039, 'defaultLowOutputLatency': 0.011609977324263039, 'defaultHighInputLatency': 0.011609977324263039, 'defaultHighOutputLatency': 0.011609977324263039, 'defaultSampleRate': 44100.0}\n17 Yamaha Steinberg USB ASIO 6 44100.0\n"
     ]
    }
   ]
  },
  {
   "cell_type": "code",
   "execution_count": 4,
   "metadata": {},
   "outputs": [
    {
     "output_type": "stream",
     "name": "stdout",
     "text": [
      "True\n"
     ]
    }
   ],
   "source": [
    "# Record & save audio data from Mic using ASIO Device\n",
    "\n",
    "pa = pyaudio.PyAudio()\n",
    "\n",
    "# create matplotlib figure and axes\n",
    "fig, ax = plt.subplots(1, figsize=(15, 7))\n",
    "\n",
    "FORMAT = pa.get_format_from_width(2)\n",
    "CH = dev_asio_ch_in\n",
    "CHUNK = 1024 * 2\n",
    "RATE = np.int(dev_asio_fs)            # device 정보에서 읽어오면 됨\n",
    "BUFFER = CHUNK * 2 * CH\n",
    "RECORD_SECONDS = 10\n",
    "\n",
    "print(pa.is_format_supported(RATE, \n",
    "            input_device=dev_asio_index,\n",
    "            input_channels=CH,\n",
    "            input_format=FORMAT,\n",
    "     ))\n",
    "\n",
    "stream1 = pa.open(\n",
    "    format = FORMAT,\n",
    "    channels = CH,\n",
    "    rate = RATE,\n",
    "    input = True,\n",
    "    output = False,\n",
    "    frames_per_buffer = BUFFER,\n",
    "    input_device_index = dev_asio_index\n",
    ")\n",
    "\n",
    "# stream2 = pa.open(\n",
    "#     format = FORMAT,\n",
    "#     channels = 2,\n",
    "#     rate = RATE,\n",
    "#     input = True,\n",
    "#     output = False,\n",
    "#     frames_per_buffer = BUFFER,\n",
    "#     input_device_index = dev_asio_index\n",
    "# )\n"
   ]
  },
  {
   "cell_type": "code",
   "execution_count": 5,
   "metadata": {},
   "outputs": [
    {
     "output_type": "stream",
     "name": "stdout",
     "text": [
      "stream started\n"
     ]
    },
    {
     "output_type": "error",
     "ename": "NameError",
     "evalue": "name 'TclError' is not defined",
     "traceback": [
      "\u001b[1;31m---------------------------------------------------------------------------\u001b[0m",
      "\u001b[1;31mTclError\u001b[0m                                  Traceback (most recent call last)",
      "\u001b[1;32m<ipython-input-5-cfe896a85f3e>\u001b[0m in \u001b[0;36m<module>\u001b[1;34m\u001b[0m\n\u001b[0;32m     44\u001b[0m     \u001b[1;32mtry\u001b[0m\u001b[1;33m:\u001b[0m\u001b[1;33m\u001b[0m\u001b[1;33m\u001b[0m\u001b[0m\n\u001b[1;32m---> 45\u001b[1;33m         \u001b[0mfig\u001b[0m\u001b[1;33m.\u001b[0m\u001b[0mcanvas\u001b[0m\u001b[1;33m.\u001b[0m\u001b[0mdraw\u001b[0m\u001b[1;33m(\u001b[0m\u001b[1;33m)\u001b[0m\u001b[1;33m\u001b[0m\u001b[1;33m\u001b[0m\u001b[0m\n\u001b[0m\u001b[0;32m     46\u001b[0m         \u001b[0mfig\u001b[0m\u001b[1;33m.\u001b[0m\u001b[0mcanvas\u001b[0m\u001b[1;33m.\u001b[0m\u001b[0mflush_events\u001b[0m\u001b[1;33m(\u001b[0m\u001b[1;33m)\u001b[0m\u001b[1;33m\u001b[0m\u001b[1;33m\u001b[0m\u001b[0m\n",
      "\u001b[1;32m~\\anaconda3\\lib\\site-packages\\matplotlib\\backends\\backend_tkagg.py\u001b[0m in \u001b[0;36mdraw\u001b[1;34m(self)\u001b[0m\n\u001b[0;32m      9\u001b[0m         \u001b[0msuper\u001b[0m\u001b[1;33m(\u001b[0m\u001b[0mFigureCanvasTkAgg\u001b[0m\u001b[1;33m,\u001b[0m \u001b[0mself\u001b[0m\u001b[1;33m)\u001b[0m\u001b[1;33m.\u001b[0m\u001b[0mdraw\u001b[0m\u001b[1;33m(\u001b[0m\u001b[1;33m)\u001b[0m\u001b[1;33m\u001b[0m\u001b[1;33m\u001b[0m\u001b[0m\n\u001b[1;32m---> 10\u001b[1;33m         \u001b[0m_backend_tk\u001b[0m\u001b[1;33m.\u001b[0m\u001b[0mblit\u001b[0m\u001b[1;33m(\u001b[0m\u001b[0mself\u001b[0m\u001b[1;33m.\u001b[0m\u001b[0m_tkphoto\u001b[0m\u001b[1;33m,\u001b[0m \u001b[0mself\u001b[0m\u001b[1;33m.\u001b[0m\u001b[0mrenderer\u001b[0m\u001b[1;33m.\u001b[0m\u001b[0m_renderer\u001b[0m\u001b[1;33m,\u001b[0m \u001b[1;33m(\u001b[0m\u001b[1;36m0\u001b[0m\u001b[1;33m,\u001b[0m \u001b[1;36m1\u001b[0m\u001b[1;33m,\u001b[0m \u001b[1;36m2\u001b[0m\u001b[1;33m,\u001b[0m \u001b[1;36m3\u001b[0m\u001b[1;33m)\u001b[0m\u001b[1;33m)\u001b[0m\u001b[1;33m\u001b[0m\u001b[1;33m\u001b[0m\u001b[0m\n\u001b[0m\u001b[0;32m     11\u001b[0m         \u001b[0mself\u001b[0m\u001b[1;33m.\u001b[0m\u001b[0m_master\u001b[0m\u001b[1;33m.\u001b[0m\u001b[0mupdate_idletasks\u001b[0m\u001b[1;33m(\u001b[0m\u001b[1;33m)\u001b[0m\u001b[1;33m\u001b[0m\u001b[1;33m\u001b[0m\u001b[0m\n",
      "\u001b[1;32m~\\anaconda3\\lib\\site-packages\\matplotlib\\backends\\_backend_tk.py\u001b[0m in \u001b[0;36mblit\u001b[1;34m(photoimage, aggimage, offsets, bbox)\u001b[0m\n\u001b[0;32m     74\u001b[0m     \u001b[1;32melse\u001b[0m\u001b[1;33m:\u001b[0m\u001b[1;33m\u001b[0m\u001b[1;33m\u001b[0m\u001b[0m\n\u001b[1;32m---> 75\u001b[1;33m         \u001b[0mphotoimage\u001b[0m\u001b[1;33m.\u001b[0m\u001b[0mblank\u001b[0m\u001b[1;33m(\u001b[0m\u001b[1;33m)\u001b[0m\u001b[1;33m\u001b[0m\u001b[1;33m\u001b[0m\u001b[0m\n\u001b[0m\u001b[0;32m     76\u001b[0m         \u001b[0mbboxptr\u001b[0m \u001b[1;33m=\u001b[0m \u001b[1;33m(\u001b[0m\u001b[1;36m0\u001b[0m\u001b[1;33m,\u001b[0m \u001b[0mwidth\u001b[0m\u001b[1;33m,\u001b[0m \u001b[1;36m0\u001b[0m\u001b[1;33m,\u001b[0m \u001b[0mheight\u001b[0m\u001b[1;33m)\u001b[0m\u001b[1;33m\u001b[0m\u001b[1;33m\u001b[0m\u001b[0m\n",
      "\u001b[1;32m~\\anaconda3\\lib\\tkinter\\__init__.py\u001b[0m in \u001b[0;36mblank\u001b[1;34m(self)\u001b[0m\n\u001b[0;32m   4064\u001b[0m         \u001b[1;34m\"\"\"Display a transparent image.\"\"\"\u001b[0m\u001b[1;33m\u001b[0m\u001b[1;33m\u001b[0m\u001b[0m\n\u001b[1;32m-> 4065\u001b[1;33m         \u001b[0mself\u001b[0m\u001b[1;33m.\u001b[0m\u001b[0mtk\u001b[0m\u001b[1;33m.\u001b[0m\u001b[0mcall\u001b[0m\u001b[1;33m(\u001b[0m\u001b[0mself\u001b[0m\u001b[1;33m.\u001b[0m\u001b[0mname\u001b[0m\u001b[1;33m,\u001b[0m \u001b[1;34m'blank'\u001b[0m\u001b[1;33m)\u001b[0m\u001b[1;33m\u001b[0m\u001b[1;33m\u001b[0m\u001b[0m\n\u001b[0m\u001b[0;32m   4066\u001b[0m \u001b[1;33m\u001b[0m\u001b[0m\n",
      "\u001b[1;31mTclError\u001b[0m: invalid command name \"pyimage10\"",
      "\nDuring handling of the above exception, another exception occurred:\n",
      "\u001b[1;31mNameError\u001b[0m                                 Traceback (most recent call last)",
      "\u001b[1;32m<ipython-input-5-cfe896a85f3e>\u001b[0m in \u001b[0;36m<module>\u001b[1;34m\u001b[0m\n\u001b[0;32m     47\u001b[0m         \u001b[0mframe_count\u001b[0m \u001b[1;33m+=\u001b[0m \u001b[1;36m1\u001b[0m\u001b[1;33m\u001b[0m\u001b[1;33m\u001b[0m\u001b[0m\n\u001b[0;32m     48\u001b[0m \u001b[1;33m\u001b[0m\u001b[0m\n\u001b[1;32m---> 49\u001b[1;33m     \u001b[1;32mexcept\u001b[0m \u001b[0mTclError\u001b[0m\u001b[1;33m:\u001b[0m\u001b[1;33m\u001b[0m\u001b[1;33m\u001b[0m\u001b[0m\n\u001b[0m\u001b[0;32m     50\u001b[0m         \u001b[1;31m# calculate average frame rate\u001b[0m\u001b[1;33m\u001b[0m\u001b[1;33m\u001b[0m\u001b[1;33m\u001b[0m\u001b[0m\n\u001b[0;32m     51\u001b[0m         \u001b[0mframe_rate\u001b[0m \u001b[1;33m=\u001b[0m \u001b[0mframe_count\u001b[0m \u001b[1;33m/\u001b[0m \u001b[1;33m(\u001b[0m\u001b[0mtime\u001b[0m\u001b[1;33m.\u001b[0m\u001b[0mtime\u001b[0m\u001b[1;33m(\u001b[0m\u001b[1;33m)\u001b[0m \u001b[1;33m-\u001b[0m \u001b[0mstart_time\u001b[0m\u001b[1;33m)\u001b[0m\u001b[1;33m\u001b[0m\u001b[1;33m\u001b[0m\u001b[0m\n",
      "\u001b[1;31mNameError\u001b[0m: name 'TclError' is not defined"
     ]
    }
   ],
   "source": [
    "# variable for plotting\n",
    "x = np.arange(0, 2 * CHUNK, 2)\n",
    "\n",
    "# create a line object with random data\n",
    "line, = ax.plot(x, np.random.rand(CHUNK), '-', lw=2)\n",
    "\n",
    "# basic formatting for the axes\n",
    "ax.set_title('AUDIO WAVEFORM')\n",
    "ax.set_xlabel('samples')\n",
    "ax.set_ylabel('volume')\n",
    "ax.set_ylim(0, 255)\n",
    "ax.set_xlim(0, 2 * CHUNK)\n",
    "plt.setp(ax, xticks=[0, CHUNK, 2 * CHUNK], yticks=[0, 128, 255])\n",
    "\n",
    "# show the plot\n",
    "plt.show(block=False)\n",
    "\n",
    "print('stream started')\n",
    "\n",
    "# for measuring frame rate\n",
    "frame_count = 0\n",
    "start_time = time.time()\n",
    "cnt_ch = 0\n",
    "\n",
    "while True:\n",
    "    # binary data\n",
    "    data = stream1.read(CHUNK, exception_on_overflow=False)\n",
    "    if CH > 1:\n",
    "        data_temp = data[0:BUFFER]\n",
    "    #     data_ch1 = data[0:(2*CHUNK-1)]\n",
    "    #     data_ch2 = data[(2*CHUNK):(2*(2*CHUNK)-1)]\n",
    "    else:\n",
    "        data_temp = data\n",
    "\n",
    "    # convert data to integers, make np array, then offset it by 127\n",
    "    data_int = struct.unpack(str(2 * CHUNK) + 'B', data_temp)\n",
    "    \n",
    "    # create np array and offset by 128\n",
    "    data_np = np.array(data_int, dtype='b')[::2] + 128\n",
    "    \n",
    "    line.set_ydata(data_np)\n",
    "    \n",
    "    # update figure canvas\n",
    "    try:\n",
    "        fig.canvas.draw()\n",
    "        fig.canvas.flush_events()\n",
    "        frame_count += 1\n",
    "        \n",
    "    except TclError:\n",
    "        # calculate average frame rate\n",
    "        frame_rate = frame_count / (time.time() - start_time)\n",
    "        \n",
    "        print('stream stopped')\n",
    "        print('average frame rate = {:.0f} FPS'.format(frame_rate))\n",
    "        break\n",
    "\n"
   ]
  },
  {
   "source": [
    "# Record input audio data\n",
    "print(\"* recording\")\n",
    "\n",
    "frames1 = []\n",
    "\n",
    "for i in range(0, int(RATE / CHUNK * RECORD_SECONDS)):\n",
    "    data1 = stream1.read(CHUNK)\n",
    "    frames1.append(data1)\n",
    "\n",
    "print(\"* done recording\")"
   ],
   "cell_type": "markdown",
   "metadata": {}
  },
  {
   "source": [
    "# Stream Stop Process \n",
    "\n",
    "stream1.stop_stream()\n",
    "stream1.close()\n",
    "pa.terminate()          #\n"
   ],
   "cell_type": "code",
   "metadata": {},
   "execution_count": 10,
   "outputs": []
  },
  {
   "source": [
    "# Not really sure what b'' means in BYTE STRING but numpy needs it \n",
    "# just like wave did...\n",
    "framesAll = b''.join(frames1)\n",
    "\n",
    "# Use numpy to format data and reshape.  \n",
    "# PyAudio output from stream.read() is interlaced.\n",
    "result = np.fromstring(framesAll, dtype=np.int16)\n",
    "chunk_length = np.int(len(result) / CH)\n",
    "result = np.reshape(result, (chunk_length, CH))\n"
   ],
   "cell_type": "code",
   "metadata": {},
   "execution_count": null,
   "outputs": []
  },
  {
   "source": [
    "# Write multi-channel .wav file with SciPy\n",
    "pyOssWavfile.write('pyaudio_rec.wav', RATE, result)\n",
    "print(\"* done save wav file\")"
   ],
   "cell_type": "markdown",
   "metadata": {}
  }
 ]
}