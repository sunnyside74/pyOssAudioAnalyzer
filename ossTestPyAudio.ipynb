{
 "metadata": {
  "language_info": {
   "codemirror_mode": {
    "name": "ipython",
    "version": 3
   },
   "file_extension": ".py",
   "mimetype": "text/x-python",
   "name": "python",
   "nbconvert_exporter": "python",
   "pygments_lexer": "ipython3",
   "version": "3.8.5-final"
  },
  "orig_nbformat": 2,
  "kernelspec": {
   "name": "Python 3.8.5 64-bit (conda)",
   "display_name": "Python 3.8.5 64-bit (conda)",
   "metadata": {
    "interpreter": {
     "hash": "048c8faec33ab08d4598d2d1b99f8cd3584737cbeccf00701c017cc95ada948e"
    }
   }
  }
 },
 "nbformat": 4,
 "nbformat_minor": 2,
 "cells": [
  {
   "cell_type": "code",
   "execution_count": 1,
   "metadata": {},
   "outputs": [],
   "source": [
    "'''\n",
    "# 라이브러리 정의\n",
    " - 시스템 라이브러리\n",
    " - 오디오 관련 라이브러리\n",
    " - 연산 및 Plot 관련 라이브러리 \n",
    " - 샤용자 라이브러리\n",
    "'''\n",
    "\n",
    "# Import Systems \n",
    "import struct\n",
    "import io\n",
    "import os\n",
    "import sys\n",
    "import math\n",
    "import platform\n",
    "\n",
    "# Import Audio\n",
    "import pyaudio\n",
    "import sounddevice\n",
    "import librosa\n",
    "import soundfile\n",
    "\n",
    "import numpy as np\n",
    "import scipy\n",
    "import scipy.signal as sig\n",
    "import matplotlib.pyplot as plt\n",
    "\n",
    "# User Libraries\n",
    "import pyOssWavfile\n",
    "import pyRoomAcoustic as room\n",
    "import pyOssDebug as dbg\n",
    "import pyOssFilter\n",
    "import pyOssPyAudio\n"
   ]
  },
  {
   "source": [
    "set_device_type = None\n",
    "\n",
    "if 'darwin' in platform.system():\n",
    "    IDX = pyaudio.paCoreAudio           # = 5\n",
    "elif 'linux' in platform.system():\n",
    "    IDX = pyaudio.paALSA\n",
    "else:\n",
    "    if set_device_type == 'asio':\n",
    "        IDX = pyaudio.paASIO            # = 3\n",
    "    elif set_device_type == 'wasapi':\n",
    "        IDX = pyaudio.paWASAPI          # = 13\n",
    "    elif set_device_type == 'wdm':\n",
    "        IDX = pyaudio.paWDMKS           # = 11\n",
    "    else:\n",
    "        IDX = pyaudio.paMME             # = 2\n",
    "\n",
    "print('Index of Device Type:', IDX)\n",
    "\n",
    "# List of Device Names IDX \n",
    "dev_name = pyOssPyAudio.ju_get_device_name(IDX)\n",
    "print(dev_name)\n"
   ],
   "cell_type": "code",
   "metadata": {},
   "execution_count": 2,
   "outputs": [
    {
     "output_type": "stream",
     "name": "stdout",
     "text": [
      "Index of Device Type: 2\n",
      "['Microsoft 사운드 매퍼 - Input', 'Headset Microphone(Cirrus Logic', 'Internal Microphone(Cirrus Logi', 'Microsoft 사운드 매퍼 - Output', '헤드셋(Cirrus Logic CS8409 (AB 16)', '스피커(Cirrus Logic CS8409 (AB 16)']\n"
     ]
    }
   ]
  },
  {
   "cell_type": "code",
   "execution_count": 4,
   "metadata": {},
   "outputs": [],
   "source": [
    "# 장치선택\n",
    "\n",
    "tgt_dev_in = dev_name[0]\n",
    "tgt_dev_out = dev_name[3]\n",
    "\n",
    "dev_in = pyOssPyAudio.ju_get_device_info(IDX, tgt_dev_in)\n",
    "dev_in_index = dev_in['index']\n",
    "dev_in_name = dev_in['name']\n",
    "dev_in_ch = dev_in['maxInputChannels']\n",
    "dev_in_fs = int(dev_in['defaultSampleRate'])\n",
    "\n",
    "dev_out = pyOssPyAudio.ju_get_device_info(IDX, tgt_dev_out)\n",
    "dev_out_index = dev_out['index']\n",
    "dev_out_name = dev_out['name']\n",
    "dev_out_ch = dev_out['maxInputChannels']\n",
    "dev_out_fs = int(dev_out['defaultSampleRate'])\n"
   ]
  },
  {
   "source": [
    "# ASIO 장치 선택\n",
    "# tgt_asio_dev_name = 'ASIO4ALL v2'\n",
    "tgt_asio_dev_name = 'Yamaha Steinberg USB ASIO'\n",
    "# tgt_asio_dev_name = 'Steinberg USB ASIO'\n",
    "\n",
    "dev_asio = pyOssPyAudio.ju_get_device_info(IDX, tgt_asio_dev_name)\n",
    "\n",
    "dev_asio_index = dev_asio['index']\n",
    "dev_asio_name = dev_asio['name']\n",
    "dev_asio_ch_in = dev_asio['maxInputChannels']\n",
    "dev_asio_fs = dev_asio['defaultSampleRate']\n",
    "\n",
    "print('dev_asio: ', dev_asio)\n",
    "print(dev_asio_index, dev_asio_name, dev_asio_ch_in, dev_asio_fs)\n"
   ],
   "cell_type": "markdown",
   "metadata": {}
  },
  {
   "cell_type": "code",
   "execution_count": null,
   "metadata": {},
   "outputs": [],
   "source": [
    "# Record & save audio data from Mic using ASIO Device\n",
    "\n",
    "pa = pyaudio.PyAudio()\n",
    "\n",
    "FORMAT = pa.get_format_from_width(2)\n",
    "CH = dev_asio_ch_in\n",
    "CHUNK = 1024 \n",
    "RATE = np.int(dev_asio_fs)            # device 정보에서 읽어오면 됨\n",
    "BUFFER = CHUNK * 4\n",
    "RECORD_SECONDS = 10\n",
    "\n",
    "print(pa.is_format_supported(RATE, \n",
    "            input_device=dev_asio_index,\n",
    "            input_channels=CH,\n",
    "            input_format=FORMAT,\n",
    "     ))\n",
    "\n",
    "stream1 = pa.open(\n",
    "    format = FORMAT,\n",
    "    channels = CH,\n",
    "    rate = RATE,\n",
    "    input = True,\n",
    "    output = False,\n",
    "    frames_per_buffer = BUFFER,\n",
    "    input_device_index = dev_asio_index\n",
    ")\n",
    "\n",
    "# stream2 = pa.open(\n",
    "#     format = FORMAT,\n",
    "#     channels = 2,\n",
    "#     rate = RATE,\n",
    "#     input = True,\n",
    "#     output = False,\n",
    "#     frames_per_buffer = BUFFER,\n",
    "#     input_device_index = dev_asio_index\n",
    "# )\n"
   ]
  },
  {
   "source": [
    "# Record input audio data\n",
    "print(\"* recording\")\n",
    "\n",
    "frames1 = []\n",
    "\n",
    "for i in range(0, int(RATE / CHUNK * RECORD_SECONDS)):\n",
    "    data1 = stream1.read(CHUNK)\n",
    "    frames1.append(data1)\n",
    "\n",
    "print(\"* done recording\")"
   ],
   "cell_type": "markdown",
   "metadata": {}
  },
  {
   "source": [
    "# Stream Stop Process \n",
    "\n",
    "stream1.stop_stream()\n",
    "stream1.close()\n",
    "pa.terminate()          #\n"
   ],
   "cell_type": "code",
   "metadata": {},
   "execution_count": null,
   "outputs": []
  },
  {
   "source": [
    "# Not really sure what b'' means in BYTE STRING but numpy needs it \n",
    "# just like wave did...\n",
    "framesAll = b''.join(frames1)\n",
    "\n",
    "# Use numpy to format data and reshape.  \n",
    "# PyAudio output from stream.read() is interlaced.\n",
    "result = np.fromstring(framesAll, dtype=np.int16)\n",
    "chunk_length = np.int(len(result) / CH)\n",
    "result = np.reshape(result, (chunk_length, CH))\n"
   ],
   "cell_type": "markdown",
   "metadata": {}
  },
  {
   "source": [
    "# Write multi-channel .wav file with SciPy\n",
    "pyOssWavfile.write('pyaudio_rec.wav', RATE, result)\n",
    "print(\"* done save wav file\")"
   ],
   "cell_type": "markdown",
   "metadata": {}
  }
 ]
}