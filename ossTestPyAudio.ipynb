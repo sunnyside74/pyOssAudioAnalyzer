{
 "metadata": {
  "language_info": {
   "codemirror_mode": {
    "name": "ipython",
    "version": 3
   },
   "file_extension": ".py",
   "mimetype": "text/x-python",
   "name": "python",
   "nbconvert_exporter": "python",
   "pygments_lexer": "ipython3",
   "version": "3.8.5-final"
  },
  "orig_nbformat": 2,
  "kernelspec": {
   "name": "Python 3.8.5 64-bit (conda)",
   "display_name": "Python 3.8.5 64-bit (conda)",
   "metadata": {
    "interpreter": {
     "hash": "6ad2903d9f8eb78095a8e1054d3b7d96029c25240c1559c5c7674409ebbac066"
    }
   }
  }
 },
 "nbformat": 4,
 "nbformat_minor": 2,
 "cells": [
  {
   "cell_type": "code",
   "execution_count": 1,
   "metadata": {},
   "outputs": [],
   "source": [
    "'''\n",
    "# 라이브러리 정의\n",
    " - 시스템 라이브러리\n",
    " - 오디오 관련 라이브러리\n",
    " - 연산 및 Plot 관련 라이브러리 \n",
    " - 샤용자 라이브러리\n",
    "'''\n",
    "\n",
    "# Import Systems \n",
    "import struct\n",
    "import io\n",
    "import os\n",
    "import sys\n",
    "import math\n",
    "import platform\n",
    "import time\n",
    "\n",
    "# Import Audio\n",
    "import pyaudio\n",
    "import sounddevice\n",
    "import librosa\n",
    "import soundfile\n",
    "\n",
    "import numpy as np\n",
    "import scipy\n",
    "import scipy.signal as sig\n",
    "import matplotlib.pyplot as plt\n",
    "from tkinter import TclError\n",
    "\n",
    "# User Libraries\n",
    "import pyOssWavfile\n",
    "import pyRoomAcoustic as room\n",
    "import pyOssDebug as dbg\n",
    "import pyOssFilter\n",
    "import pyOssPyAudio\n",
    "\n",
    "%matplotlib tk\n"
   ]
  },
  {
   "source": [
    "set_device_type = 'asio'\n",
    "\n",
    "if 'darwin' in platform.system():\n",
    "    IDX = pyaudio.paCoreAudio           # = 5\n",
    "elif 'linux' in platform.system():\n",
    "    IDX = pyaudio.paALSA\n",
    "else:\n",
    "    if set_device_type == 'asio':\n",
    "        IDX = pyaudio.paASIO            # = 3\n",
    "    elif set_device_type == 'wasapi':\n",
    "        IDX = pyaudio.paWASAPI          # = 13\n",
    "    elif set_device_type == 'wdm':\n",
    "        IDX = pyaudio.paWDMKS           # = 11\n",
    "    else:\n",
    "        IDX = pyaudio.paMME             # = 2\n",
    "\n",
    "print('Index of Device Type:', IDX)\n",
    "\n",
    "# List of Device Names IDX \n",
    "dev_name = pyOssPyAudio.ju_get_device_name(IDX)\n",
    "print(dev_name)\n"
   ],
   "cell_type": "code",
   "metadata": {},
   "execution_count": 3,
   "outputs": [
    {
     "output_type": "stream",
     "name": "stdout",
     "text": [
      "Index of Device Type: 3\n['ASIO4ALL v2', 'Yamaha Steinberg USB ASIO']\n"
     ]
    }
   ]
  },
  {
   "source": [
    "# 장치선택: Windows MME\n",
    "\n",
    "tgt_dev_in = dev_name[0]        # Microsoft 사운드 매퍼 - Input\n",
    "tgt_dev_out = dev_name[2]       # Microsoft 사운드 매퍼 - Output\n",
    "\n",
    "dev_in = pyOssPyAudio.ju_get_device_info(IDX, tgt_dev_in)\n",
    "st_dev_in = pyOssPyAudio.CAudioDeviceInfo()\n",
    "\n",
    "st_dev_in.index = dev_in['index']\n",
    "st_dev_in.name = dev_in['name']\n",
    "st_dev_in.maxInCh = dev_in['maxInputChannels']\n",
    "st_dev_in.maxOutCh = dev_in['maxOutputChannels']\n",
    "st_dev_in.fs = int(dev_in['defaultSampleRate'])\n",
    "\n",
    "# dev_in_index = dev_in['index']\n",
    "# dev_in_name = dev_in['name']\n",
    "# dev_in_ch = dev_in['maxInputChannels']\n",
    "# dev_in_fs = int(dev_in['defaultSampleRate'])\n",
    "\n",
    "dev_out = pyOssPyAudio.ju_get_device_info(IDX, tgt_dev_out)\n",
    "st_dev_out = pyOssPyAudio.CAudioDeviceInfo()\n",
    "\n",
    "st_dev_out.index = dev_out['index']\n",
    "st_dev_out.name = dev_out['name']\n",
    "st_dev_out.maxInCh = dev_out['maxInputChannels']\n",
    "st_dev_out.maxOutCh = dev_out['maxOutputChannels']\n",
    "st_dev_out.fs = int(dev_out['defaultSampleRate'])\n"
   ],
   "cell_type": "markdown",
   "metadata": {}
  },
  {
   "source": [
    "# 장치 선택: ASIO\n",
    "# tgt_asio_dev_name = 'ASIO4ALL v2'\n",
    "tgt_asio_dev_name = 'Yamaha Steinberg USB ASIO'\n",
    "# tgt_asio_dev_name = 'Focusrite USB ASIO'\n",
    "\n",
    "dev_asio = pyOssPyAudio.ju_get_device_info(IDX, tgt_asio_dev_name)\n",
    "st_dev_asio = pyOssPyAudio.CAudioDeviceInfo(dev_asio)\n",
    "\n",
    "print('dev_asio: ', dev_asio)\n",
    "print(st_dev_asio.index, st_dev_asio.name, st_dev_asio.maxInCh, st_dev_asio.maxOutCh, st_dev_asio.fs)\n"
   ],
   "cell_type": "code",
   "metadata": {},
   "execution_count": 4,
   "outputs": [
    {
     "output_type": "stream",
     "name": "stdout",
     "text": [
      "dev_asio:  {'index': 17, 'structVersion': 2, 'name': 'Yamaha Steinberg USB ASIO', 'hostApi': 2, 'maxInputChannels': 6, 'maxOutputChannels': 6, 'defaultLowInputLatency': 0.011609977324263039, 'defaultLowOutputLatency': 0.011609977324263039, 'defaultHighInputLatency': 0.011609977324263039, 'defaultHighOutputLatency': 0.011609977324263039, 'defaultSampleRate': 44100.0}\n17 Yamaha Steinberg USB ASIO 6 6 44100\n"
     ]
    }
   ]
  },
  {
   "cell_type": "code",
   "execution_count": null,
   "metadata": {},
   "outputs": [],
   "source": [
    "# Record & save audio data from Mic using ASIO Device\n",
    "\n",
    "pa = pyaudio.PyAudio()\n",
    "\n",
    "FORMAT = pa.get_format_from_width(2)\n",
    "CH = st_dev_asio.maxInCh\n",
    "# CH = st_dev_in.maxInCh\n",
    "# CH = 1\n",
    "# CH = 2\n",
    "CHUNK = 1024 * 2\n",
    "RATE = st_dev_asio.fs            # device 정보에서 읽어오면 됨\n",
    "BUFFER = CHUNK * 2 * CH\n",
    "RECORD_SECONDS = 10\n",
    "\n",
    "print(pa.is_format_supported(RATE, \n",
    "            # input_device=dev_asio_index,\n",
    "            input_device = st_dev_asio.index,\n",
    "            input_channels=CH,\n",
    "            input_format=FORMAT,\n",
    "     ))\n",
    "\n",
    "stream1 = pa.open(\n",
    "    format = FORMAT,\n",
    "    channels = CH,\n",
    "    rate = RATE,\n",
    "    input = True,\n",
    "    output = False,\n",
    "    frames_per_buffer = BUFFER,\n",
    "    input_device_index = st_dev_asio.index\n",
    "    )\n",
    "\n",
    "# stream2 = pa.open(\n",
    "#     format = FORMAT,\n",
    "#     channels = 2,\n",
    "#     rate = RATE,\n",
    "#     input = True,\n",
    "#     output = False,\n",
    "#     frames_per_buffer = BUFFER,\n",
    "#     input_device_index = dev_asio_index\n",
    "# )\n"
   ]
  },
  {
   "cell_type": "code",
   "execution_count": null,
   "metadata": {},
   "outputs": [],
   "source": [
    "# create matplotlib figure and axes\n",
    "fig, ax = plt.subplots(1, figsize=(15, 7))\n",
    "\n",
    "# variable for plotting\n",
    "x = np.arange(0, 2 * CHUNK, 2)\n",
    "\n",
    "# create a line object with random data\n",
    "line, = ax.plot(x, np.random.rand(CHUNK), '-', lw=2)\n",
    "\n",
    "# basic formatting for the axes\n",
    "ax.set_title('AUDIO WAVEFORM')\n",
    "ax.set_xlabel('samples')\n",
    "ax.set_ylabel('volume')\n",
    "# ax.set_ylim(0, 256)\n",
    "ax.set_ylim(-128, 128)\n",
    "ax.set_xlim(0, 2 * CHUNK)\n",
    "# plt.setp(ax, xticks=[0, CHUNK, 2 * CHUNK], yticks=[0, 128, 255])\n",
    "plt.setp(ax, xticks=[0, CHUNK, 2 * CHUNK], yticks=[-128, 0, 128])\n",
    "\n",
    "# show the plot\n",
    "plt.show(block=False)\n",
    "\n",
    "print('stream started')\n",
    "\n",
    "# for measuring frame rate\n",
    "frame_count = 0\n",
    "start_time = time.time()\n",
    "sel_ch = 1\n",
    "\n",
    "while True:\n",
    "    # binary data\n",
    "    # data = stream1.read(CHUNK, exception_on_overflow=False)\n",
    "    data = np.fromstring(stream1.read(CHUNK, exception_on_overflow=False), dtype=np.int16)\n",
    "    # convert data to integers, make np array, then offset it by 127\n",
    "    # data_int = struct.unpack(str(2 * CHUNK) + 'B', data)\n",
    "    # data_int = struct.unpack(str(2 * CHUNK) + 'B', data)\n",
    "    \n",
    "    # create np array and offset by 128\n",
    "    # data_np = np.array(data_int, dtype='b')[::2] + 128\n",
    "    chunk_length = np.int(len(data) / CH)\n",
    "    data_temp = np.reshape(data, (chunk_length, CH))\n",
    "    data_np = data_temp[:,sel_ch]\n",
    "\n",
    "    line.set_ydata(data_np)\n",
    "    \n",
    "    # update figure canvas\n",
    "    try:\n",
    "        fig.canvas.draw()\n",
    "        fig.canvas.flush_events()\n",
    "        frame_count += 1\n",
    "        \n",
    "    except TclError:\n",
    "        # calculate average frame rate\n",
    "        frame_rate = frame_count / (time.time() - start_time)\n",
    "        \n",
    "        print('stream stopped')\n",
    "        print('average frame rate = {:.0f} FPS'.format(frame_rate))\n",
    "        break\n",
    "\n"
   ]
  },
  {
   "source": [
    "# Record input audio data\n",
    "print(\"* recording\")\n",
    "\n",
    "frames1 = []\n",
    "\n",
    "for i in range(0, int(RATE / CHUNK * RECORD_SECONDS)):\n",
    "    data1 = stream1.read(CHUNK)\n",
    "    frames1.append(data1)\n",
    "\n",
    "print(\"* done recording\")"
   ],
   "cell_type": "markdown",
   "metadata": {}
  },
  {
   "source": [
    "# Stream Stop Process \n",
    "\n",
    "stream1.stop_stream()\n",
    "stream1.close()\n",
    "pa.terminate()          #\n"
   ],
   "cell_type": "code",
   "metadata": {},
   "execution_count": null,
   "outputs": []
  },
  {
   "source": [
    "# Not really sure what b'' means in BYTE STRING but numpy needs it \n",
    "# just like wave did...\n",
    "framesAll = b''.join(frames1)\n",
    "\n",
    "# Use numpy to format data and reshape.  \n",
    "# PyAudio output from stream.read() is interlaced.\n",
    "result = np.fromstring(framesAll, dtype=np.int16)\n",
    "chunk_length = np.int(len(result) / CH)\n",
    "result = np.reshape(result, (chunk_length, CH))\n"
   ],
   "cell_type": "markdown",
   "metadata": {}
  },
  {
   "source": [
    "# Write multi-channel .wav file with SciPy\n",
    "pyOssWavfile.write('pyaudio_rec.wav', RATE, result)\n",
    "print(\"* done save wav file\")"
   ],
   "cell_type": "markdown",
   "metadata": {}
  }
 ]
}