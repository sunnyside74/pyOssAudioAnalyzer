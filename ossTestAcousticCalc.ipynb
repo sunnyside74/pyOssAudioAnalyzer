{
 "metadata": {
  "language_info": {
   "codemirror_mode": {
    "name": "ipython",
    "version": 3
   },
   "file_extension": ".py",
   "mimetype": "text/x-python",
   "name": "python",
   "nbconvert_exporter": "python",
   "pygments_lexer": "ipython3",
   "version": "3.8.5-final"
  },
  "orig_nbformat": 2,
  "kernelspec": {
   "name": "python3",
   "display_name": "Python 3.8.5 64-bit (conda)",
   "metadata": {
    "interpreter": {
     "hash": "6ad2903d9f8eb78095a8e1054d3b7d96029c25240c1559c5c7674409ebbac066"
    }
   }
  }
 },
 "nbformat": 4,
 "nbformat_minor": 2,
 "cells": [
  {
   "source": [
    "# Test for Calculating Room Acoustic Parameter\n",
    "- using module 'pyRoomAcoustic'\n"
   ],
   "cell_type": "markdown",
   "metadata": {}
  },
  {
   "cell_type": "code",
   "execution_count": 1,
   "metadata": {},
   "outputs": [],
   "source": [
    "'''\n",
    "# 라이브러리 정의\n",
    " - 시스템 라이브러리\n",
    " - 오디오 관련 라이브러리\n",
    " - 연산 및 Plot 관련 라이브러리 \n",
    " - 샤용자 라이브러리\n",
    "'''\n",
    "\n",
    "# Import Systems \n",
    "import struct\n",
    "import io\n",
    "import os\n",
    "import sys\n",
    "import time\n",
    "import platform\n",
    "\n",
    "# Import Audio\n",
    "import pyaudio\n",
    "import librosa\n",
    "import soundfile\n",
    "\n",
    "import numpy as np\n",
    "import scipy.signal as sig\n",
    "import matplotlib.pyplot as plt\n",
    "\n",
    "# User Libraries\n",
    "import pyOssWavfile\n",
    "import pyRoomAcoustic as room\n",
    "import pyOssDebug as dbg\n",
    "\n"
   ]
  },
  {
   "cell_type": "code",
   "execution_count": 2,
   "metadata": {},
   "outputs": [
    {
     "output_type": "stream",
     "name": "stdout",
     "text": [
      "Windows\nnt\nwin32\n"
     ]
    }
   ],
   "source": [
    "#\n",
    "str_os_system = platform.system()\n",
    "print(str_os_system)\n",
    "print(os.name)\n",
    "print(sys.platform)"
   ]
  },
  {
   "cell_type": "code",
   "execution_count": 3,
   "metadata": {
    "tags": []
   },
   "outputs": [],
   "source": [
    "# Path of impulsefiles folder\n",
    "# impulse_dir = os.path.join(os.getcwd(), 'impulsefiles')\n",
    "impulse_dir = os.path.join(os.getcwd(), 'ju_impulse')\n",
    "\n",
    "# Define wave file name text to open\n",
    "# Path + wave file name\n",
    "\n",
    "# IMPULSE WAVE FILE\n",
    "# wav_fname_impulse = \"TyndallBruceMonument.wav\"\n",
    "# wav_fname_impulse = \"ElvedenHallMarbleHall.wav'\"\n",
    "# wav_fname_impulse = \"EmptyApartmentBedroom.wav\"\n",
    "# wav_fname_impulse = \"FalklandPalaceRoyalTennisCourt.wav\"\n",
    "# wav_fname_impulse = \"InsidePiano.wav\"\n",
    "# wav_fname_impulse = \"MaesHowe.wav\"\n",
    "# wav_fname_impulse = \"SportsCentreUniversityOfYork.wav\"\n",
    "# wav_fname_impulse = \"StairwayUniversityOfYork.wav\"\n",
    "# wav_fname_impulse = \"StAndrewsChurch.wav\"\n",
    "# wav_fname_impulse = \"mh3_000_ortf_48k.wav\"\n",
    "\n",
    "wav_fname_impulse = \"Impulse_201125_JU_SoundLab_Ori_mono_48k_32i.wav\"\n",
    "# wav_fname_impulse = \"Impulse_201125_JU_SoundLab_Aram_mono_48k_32i.wav\"\n",
    "# wav_fname_impulse = \"Impulse_201125_JU_SoundLab_Sejong_mono_48k_32i.wav\"\n",
    "# wav_fname_impulse = \"Impulse_201125_JU_SoundLab_Daegu_mono_48k_32i.wav\"\n",
    "\n",
    "impulse_fname = os.path.join(impulse_dir, wav_fname_impulse)\n",
    "\n",
    "#print(impulse_fname)"
   ]
  },
  {
   "cell_type": "code",
   "execution_count": 4,
   "metadata": {
    "tags": []
   },
   "outputs": [
    {
     "output_type": "stream",
     "name": "stdout",
     "text": [
      "Audio Format = 1\nNumber of Channel = 1\nSampling Frequency = 48000\nByte Rate = 96000\nBlock Align = 2\nBits per Sample = 16\nTime = 5.461333333333333 sec\nLength =  262144\n"
     ]
    },
    {
     "output_type": "error",
     "ename": "IndexError",
     "evalue": "too many indices for array: array is 1-dimensional, but 2 were indexed",
     "traceback": [
      "\u001b[1;31m---------------------------------------------------------------------------\u001b[0m",
      "\u001b[1;31mIndexError\u001b[0m                                Traceback (most recent call last)",
      "\u001b[1;32m<ipython-input-4-d2053953047c>\u001b[0m in \u001b[0;36m<module>\u001b[1;34m\u001b[0m\n\u001b[0;32m     21\u001b[0m \u001b[1;33m\u001b[0m\u001b[0m\n\u001b[0;32m     22\u001b[0m \u001b[1;31m# Plot loaded wave file\u001b[0m\u001b[1;33m\u001b[0m\u001b[1;33m\u001b[0m\u001b[1;33m\u001b[0m\u001b[0m\n\u001b[1;32m---> 23\u001b[1;33m \u001b[0mdbg\u001b[0m\u001b[1;33m.\u001b[0m\u001b[0mdPlotAudio\u001b[0m\u001b[1;33m(\u001b[0m\u001b[0mimpulse_struct_fmt\u001b[0m\u001b[1;33m.\u001b[0m\u001b[0mfs\u001b[0m\u001b[1;33m,\u001b[0m \u001b[0mimpulse_data\u001b[0m\u001b[1;33m[\u001b[0m\u001b[1;33m:\u001b[0m\u001b[1;33m,\u001b[0m\u001b[1;36m0\u001b[0m\u001b[1;33m]\u001b[0m\u001b[1;33m,\u001b[0m \u001b[0mimpulse_fname\u001b[0m\u001b[1;33m,\u001b[0m \u001b[1;34m\"Left Channel\"\u001b[0m\u001b[1;33m,\u001b[0m \u001b[1;34m\"Time(sec)\"\u001b[0m\u001b[1;33m,\u001b[0m \u001b[1;34m\"Amplitude\"\u001b[0m\u001b[1;33m)\u001b[0m\u001b[1;33m\u001b[0m\u001b[1;33m\u001b[0m\u001b[0m\n\u001b[0m\u001b[0;32m     24\u001b[0m \u001b[1;31m#dbg.dPlotAudio(ossWav_fs, np.int16(ossWav_data[:,0] * 32767), audio_fname, \"Left Channel\", \"Time(sec)\", \"Amplitude\")\u001b[0m\u001b[1;33m\u001b[0m\u001b[1;33m\u001b[0m\u001b[1;33m\u001b[0m\u001b[0m\n\u001b[0;32m     25\u001b[0m \u001b[1;33m\u001b[0m\u001b[0m\n",
      "\u001b[1;31mIndexError\u001b[0m: too many indices for array: array is 1-dimensional, but 2 were indexed"
     ]
    }
   ],
   "source": [
    "# Read .wav file using pyOssWavfile.read() & Extract .wav file header information\n",
    "\n",
    "impulse_fmt_chunk = pyOssWavfile.read_format(impulse_fname)\n",
    "impulse_struct_fmt = pyOssWavfile.extractWavFmtChunk(impulse_fmt_chunk)\n",
    "\n",
    "if impulse_struct_fmt.bitdepth == 24:        # Bitdepth가 24bit일 때는 pysoundfile을 이용하여 wav data를 불러옴\n",
    "    impulse_data, impulse_struct_fmt.fs = soundfile.read(impulse_fname)\n",
    "else:                                    # 그 외에는 scipy.io.wavfile을 수정한 함수 pyOssWavfile을 이용하여 wav data를 불러옴\n",
    "    impulse_fmt_chunk, impulse_data, impulse_length = pyOssWavfile.read(impulse_fname)\n",
    "\n",
    "impulse_time = impulse_data.shape[0] / impulse_struct_fmt.fs\n",
    "\n",
    "print(\"Audio Format =\", impulse_struct_fmt.format)\n",
    "print(\"Number of Channel =\", impulse_struct_fmt.ch)\n",
    "print(\"Sampling Frequency =\", impulse_struct_fmt.fs)\n",
    "print(\"Byte Rate =\", impulse_struct_fmt.byterate)       # 일종의 Checksum \n",
    "print(\"Block Align =\", impulse_struct_fmt.blockalign)\n",
    "print(\"Bits per Sample =\", impulse_struct_fmt.bitdepth)\n",
    "print(\"Time =\", impulse_time, \"sec\")\n",
    "print(\"Length = \", impulse_data.shape[0])\n",
    "\n",
    "# Plot loaded wave file\n",
    "# dbg.dPlotAudio(impulse_struct_fmt.fs, impulse_data[:,0], impulse_fname, \"Left Channel\", \"Time(sec)\", \"Amplitude\")\n",
    "# dbg.dPlotAudio(ossWav_fs, np.int16(ossWav_data[:,0] * 32767), audio_fname, \"Left Channel\", \"Time(sec)\", \"Amplitude\")\n",
    "dbg.dPlotAudio(impulse_struct_fmt.fs, impulse_data, impulse_fname, \"Left Channel\", \"Time(sec)\", \"Amplitude\")\n",
    "\n"
   ]
  },
  {
   "cell_type": "code",
   "execution_count": null,
   "metadata": {
    "tags": []
   },
   "outputs": [],
   "source": [
    "# Calculate normalized decay curve\n",
    "impulse_decaycurve = room.decayCurve(impulse_data[:,0], impulse_time, impulse_struct_fmt.fs)\n",
    "dbg.dPlotAudio(impulse_struct_fmt.fs, impulse_decaycurve, impulse_fname, \"Normalized Decay Curve\", \"Time(sec)\", \"Amplitude\")\n",
    "\n",
    "# Calculate RT60 (-5 ~ -65dB)\n",
    "impulse_rt60, impulse_rt60nonLin = room.RT60(impulse_decaycurve, impulse_struct_fmt.fs) \n",
    "print(\"impulse_RT60=\", impulse_rt60, \"impulse_RT60 nonLin=\", impulse_rt60nonLin)            # for Debug\n",
    "\n",
    "# Calculate EDT(T10 x 6) & T10(0 ~ -10dB) \n",
    "impulse_EDT, impulse_EDTnonLin = room.EDT(impulse_decaycurve, impulse_struct_fmt.fs)\n",
    "print(\"impulse_EDT=\", impulse_EDT, \"impulse_EDT nonLin=\", impulse_EDTnonLin)            # for Debug\n",
    "print(\"impulse_T10=\", impulse_EDT/6, \"impulse_T10 nonLin=EDT=\", impulse_EDTnonLin)      # for Debug\n",
    "\n",
    "# Calculate T20 (-5 ~ -25dB)\n",
    "impulse_t20, impulse_t20nonLin = room.T20(impulse_decaycurve, impulse_struct_fmt.fs)\n",
    "print(\"impulse_T20=\", impulse_t20, \", impulse_T20 nonLin=\", impulse_t20nonLin)          # for Debug\n",
    "\n",
    "# Calculate T30 (-5 ~ -35dB) RT60 = T30 x 2\n",
    "impulse_t30, impulse_t30nonLin = room.T30(impulse_decaycurve, impulse_struct_fmt.fs)\n",
    "print(\"impulse_T30=\", impulse_t30, \", impulse_T30 nonLin=\", impulse_t30nonLin)          # for Debug\n"
   ]
  },
  {
   "cell_type": "code",
   "execution_count": null,
   "metadata": {
    "tags": []
   },
   "outputs": [],
   "source": [
    "# Calculate C50, C80, D80\n",
    "\n",
    "# C50\n",
    "# ossWav_C50 = room.C50(ossWav_data[:,0], ossWav_fs)\n",
    "# print(\"ossWav_C50=\", ossWav_C50)         # for Debug\n",
    "impulse_C50_float32 = room.C50(impulse_data[:,0], impulse_struct_fmt.fs)\n",
    "print(\"impulse_C50_float=\", impulse_C50_float32)         # for Debug\n",
    "impulse_C50_int16 = room.C50(np.int16(impulse_data[:,0] * (2**15-1)), impulse_struct_fmt.fs)\n",
    "print(\"impulse_C50_int=\", impulse_C50_int16)         # for Debug\n",
    "\n",
    "# C80\n",
    "impulse_C80 = room.C80(impulse_data[:,0], impulse_struct_fmt.fs)\n",
    "print(\"impulse_C80=\", impulse_C80)         # for Debug\n",
    "\n",
    "# D50 \n",
    "impulse_D50 = room.D50(impulse_data[:,0], impulse_struct_fmt.fs)\n",
    "print(\"impulse_D50=\", impulse_D50)         # for Debug\n",
    "\n"
   ]
  },
  {
   "cell_type": "code",
   "execution_count": null,
   "metadata": {},
   "outputs": [],
   "source": []
  }
 ]
}