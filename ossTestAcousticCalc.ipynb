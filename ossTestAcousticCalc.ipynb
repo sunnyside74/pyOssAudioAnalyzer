{
 "metadata": {
  "language_info": {
   "codemirror_mode": {
    "name": "ipython",
    "version": 3
   },
   "file_extension": ".py",
   "mimetype": "text/x-python",
   "name": "python",
   "nbconvert_exporter": "python",
   "pygments_lexer": "ipython3",
   "version": "3.8.5-final"
  },
  "orig_nbformat": 2,
  "kernelspec": {
   "name": "Python 3.8.5 64-bit ('base': conda)",
   "display_name": "Python 3.8.5 64-bit ('base': conda)",
   "metadata": {
    "interpreter": {
     "hash": "687999c83c8f969a2cbef219c08527671fa3fea45877bfc0649f52a45cd4a80c"
    }
   }
  }
 },
 "nbformat": 4,
 "nbformat_minor": 2,
 "cells": [
  {
   "source": [
    "# Test for Calculating Room Acoustic Parameter\n",
    "- using module 'pyRoomAcoustic'\n"
   ],
   "cell_type": "markdown",
   "metadata": {}
  },
  {
   "cell_type": "code",
   "execution_count": 1,
   "metadata": {},
   "outputs": [],
   "source": [
    "'''\n",
    "# 라이브러리 정의\n",
    " - 시스템 라이브러리\n",
    " - 오디오 관련 라이브러리\n",
    " - 연산 및 Plot 관련 라이브러리 \n",
    " - 샤용자 라이브러리\n",
    "'''\n",
    "\n",
    "# Import Systems \n",
    "import struct\n",
    "import io\n",
    "import os\n",
    "import sys\n",
    "import time\n",
    "import platform\n",
    "\n",
    "# Import Audio\n",
    "import wave\n",
    "import pyaudio\n",
    "import librosa as rosa\n",
    "import soundfile\n",
    "\n",
    "import numpy as np\n",
    "from scipy.io import wavfile\n",
    "import scipy.signal as sig\n",
    "import matplotlib.pyplot as plt\n",
    "\n",
    "# User Libraries\n",
    "import pyOssWavfile\n",
    "import pyRoomAcoustic as room\n",
    "import pyOssDebug as dbg\n",
    "\n"
   ]
  },
  {
   "cell_type": "code",
   "execution_count": 2,
   "metadata": {
    "tags": []
   },
   "outputs": [
    {
     "output_type": "stream",
     "name": "stdout",
     "text": [
      "Windows\nnt\nwin32\nc:\\Users\\iMacPC\\Documents\\workspace_py\\pyOssAudioAnalyzer\\impulsefiles\\mh3_000_ortf_48k.wav\n"
     ]
    }
   ],
   "source": [
    "#\n",
    "str_os_system = platform.system()\n",
    "print(str_os_system)\n",
    "print(os.name)\n",
    "print(sys.platform)\n",
    "\n",
    "# Path of audiofiles folder\n",
    "impulse_dir = os.path.join(os.getcwd(), 'impulsefiles')\n",
    "\n",
    "# Define wave file name text to open\n",
    "# Path + wave file name\n",
    "\n",
    "# IMPULSE WAVE FILE\n",
    "#wav_fname_impulse = \"TyndallBruceMonument.wav\"\n",
    "#wav_fname_impulse = \"ElvedenHallMarbleHall.wav'\"\n",
    "#wav_fname_impulse = \"EmptyApartmentBedroom.wav\"\n",
    "#wav_fname_impulse = \"FalklandPalaceRoyalTennisCourt.wav\"\n",
    "#wav_fname_impulse = \"InsidePiano.wav\"\n",
    "#wav_fname_impulse = \"MaesHowe.wav\"\n",
    "#wav_fname_impulse = \"SportsCentreUniversityOfYork.wav\"\n",
    "#wav_fname_impulse = \"StairwayUniversityOfYork.wav\"\n",
    "#wav_fname_impulse = \"StAndrewsChurch.wav\"\n",
    "wav_fname_impulse = \"mh3_000_ortf_48k.wav\"\n",
    "\n",
    "# TEST AUDIO WAVE FILE\n",
    "#wav_fname_audio = \"adult_female_speech.wav\"\n",
    "#wav_fname_audio = \"bagpipe_music.wav\"\n",
    "#wav_fname_audio = \"bagpipe_steady_chord.wav\"\n",
    "#wav_fname_audio = \"flute_arpeggio.wav\"\n",
    "#wav_fname_audio = \"flute_music.wav\"\n",
    "#wav_fname_audio = \"tuba_arpeggio.wav\"\n",
    "#wav_fname_audio = \"tuba_music.wav\"\n",
    "\n",
    "impulse_fname = os.path.join(impulse_dir, wav_fname_impulse)\n",
    "\n",
    "print(impulse_fname)"
   ]
  },
  {
   "cell_type": "code",
   "execution_count": 3,
   "metadata": {
    "tags": []
   },
   "outputs": [
    {
     "output_type": "error",
     "ename": "AttributeError",
     "evalue": "cffi library 'C:\\Users\\iMacPC\\anaconda3\\Library\\bin\\sndfile.dll' has no function, constant or global variable named 'sf_wchar_open'",
     "traceback": [
      "\u001b[1;31m---------------------------------------------------------------------------\u001b[0m",
      "\u001b[1;31mAttributeError\u001b[0m                            Traceback (most recent call last)",
      "\u001b[1;32m<ipython-input-3-7d84c9dbc2a0>\u001b[0m in \u001b[0;36m<module>\u001b[1;34m\u001b[0m\n\u001b[0;32m      5\u001b[0m \u001b[1;33m\u001b[0m\u001b[0m\n\u001b[0;32m      6\u001b[0m \u001b[1;32mif\u001b[0m \u001b[0mimpulse_struct_fmt\u001b[0m\u001b[1;33m.\u001b[0m\u001b[0mbitdepth\u001b[0m \u001b[1;33m==\u001b[0m \u001b[1;36m24\u001b[0m\u001b[1;33m:\u001b[0m        \u001b[1;31m# Bitdepth가 24bit일 때는 pysoundfile을 이용하여 wav data를 불러옴\u001b[0m\u001b[1;33m\u001b[0m\u001b[1;33m\u001b[0m\u001b[0m\n\u001b[1;32m----> 7\u001b[1;33m     \u001b[0mimpulse_data\u001b[0m\u001b[1;33m,\u001b[0m \u001b[0mimpulse_struct_fmt\u001b[0m\u001b[1;33m.\u001b[0m\u001b[0mfs\u001b[0m \u001b[1;33m=\u001b[0m \u001b[0msoundfile\u001b[0m\u001b[1;33m.\u001b[0m\u001b[0mread\u001b[0m\u001b[1;33m(\u001b[0m\u001b[0mimpulse_fname\u001b[0m\u001b[1;33m)\u001b[0m\u001b[1;33m\u001b[0m\u001b[1;33m\u001b[0m\u001b[0m\n\u001b[0m\u001b[0;32m      8\u001b[0m \u001b[1;32melse\u001b[0m\u001b[1;33m:\u001b[0m                                       \u001b[1;31m# 그 외에는 scipy.io.wavfile을 수정한 함수 pyOssWavfile을 이용하여 wav data를 불러옴\u001b[0m\u001b[1;33m\u001b[0m\u001b[1;33m\u001b[0m\u001b[0m\n\u001b[0;32m      9\u001b[0m     \u001b[0mimpulse_fmt_chunk\u001b[0m\u001b[1;33m,\u001b[0m \u001b[0mimpulse_data\u001b[0m\u001b[1;33m,\u001b[0m \u001b[0mimpulse_length\u001b[0m \u001b[1;33m=\u001b[0m \u001b[0mpyOssWavfile\u001b[0m\u001b[1;33m.\u001b[0m\u001b[0mread\u001b[0m\u001b[1;33m(\u001b[0m\u001b[0mimpulse_fname\u001b[0m\u001b[1;33m)\u001b[0m\u001b[1;33m\u001b[0m\u001b[1;33m\u001b[0m\u001b[0m\n",
      "\u001b[1;32m~\\anaconda3\\lib\\site-packages\\soundfile.py\u001b[0m in \u001b[0;36mread\u001b[1;34m(file, frames, start, stop, dtype, always_2d, fill_value, out, samplerate, channels, format, subtype, endian, closefd)\u001b[0m\n\u001b[0;32m    254\u001b[0m \u001b[1;33m\u001b[0m\u001b[0m\n\u001b[0;32m    255\u001b[0m     \"\"\"\n\u001b[1;32m--> 256\u001b[1;33m     with SoundFile(file, 'r', samplerate, channels,\n\u001b[0m\u001b[0;32m    257\u001b[0m                    subtype, endian, format, closefd) as f:\n\u001b[0;32m    258\u001b[0m         \u001b[0mframes\u001b[0m \u001b[1;33m=\u001b[0m \u001b[0mf\u001b[0m\u001b[1;33m.\u001b[0m\u001b[0m_prepare_read\u001b[0m\u001b[1;33m(\u001b[0m\u001b[0mstart\u001b[0m\u001b[1;33m,\u001b[0m \u001b[0mstop\u001b[0m\u001b[1;33m,\u001b[0m \u001b[0mframes\u001b[0m\u001b[1;33m)\u001b[0m\u001b[1;33m\u001b[0m\u001b[1;33m\u001b[0m\u001b[0m\n",
      "\u001b[1;32m~\\anaconda3\\lib\\site-packages\\soundfile.py\u001b[0m in \u001b[0;36m__init__\u001b[1;34m(self, file, mode, samplerate, channels, subtype, endian, format, closefd)\u001b[0m\n\u001b[0;32m    625\u001b[0m         self._info = _create_info_struct(file, mode, samplerate, channels,\n\u001b[0;32m    626\u001b[0m                                          format, subtype, endian)\n\u001b[1;32m--> 627\u001b[1;33m         \u001b[0mself\u001b[0m\u001b[1;33m.\u001b[0m\u001b[0m_file\u001b[0m \u001b[1;33m=\u001b[0m \u001b[0mself\u001b[0m\u001b[1;33m.\u001b[0m\u001b[0m_open\u001b[0m\u001b[1;33m(\u001b[0m\u001b[0mfile\u001b[0m\u001b[1;33m,\u001b[0m \u001b[0mmode_int\u001b[0m\u001b[1;33m,\u001b[0m \u001b[0mclosefd\u001b[0m\u001b[1;33m)\u001b[0m\u001b[1;33m\u001b[0m\u001b[1;33m\u001b[0m\u001b[0m\n\u001b[0m\u001b[0;32m    628\u001b[0m         \u001b[1;32mif\u001b[0m \u001b[0mset\u001b[0m\u001b[1;33m(\u001b[0m\u001b[0mmode\u001b[0m\u001b[1;33m)\u001b[0m\u001b[1;33m.\u001b[0m\u001b[0missuperset\u001b[0m\u001b[1;33m(\u001b[0m\u001b[1;34m'r+'\u001b[0m\u001b[1;33m)\u001b[0m \u001b[1;32mand\u001b[0m \u001b[0mself\u001b[0m\u001b[1;33m.\u001b[0m\u001b[0mseekable\u001b[0m\u001b[1;33m(\u001b[0m\u001b[1;33m)\u001b[0m\u001b[1;33m:\u001b[0m\u001b[1;33m\u001b[0m\u001b[1;33m\u001b[0m\u001b[0m\n\u001b[0;32m    629\u001b[0m             \u001b[1;31m# Move write position to 0 (like in Python file objects)\u001b[0m\u001b[1;33m\u001b[0m\u001b[1;33m\u001b[0m\u001b[1;33m\u001b[0m\u001b[0m\n",
      "\u001b[1;32m~\\anaconda3\\lib\\site-packages\\soundfile.py\u001b[0m in \u001b[0;36m_open\u001b[1;34m(self, file, mode_int, closefd)\u001b[0m\n\u001b[0;32m   1168\u001b[0m             \u001b[1;32mif\u001b[0m \u001b[0misinstance\u001b[0m\u001b[1;33m(\u001b[0m\u001b[0mfile\u001b[0m\u001b[1;33m,\u001b[0m \u001b[0m_unicode\u001b[0m\u001b[1;33m)\u001b[0m\u001b[1;33m:\u001b[0m\u001b[1;33m\u001b[0m\u001b[1;33m\u001b[0m\u001b[0m\n\u001b[0;32m   1169\u001b[0m                 \u001b[1;32mif\u001b[0m \u001b[0m_sys\u001b[0m\u001b[1;33m.\u001b[0m\u001b[0mplatform\u001b[0m \u001b[1;33m==\u001b[0m \u001b[1;34m'win32'\u001b[0m\u001b[1;33m:\u001b[0m\u001b[1;33m\u001b[0m\u001b[1;33m\u001b[0m\u001b[0m\n\u001b[1;32m-> 1170\u001b[1;33m                     \u001b[0mopenfunction\u001b[0m \u001b[1;33m=\u001b[0m \u001b[0m_snd\u001b[0m\u001b[1;33m.\u001b[0m\u001b[0msf_wchar_open\u001b[0m\u001b[1;33m\u001b[0m\u001b[1;33m\u001b[0m\u001b[0m\n\u001b[0m\u001b[0;32m   1171\u001b[0m                 \u001b[1;32melse\u001b[0m\u001b[1;33m:\u001b[0m\u001b[1;33m\u001b[0m\u001b[1;33m\u001b[0m\u001b[0m\n\u001b[0;32m   1172\u001b[0m                     \u001b[0mfile\u001b[0m \u001b[1;33m=\u001b[0m \u001b[0mfile\u001b[0m\u001b[1;33m.\u001b[0m\u001b[0mencode\u001b[0m\u001b[1;33m(\u001b[0m\u001b[0m_sys\u001b[0m\u001b[1;33m.\u001b[0m\u001b[0mgetfilesystemencoding\u001b[0m\u001b[1;33m(\u001b[0m\u001b[1;33m)\u001b[0m\u001b[1;33m)\u001b[0m\u001b[1;33m\u001b[0m\u001b[1;33m\u001b[0m\u001b[0m\n",
      "\u001b[1;31mAttributeError\u001b[0m: cffi library 'C:\\Users\\iMacPC\\anaconda3\\Library\\bin\\sndfile.dll' has no function, constant or global variable named 'sf_wchar_open'"
     ]
    }
   ],
   "source": [
    "# Read .wav file using pyOssWavfile.read() & Extract .wav file header information\n",
    "\n",
    "impulse_fmt_chunk = pyOssWavfile.read_format(impulse_fname)\n",
    "impulse_struct_fmt = pyOssWavfile.extractWavFmtChunk(impulse_fmt_chunk)\n",
    "\n",
    "if impulse_struct_fmt.bitdepth == 24:        # Bitdepth가 24bit일 때는 pysoundfile을 이용하여 wav data를 불러옴\n",
    "    impulse_data, impulse_struct_fmt.fs = soundfile.read(impulse_fname)\n",
    "else:                                       # 그 외에는 scipy.io.wavfile을 수정한 함수 pyOssWavfile을 이용하여 wav data를 불러옴\n",
    "    impulse_fmt_chunk, impulse_data, impulse_length = pyOssWavfile.read(impulse_fname)\n",
    "\n",
    "impulse_time = impulse_data.shape[0] / impulse_struct_fmt.fs\n",
    "\n",
    "print(\"Audio Format =\", impulse_struct_fmt.format)\n",
    "print(\"Number of Channel =\", impulse_struct_fmt.ch)\n",
    "print(\"Sampling Frequency =\", impulse_struct_fmt.fs)\n",
    "print(\"Byte Rate =\", impulse_struct_fmt.byterate)       # 일종의 Checksum \n",
    "print(\"Block Align =\", impulse_struct_fmt.blockalign)\n",
    "print(\"Bits per Sample =\", impulse_struct_fmt.bitdepth)\n",
    "print(\"Time =\", impulse_time, \"sec\")\n",
    "print(\"Length = \", impulse_data.shape[0])\n",
    "\n",
    "# Plot loaded wave file\n",
    "dbg.dPlotAudio(impulse_struct_fmt.fs, impulse_data[:,0], impulse_fname, \"Left Channel\", \"Time(sec)\", \"Amplitude\")\n",
    "#dbg.dPlotAudio(ossWav_fs, np.int16(ossWav_data[:,0] * 32767), audio_fname, \"Left Channel\", \"Time(sec)\", \"Amplitude\")\n",
    "\n"
   ]
  },
  {
   "cell_type": "code",
   "execution_count": null,
   "metadata": {
    "tags": []
   },
   "outputs": [],
   "source": [
    "# Calculate T60\n",
    "import pyRoomAcoustic as room\n",
    "\n",
    "impulse_decaycurve = room.decayCurve(impulse_data[:,0], impulse_time, impulse_struct_fmt.fs)\n",
    "\n",
    "# Plot Normalized Decay Curve\n",
    "dbg.dPlotAudio(impulse_struct_fmt.fs, impulse_decaycurve, impulse_fname, \"Normalized Decay Curve\", \"Time(sec)\", \"Amplitude\")\n",
    "\n",
    "# Calculate T60\n",
    "impulse_t60, impulse_t60nonLin = room.T60(impulse_decaycurve, impulse_struct_fmt.fs) \n",
    "print(\"impulse_T60=\", impulse_t60, \"impulse_T60 nonLin=\", impulse_t60nonLin)            # for Debug\n",
    "\n",
    "# Calculate EDT\n",
    "impulse_EDT, impulse_EDTnonLin = room.EDT(impulse_decaycurve, impulse_struct_fmt.fs)\n",
    "print(\"impulse_EDT=\", impulse_EDT, \"impulse_EDT nonLin=\", impulse_EDTnonLin)            # for Debug\n",
    "print(\"impulse_T10=\", impulse_EDT/6, \"impulse_T10 nonLin=EDT=\", impulse_EDTnonLin)      # for Debug\n",
    "\n",
    "# Calculate T20\n",
    "impulse_t20, impulse_t20nonLin = room.T20(impulse_decaycurve, impulse_struct_fmt.fs)\n",
    "print(\"impulse_T20=\", impulse_t20, \", impulse_T20 nonLin=\", impulse_t20nonLin)          # for Debug\n",
    "\n",
    "# Calculate T30\n",
    "impulse_t30, impulse_t30nonLin = room.T30(impulse_decaycurve, impulse_struct_fmt.fs)\n",
    "print(\"impulse_T30=\", impulse_t30, \", impulse_T30 nonLin=\", impulse_t30nonLin)          # for Debug\n"
   ]
  },
  {
   "cell_type": "code",
   "execution_count": null,
   "metadata": {
    "tags": []
   },
   "outputs": [],
   "source": [
    "# Calculate C50, C80, D80\n",
    "\n",
    "# C50\n",
    "# ossWav_C50 = room.C50(ossWav_data[:,0], ossWav_fs)\n",
    "# print(\"ossWav_C50=\", ossWav_C50)         # for Debug\n",
    "impulse_C50_float32 = room.C50(impulse_data[:,0], impulse_struct_fmt.fs)\n",
    "print(\"impulse_C50_float=\", impulse_C50_float32)         # for Debug\n",
    "impulse_C50_int16 = room.C50(np.int16(impulse_data[:,0] * 32767), impulse_struct_fmt.fs)\n",
    "print(\"impulse_C50_int=\", impulse_C50_int16)         # for Debug\n",
    "\n",
    "# C80\n",
    "impulse_C80 = room.C80(impulse_data[:,0], impulse_struct_fmt.fs)\n",
    "print(\"impulse_C80=\", impulse_C80)         # for Debug\n",
    "\n",
    "# D50 \n",
    "impulse_D50 = room.D50(impulse_data[:,0], impulse_struct_fmt.fs)\n",
    "print(\"impulse_D50=\", impulse_D50)         # for Debug\n",
    "\n"
   ]
  },
  {
   "cell_type": "code",
   "execution_count": null,
   "metadata": {},
   "outputs": [],
   "source": []
  }
 ]
}