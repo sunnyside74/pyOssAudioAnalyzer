{
 "metadata": {
  "language_info": {
   "codemirror_mode": {
    "name": "ipython",
    "version": 3
   },
   "file_extension": ".py",
   "mimetype": "text/x-python",
   "name": "python",
   "nbconvert_exporter": "python",
   "pygments_lexer": "ipython3",
   "version": 3
  },
  "orig_nbformat": 2
 },
 "nbformat": 4,
 "nbformat_minor": 2,
 "cells": [
  {
   "source": [
    "# Test for Calculating Room Acoustic Parameter\n",
    "- using module 'pyRoomAcoustic'\n"
   ],
   "cell_type": "markdown",
   "metadata": {}
  },
  {
   "cell_type": "code",
   "execution_count": null,
   "metadata": {},
   "outputs": [],
   "source": [
    "'''\n",
    "# 라이브러리 정의\n",
    " - 시스템 라이브러리\n",
    " - 오디오 관련 라이브러리\n",
    " - 연산 및 Plot 관련 라이브러리 \n",
    " - 샤용자 라이브러리\n",
    "'''\n",
    "\n",
    "# Import Systems \n",
    "import struct\n",
    "import io\n",
    "import os\n",
    "import sys\n",
    "import time\n",
    "\n",
    "# Import Audio\n",
    "import wave\n",
    "import pyaudio\n",
    "#import librosa\n",
    "\n",
    "import numpy as np\n",
    "from scipy.io import wavfile\n",
    "import scipy.io\n",
    "import matplotlib.pyplot as plt\n",
    "\n",
    "# User Libraries\n",
    "import pyOssWavfile\n",
    "import pyRoomAcoustic\n",
    "\n"
   ]
  }
 ]
}