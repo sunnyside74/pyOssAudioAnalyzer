{
 "metadata": {
  "language_info": {
   "codemirror_mode": {
    "name": "ipython",
    "version": 3
   },
   "file_extension": ".py",
   "mimetype": "text/x-python",
   "name": "python",
   "nbconvert_exporter": "python",
   "pygments_lexer": "ipython3",
   "version": "3.8.5-final"
  },
  "orig_nbformat": 2,
  "kernelspec": {
   "name": "python3",
   "display_name": "Python 3.8.5 64-bit (conda)",
   "metadata": {
    "interpreter": {
     "hash": "048c8faec33ab08d4598d2d1b99f8cd3584737cbeccf00701c017cc95ada948e"
    }
   }
  }
 },
 "nbformat": 4,
 "nbformat_minor": 2,
 "cells": [
  {
   "source": [
    "# Convert 공나영 선생님 강화학습 결과 오디오 파일\n",
    " - Display Original Data format from .wav header\n",
    " - Convert to Mono / 16Bit Integer / 48kHz "
   ],
   "cell_type": "markdown",
   "metadata": {}
  },
  {
   "cell_type": "code",
   "execution_count": 1,
   "metadata": {},
   "outputs": [],
   "source": [
    "import io\n",
    "import sys\n",
    "import os\n",
    "import math\n",
    "\n",
    "import numpy\n",
    "import scipy\n",
    "\n",
    "import soundfile\n",
    "\n",
    "import pyOssWavfile\n",
    "import pyOssDebug as dbg\n",
    "\n"
   ]
  },
  {
   "source": [
    "# Load Original File\n",
    "- impulse data file path: 'ju_impulse'\n",
    "- anechoic data file path: 'ju_anechoic'"
   ],
   "cell_type": "markdown",
   "metadata": {}
  },
  {
   "cell_type": "code",
   "execution_count": 2,
   "metadata": {},
   "outputs": [
    {
     "output_type": "stream",
     "name": "stdout",
     "text": [
      "Audio Format = float\nNumber of Channel = 1\nSampling Frequency = 44100\nBits per Sample = 64\nAudio Format = float\nNumber of Channel = 1\nSampling Frequency = 44100\nBits per Sample = 32\nTime(sec) = 7.8723356009070296\n"
     ]
    }
   ],
   "source": [
    "# Load Original Audio File\n",
    "\n",
    "####################################\n",
    "# 음원\n",
    "####################################\n",
    "dir_name = 'resultfiles'         # 임펄스 음원 파일이 있는 프로젝트 내 폴더명\n",
    "\n",
    "# wav_name = 'nykong_1_original_f64'\n",
    "wav_name = 'nykong_2_tuned_f64'\n",
    "\n",
    "\n",
    "# 파일명 조합\n",
    "fname = pyOssWavfile.str_fname(dir_name, wav_name)\n",
    "# print(wav_name)\n",
    "\n",
    "# Check Wav Header Information\n",
    "st_fmt = pyOssWavfile.extractWavFmtChunk( pyOssWavfile.read_format(fname) )\n",
    "dbg.dWavInfo(st_fmt)\n",
    "\n",
    "# Load Original Audio & Convert format mono / float32 / 44.1kHz \n",
    "chunk, data, st_fmt_temp, t = pyOssWavfile.readf32( fname )\n",
    "dbg.dWavInfo(st_fmt_temp)\n",
    "print(f\"Time(sec) =\", t)\n"
   ]
  },
  {
   "cell_type": "code",
   "execution_count": 3,
   "metadata": {},
   "outputs": [
    {
     "output_type": "stream",
     "name": "stdout",
     "text": [
      "Audio Format = Int\nNumber of Channel = 1\nSampling Frequency = 44100\nBits per Sample = 16\n"
     ]
    }
   ],
   "source": [
    "data_conv = numpy.int16(data * (2**15))\n",
    "\n",
    "# Save Converted Data to wav\n",
    "str_info = '_mono_i16_44.1k'\n",
    "sname = pyOssWavfile.str_fname(dir_name, wav_name + str_info)\n",
    "pyOssWavfile.write(sname, st_fmt_temp.fs, data_conv)\n",
    "\n",
    "st_fmt = pyOssWavfile.extractWavFmtChunk( pyOssWavfile.read_format(sname) )\n",
    "dbg.dWavInfo(st_fmt)\n"
   ]
  },
  {
   "cell_type": "code",
   "execution_count": null,
   "metadata": {},
   "outputs": [],
   "source": []
  }
 ]
}