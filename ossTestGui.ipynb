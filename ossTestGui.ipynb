{
 "metadata": {
  "language_info": {
   "codemirror_mode": {
    "name": "ipython",
    "version": 3
   },
   "file_extension": ".py",
   "mimetype": "text/x-python",
   "name": "python",
   "nbconvert_exporter": "python",
   "pygments_lexer": "ipython3",
   "version": "3.8.5-final"
  },
  "orig_nbformat": 2,
  "kernelspec": {
   "name": "Python 3.8.5 64-bit ('iMacPC': virtualenv)",
   "display_name": "Python 3.8.5 64-bit ('iMacPC': virtualenv)",
   "metadata": {
    "interpreter": {
     "hash": "048c8faec33ab08d4598d2d1b99f8cd3584737cbeccf00701c017cc95ada948e"
    }
   }
  }
 },
 "nbformat": 4,
 "nbformat_minor": 2,
 "cells": [
  {
   "cell_type": "code",
   "execution_count": 6,
   "metadata": {},
   "outputs": [],
   "source": [
    "'''\n",
    "# 라이브러리 정의\n",
    " - 시스템 라이브러리\n",
    " - 오디오 관련 라이브러리\n",
    " - 연산 및 Plot 관련 라이브러리 \n",
    " - 샤용자 라이브러리\n",
    "'''\n",
    "\n",
    "# Import Systems \n",
    "import struct\n",
    "import io\n",
    "import os\n",
    "import sys\n",
    "import time\n",
    "import math\n",
    "import platform\n",
    "\n",
    "# Import Audio\n",
    "import wave\n",
    "import pyaudio\n",
    "import librosa\n",
    "\n",
    "import numpy as np\n",
    "import scipy\n",
    "import scipy.signal as sig\n",
    "import matplotlib.pyplot as plt\n",
    "import soundfile\n",
    "\n",
    "#import GUI\n",
    "import tkinter as tk\n",
    "from tkinter import filedialog\n",
    "\n",
    "# User Libraries\n",
    "import pyOssWavfile\n",
    "import pyRoomAcoustic as room\n",
    "import pyOssDebug as dbg\n",
    "import pyOssFilter\n"
   ]
  },
  {
   "cell_type": "code",
   "execution_count": 9,
   "metadata": {},
   "outputs": [
    {
     "output_type": "stream",
     "name": "stdout",
     "text": [
      "D:/CD_Image/Audio Samples/whitenoise/whitenoise.wav\n"
     ]
    },
    {
     "output_type": "execute_result",
     "data": {
      "text/plain": [
       "''"
      ]
     },
     "metadata": {},
     "execution_count": 9
    }
   ],
   "source": [
    "myWin = tk.Tk()\n",
    "\n",
    "myWin.title(\"Test File Open\")\n",
    "#win.mainloop()\n",
    "\n",
    "\n",
    "def ossFileOpen():\n",
    "    filename = tk.filedialog.askopenfilename(initialdir = \"C:/User/iMacPC/Documents\",\n",
    "                                             title = \"choose your file\", \n",
    "                                             filetypes = ((\"wave files\",\"*.wav\"),(\"all files\",\"*.*\")))\n",
    "    return filename\n",
    "\n",
    "def ossFileSave():\n",
    "    filename = tk.filedialog.asksaveasfilename(initialdir = \"C:/User/iMacPC/Documents\",\n",
    "                                             title = \"save your file\", \n",
    "                                             filetypes = ((\"wave files\",\"*.wav\"),(\"all files\",\"*.*\")))\n",
    "    return filename\n",
    "\n",
    "\n",
    "fname = ossFileOpen()\n",
    "print(fname)\n",
    "\n",
    "win.withdraw()\n"
   ]
  },
  {
   "cell_type": "code",
   "execution_count": null,
   "metadata": {},
   "outputs": [],
   "source": []
  }
 ]
}