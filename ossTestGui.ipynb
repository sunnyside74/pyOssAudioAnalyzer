{
 "metadata": {
  "language_info": {
   "codemirror_mode": {
    "name": "ipython",
    "version": 3
   },
   "file_extension": ".py",
   "mimetype": "text/x-python",
   "name": "python",
   "nbconvert_exporter": "python",
   "pygments_lexer": "ipython3",
   "version": "3.8.5-final"
  },
  "orig_nbformat": 2,
  "kernelspec": {
   "name": "Python 3.8.5 64-bit ('base': conda)",
   "display_name": "Python 3.8.5 64-bit ('base': conda)",
   "metadata": {
    "interpreter": {
     "hash": "048c8faec33ab08d4598d2d1b99f8cd3584737cbeccf00701c017cc95ada948e"
    }
   }
  }
 },
 "nbformat": 4,
 "nbformat_minor": 2,
 "cells": [
  {
   "cell_type": "code",
   "execution_count": 1,
   "metadata": {},
   "outputs": [],
   "source": [
    "'''\n",
    "# 라이브러리 정의\n",
    " - 시스템 라이브러리\n",
    " - 오디오 관련 라이브러리\n",
    " - 연산 및 Plot 관련 라이브러리 \n",
    " - 샤용자 라이브러리\n",
    "'''\n",
    "\n",
    "# Import Systems \n",
    "import struct\n",
    "import io\n",
    "import os\n",
    "import sys\n",
    "import math\n",
    "import platform\n",
    "\n",
    "# Import Audio\n",
    "import pyaudio\n",
    "import librosa\n",
    "import soundfile\n",
    "\n",
    "import numpy as np\n",
    "import scipy\n",
    "import scipy.signal as sig\n",
    "import matplotlib.pyplot as plt\n",
    "\n",
    "#import GUI\n",
    "import tkinter as tk\n",
    "from tkinter import filedialog\n",
    "\n",
    "# User Libraries\n",
    "import pyOssWavfile\n",
    "import pyRoomAcoustic as room\n",
    "import pyOssDebug as dbg\n",
    "import pyOssFilter\n",
    "import pyOssGui\n"
   ]
  },
  {
   "cell_type": "code",
   "execution_count": null,
   "metadata": {},
   "outputs": [],
   "source": [
    "myWin = tk.Tk()\n",
    "\n",
    "myWin.title(\"Test File Open\")\n",
    "#myWin.mainloop()\n",
    "\n",
    "fpath = tk.filedialog.askdirectory()\n",
    "print(fpath)\n",
    "#fname = pyOssGui.ossTkFileOpen()\n",
    "\n",
    "#fmt_chunk, data, st_fmt, t = pyOssWavfile.readf32(fname)\n",
    "fmt_chunk, data, length = pyOssWavfile.read(fname)\n",
    "st_fmt = pyOssWavfile.extractWavFmtChunk(fmt_chunk)\n",
    "t = data.shape[0]/st_fmt.fs\n",
    "\n",
    "print(st_fmt.format, st_fmt.ch, st_fmt.fs, st_fmt.bitdepth, t)\n",
    "\n",
    "myWin.withdraw()\n"
   ]
  },
  {
   "cell_type": "code",
   "execution_count": null,
   "metadata": {},
   "outputs": [],
   "source": []
  }
 ]
}