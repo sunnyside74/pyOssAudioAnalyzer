{
 "metadata": {
  "language_info": {
   "codemirror_mode": {
    "name": "ipython",
    "version": 3
   },
   "file_extension": ".py",
   "mimetype": "text/x-python",
   "name": "python",
   "nbconvert_exporter": "python",
   "pygments_lexer": "ipython3",
   "version": "3.8.5-final"
  },
  "orig_nbformat": 2,
  "kernelspec": {
   "name": "Python 3.8.5 64-bit ('base': conda)",
   "display_name": "Python 3.8.5 64-bit ('base': conda)",
   "metadata": {
    "interpreter": {
     "hash": "687999c83c8f969a2cbef219c08527671fa3fea45877bfc0649f52a45cd4a80c"
    }
   }
  }
 },
 "nbformat": 4,
 "nbformat_minor": 2,
 "cells": [
  {
   "cell_type": "code",
   "execution_count": 1,
   "metadata": {},
   "outputs": [],
   "source": [
    "'''\n",
    "# 라이브러리 정의\n",
    " - 시스템 라이브러리\n",
    " - 오디오 관련 라이브러리\n",
    " - 연산 및 Plot 관련 라이브러리 \n",
    " - 샤용자 라이브러리\n",
    "'''\n",
    "\n",
    "# Import Systems \n",
    "import struct\n",
    "import io\n",
    "import os\n",
    "import sys\n",
    "import time\n",
    "import math\n",
    "import platform\n",
    "\n",
    "# Import Audio\n",
    "import wave\n",
    "import pyaudio\n",
    "import librosa\n",
    "\n",
    "import numpy as np\n",
    "import scipy\n",
    "import scipy.signal as sig\n",
    "import matplotlib.pyplot as plt\n",
    "import soundfile\n",
    "import rir_generator.c_ext as rir       # rir_Generator -> 테스트 결과 동작오류(so파일 빌드는 되나 C 라이브러리 관련 segmentation fault)\n",
    "\n",
    "# User Libraries\n",
    "import pyOssWavfile\n",
    "import pyRoomAcoustic as room\n",
    "import pyOssDebug as dbg\n",
    "import pyOssFilter\n"
   ]
  },
  {
   "cell_type": "code",
   "execution_count": 2,
   "metadata": {},
   "outputs": [
    {
     "output_type": "error",
     "ename": "TypeError",
     "evalue": "function takes exactly 12 arguments (7 given)",
     "traceback": [
      "\u001b[0;31m---------------------------------------------------------------------------\u001b[0m",
      "\u001b[0;31mTypeError\u001b[0m                                 Traceback (most recent call last)",
      "\u001b[0;32m<ipython-input-2-1bb4c6689b11>\u001b[0m in \u001b[0;36m<module>\u001b[0;34m\u001b[0m\n\u001b[1;32m     10\u001b[0m \u001b[0;34m\u001b[0m\u001b[0m\n\u001b[1;32m     11\u001b[0m \u001b[0;31m#h1 = rir.rir_generator(c, fs, r, s, L, beta, n)\u001b[0m\u001b[0;34m\u001b[0m\u001b[0;34m\u001b[0m\u001b[0;34m\u001b[0m\u001b[0m\n\u001b[0;32m---> 12\u001b[0;31m \u001b[0mh1\u001b[0m \u001b[0;34m=\u001b[0m \u001b[0mrir\u001b[0m\u001b[0;34m.\u001b[0m\u001b[0mgenerate_rir_ext\u001b[0m\u001b[0;34m(\u001b[0m\u001b[0mc\u001b[0m\u001b[0;34m,\u001b[0m \u001b[0mfs\u001b[0m\u001b[0;34m,\u001b[0m \u001b[0mr\u001b[0m\u001b[0;34m,\u001b[0m \u001b[0ms\u001b[0m\u001b[0;34m,\u001b[0m \u001b[0mL\u001b[0m\u001b[0;34m,\u001b[0m \u001b[0mbeta\u001b[0m\u001b[0;34m,\u001b[0m \u001b[0mn\u001b[0m\u001b[0;34m)\u001b[0m\u001b[0;34m\u001b[0m\u001b[0;34m\u001b[0m\u001b[0m\n\u001b[0m",
      "\u001b[0;31mTypeError\u001b[0m: function takes exactly 12 arguments (7 given)"
     ]
    }
   ],
   "source": [
    "# example_1.m\n",
    "\n",
    "c = 340                         # Sound velocity (m/s)\n",
    "fs = 16000                      # Sample frequency (samples/s) 16000 -> 44100\n",
    "r = [2, 1.5, 2]                 # Receiver position [x y z] (m)\n",
    "s = [2, 3.5, 2]                 # Source position [x y z] (m)\n",
    "L = [5, 4, 6]                   # Room dimensions [x y z] (m)\n",
    "beta = 0.4                      # Reverberation time (s)\n",
    "n = 4096                        # Number of samples\n",
    "\n",
    "#h1 = rir.rir_generator(c, fs, r, s, L, beta, n)\n",
    "h1 = rir.generate_rir_ext(c, fs, r, s, L, beta, n)"
   ]
  },
  {
   "cell_type": "code",
   "execution_count": null,
   "metadata": {},
   "outputs": [],
   "source": [
    "# example_2.m\n",
    "\n",
    "c = 340                         # Sound velocity (m/s)\n",
    "fs = 16000                      # Sample frequency (samples/s)\n",
    "r = [2, 1.5, 2]                 # Receiver position [x y z] (m)\n",
    "s = [2, 3.5, 2]                 # Source position [x y z] (m)\n",
    "L = [5, 4, 6]                     # Room dimensions [x y z] (m)\n",
    "beta = 0.4                      # Reflections Coefficients\n",
    "n = 2048                        # Number of samples\n",
    "mtype = 'omnidirectional'       # Type of microphone\n",
    "order = 2                       # Reflection order\n",
    "dim = 3                         # Room dimension\n",
    "orientation = 0                 # Microphone orientation (rad)\n",
    "hp_filter = 1                   # Enable high-pass filter\n",
    "\n",
    "h2 = rir.generate_rir_ext(c, fs, r, s, L, beta, n, mtype, order, dim, orientation, hp_filter)\n",
    "\n",
    "print(h2)"
   ]
  },
  {
   "cell_type": "code",
   "execution_count": null,
   "metadata": {},
   "outputs": [],
   "source": [
    "# example_3.m\n",
    "\n",
    "c = 340                         # Sound velocity (m/s)\n",
    "fs = 16000                      # Sample frequency (samples/s)\n",
    "r = [[2, 1.5, 2], [1, 1.5, 2]]  # Receiver positions [x_1 y_1 z_1 ; x_2 y_2 z_2] (m)\n",
    "s = [2, 3.5, 2]                 # Source position [x y z] (m)\n",
    "L = [5, 4, 6]                   # Room dimensions [x y z] (m)\n",
    "beta = 0.4                      # Reverberation time (s)\n",
    "n = 4096                        # Number of samples\n",
    "mtype = 'omnidirectional'       # Type of microphone\n",
    "order = -1                      # -1 equals maximum reflection order!\n",
    "dim = 3                         # Room dimension\n",
    "orientation = 0                 # Microphone orientation (rad)\n",
    "hp_filter = 1                   # Enable high-pass filter\n",
    "\n",
    "h3 = rir.generate_rir_ext(c, fs, r, s, L, beta, n, mtype, order, dim, orientation, hp_filter)"
   ]
  },
  {
   "cell_type": "code",
   "execution_count": null,
   "metadata": {},
   "outputs": [],
   "source": [
    "# example_.m\n",
    "\n",
    "c = 340                         # Sound velocity (m/s)\n",
    "fs = 16000                      # Sample frequency (samples/s) 16000 -> 44100\n",
    "r = [2, 1.5, 2]                 # Receiver position [ x y z ] (m)\n",
    "s = [2, 3.5, 2]                 # Source position [ x y z ] (m)\n",
    "L = [5, 4, 6]                   # Room dimensions [ x y z ] (m)\n",
    "beta = 0.4                      # Reverberationtime (s)\n",
    "nsample = 4096                  # Number of samples\n",
    "mtype = 'hypercardioid'         # Type of microphone\n",
    "order = -1                      # −1 equals maximum reflection order!\n",
    "dim = 3                         # Room dimension\n",
    "orientation = [np.pi/2, 0]      # Microphone orientation [azimuth elevation] in radians\n",
    "hp_filter = 1                   # Enable high-pass filter\n",
    "\n",
    "h4 = rir.generate_rir_ext(c, fs, r, s, L, beta, n, mtype, order, dim, orientation, hp_filter)"
   ]
  },
  {
   "cell_type": "code",
   "execution_count": null,
   "metadata": {},
   "outputs": [],
   "source": []
  }
 ]
}