{
 "metadata": {
  "language_info": {
   "codemirror_mode": {
    "name": "ipython",
    "version": 3
   },
   "file_extension": ".py",
   "mimetype": "text/x-python",
   "name": "python",
   "nbconvert_exporter": "python",
   "pygments_lexer": "ipython3",
   "version": "3.8.5-final"
  },
  "orig_nbformat": 2,
  "kernelspec": {
   "name": "python3",
   "display_name": "Python 3.8.5 64-bit (conda)",
   "metadata": {
    "interpreter": {
     "hash": "6ad2903d9f8eb78095a8e1054d3b7d96029c25240c1559c5c7674409ebbac066"
    }
   }
  }
 },
 "nbformat": 4,
 "nbformat_minor": 2,
 "cells": [
  {
   "source": [
    "# Audio File Convert & Veryfing\n",
    " - Read Original wav file header Information\n",
    " - Load Original wav & convert format to 32bit float 44.1kHz\n",
    " - Save format converted data to wav file & npz file with header Information\n",
    " - Veryfing saved wav file & npz file\n",
    "     "
   ],
   "cell_type": "markdown",
   "metadata": {}
  },
  {
   "cell_type": "code",
   "execution_count": 1,
   "metadata": {},
   "outputs": [],
   "source": [
    "# Import Systems \n",
    "import struct\n",
    "import io\n",
    "import os\n",
    "import sys\n",
    "import math\n",
    "\n",
    "# Import Audio\n",
    "import librosa\n",
    "import soundfile\n",
    "\n",
    "import numpy as np\n",
    "import scipy\n",
    "import scipy.signal as sig\n",
    "import matplotlib.pyplot as plt\n",
    "\n",
    "# User Libraries\n",
    "import pyOssWavfile\n",
    "import pyRoomAcoustic as room\n",
    "import pyOssDebug as dbg\n",
    "import pyOssFilter\n"
   ]
  },
  {
   "cell_type": "code",
   "execution_count": 2,
   "metadata": {},
   "outputs": [],
   "source": [
    "# .wav File Open\n",
    "\n",
    "#############################################################################\n",
    "#  Impulse Data Load -------------------------------------------------------#\n",
    "#############################################################################\n",
    "\n",
    "# dir_name = 'impulsefiles'     # Path of impulse wav files folder in project folder\n",
    "\n",
    "# IMPULSE WAVE FILE\n",
    "# wav_fname = \"ElvedenHallMarbleHall\"\n",
    "# wav_fname = \"EmptyApartmentBedroom\"\n",
    "# wav_fname = \"FalklandPalaceRoyalTennisCourt\"\n",
    "# wav_fname = \"InsidePiano\"\n",
    "# wav_fname = \"MaesHowe\"\n",
    "# wav_fname = \"mh3_000_ortf_48k\"\n",
    "# wav_fname = \"SportsCentreUniversityOfYork\"\n",
    "# wav_fname = \"StairwayUniversityOfYork\"\n",
    "# wav_fname = \"StAndrewsChurch\"\n",
    "# wav_fname = \"TyndallBruceMonument\"\n",
    "# wav_fname = \"anechoic_gunshot_0\"\n",
    "# wav_fname = \"10s sweep for 3s reverb 48k\"\n",
    "\n",
    "\n",
    "##############################################################################\n",
    "#  AUDIO Data Load ----------------------------------------------------------#\n",
    "##############################################################################\n",
    "\n",
    "dir_audio = 'audiofiles'     # Path of anechoic audio wav files folder in project folder\n",
    "\n",
    "# TEST AUDIO WAVE FILE LIST\n",
    "# aud_name = \"adult_female_speech\"\n",
    "# aud_name = \"bagpipe_music\"\n",
    "# aud_name = \"bagpipe_steady_chord\"\n",
    "# aud_name = \"flute_arpeggio\"\n",
    "# aud_name = \"flute_music\"\n",
    "# aud_name = \"singing\"\n",
    "# aud_name = \"tuba_arpeggio\"\n",
    "# aud_name = \"tuba_music\"\n",
    "# aud_name = \"impulse\"\n",
    "aud_name = \"impulse1\"\n"
   ]
  },
  {
   "cell_type": "code",
   "execution_count": 3,
   "metadata": {},
   "outputs": [
    {
     "output_type": "stream",
     "name": "stdout",
     "text": [
      "impulse1\n1 3\n2 1\n44100 44100\n16 32\n"
     ]
    }
   ],
   "source": [
    "\n",
    "aud_fname = pyOssWavfile.str_fname(dir_audio, aud_name)\n",
    "\n",
    "# .wav file load as mono, float32, 44.1kHz\n",
    "fmt_a, data_a, st_fmt_a, t_a = pyOssWavfile.readf32(aud_fname)\n",
    "print(aud_name)\n",
    "print(fmt_a[1], st_fmt_a.format)\n",
    "print(fmt_a[2], st_fmt_a.ch)\n",
    "print(fmt_a[3], st_fmt_a.fs)\n",
    "print(fmt_a[6], st_fmt_a.bitdepth)\n"
   ]
  },
  {
   "cell_type": "code",
   "execution_count": 4,
   "metadata": {},
   "outputs": [],
   "source": [
    "# Save .wav file and npz\n",
    "str_info = '_mono_f32_44.1k.wav'\n",
    "dir_result = os.path.join(os.getcwd(), 'resultfiles')\n",
    "\n",
    "# save .wav file\n",
    "pyOssWavfile.write(os.path.join(dir_result, aud_name + str_info), st_fmt_a.fs, data_a)\n",
    "# save npz file\n",
    "pyOssWavfile.save_oss_npz(os.path.join(dir_result, aud_name + str_info), data_a, st_fmt_a, t_a)\n"
   ]
  },
  {
   "cell_type": "code",
   "execution_count": null,
   "metadata": {},
   "outputs": [],
   "source": [
    "# 검증 wav file\n",
    "fname2 = os.path.join(dir_result, aud_name + str_info)\n",
    "print(fname2)\n",
    "\n",
    "fmt2, data2, length2 = pyOssWavfile.read(fname2)\n",
    "st_fmt2 = pyOssWavfile.extractWavFmtChunk(fmt2)\n",
    "time2 = data2.shape[0]/st_fmt2.fs\n",
    "\n",
    "print(aud_name + str_info)\n",
    "print(fmt2[1], st_fmt2.format)\n",
    "print(fmt2[2], st_fmt2.ch)\n",
    "print(fmt2[3], st_fmt2.fs)\n",
    "print(fmt2[6], st_fmt2.bitdepth)\n",
    "print(time2)\n"
   ]
  },
  {
   "cell_type": "code",
   "execution_count": null,
   "metadata": {},
   "outputs": [],
   "source": [
    "# 검증 npz file\n",
    "\n",
    "data3, st_fmt3, time3 = pyOssWavfile.load_oss_npz(fname2 +'.npz')\n",
    "\n",
    "print(st_fmt2.format, st_fmt3.format)\n",
    "print(st_fmt2.ch, st_fmt3.ch)\n",
    "print(st_fmt2.fs, st_fmt3.fs)\n",
    "print(st_fmt2.bitdepth, st_fmt3.bitdepth)\n",
    "print(time3)\n",
    "\n"
   ]
  },
  {
   "cell_type": "code",
   "execution_count": null,
   "metadata": {},
   "outputs": [],
   "source": []
  }
 ]
}