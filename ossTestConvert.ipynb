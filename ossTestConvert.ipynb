{
 "metadata": {
  "language_info": {
   "codemirror_mode": {
    "name": "ipython",
    "version": 3
   },
   "file_extension": ".py",
   "mimetype": "text/x-python",
   "name": "python",
   "nbconvert_exporter": "python",
   "pygments_lexer": "ipython3",
   "version": "3.8.5-final"
  },
  "orig_nbformat": 2,
  "kernelspec": {
   "name": "python3",
   "display_name": "Python 3.8.5 64-bit (conda)",
   "metadata": {
    "interpreter": {
     "hash": "048c8faec33ab08d4598d2d1b99f8cd3584737cbeccf00701c017cc95ada948e"
    }
   }
  }
 },
 "nbformat": 4,
 "nbformat_minor": 2,
 "cells": [
  {
   "source": [
    "# Audio File Convert & Veryfing\n",
    " - Read Original wav file header Information\n",
    " - Load Original wav & convert format to 32bit float 44.1kHz\n",
    " - Save format converted data to wav file & npz file with header Information\n",
    " - Veryfing saved wav file & npz file\n",
    "     "
   ],
   "cell_type": "markdown",
   "metadata": {}
  },
  {
   "cell_type": "code",
   "execution_count": 1,
   "metadata": {},
   "outputs": [],
   "source": [
    "# Import Systems \n",
    "import struct\n",
    "import io\n",
    "import os\n",
    "import sys\n",
    "import math\n",
    "\n",
    "# Import Audio\n",
    "import librosa\n",
    "import soundfile\n",
    "\n",
    "import numpy as np\n",
    "import scipy\n",
    "import scipy.signal as sig\n",
    "import matplotlib.pyplot as plt\n",
    "\n",
    "# User Libraries\n",
    "import pyOssWavfile\n",
    "import pyRoomAcoustic as room\n",
    "import pyOssDebug as dbg\n",
    "import pyOssFilter\n"
   ]
  },
  {
   "cell_type": "code",
   "execution_count": 2,
   "metadata": {},
   "outputs": [],
   "source": [
    "# .wav File Open\n",
    "\n",
    "#############################################################################\n",
    "#  Impulse Data Load -------------------------------------------------------#\n",
    "#############################################################################\n",
    "\n",
    "# dir_name = 'impulsefiles'     # Path of impulse wav files folder in project folder\n",
    "\n",
    "# IMPULSE WAVE FILE\n",
    "# wav_fname = \"ElvedenHallMarbleHall\"\n",
    "# wav_fname = \"EmptyApartmentBedroom\"\n",
    "# wav_fname = \"FalklandPalaceRoyalTennisCourt\"\n",
    "# wav_fname = \"InsidePiano\"\n",
    "# wav_fname = \"MaesHowe\"\n",
    "# wav_fname = \"mh3_000_ortf_48k\"\n",
    "# wav_fname = \"SportsCentreUniversityOfYork\"\n",
    "# wav_fname = \"StairwayUniversityOfYork\"\n",
    "# wav_fname = \"StAndrewsChurch\"\n",
    "# wav_fname = \"TyndallBruceMonument\"\n",
    "# wav_fname = \"anechoic_gunshot_0\"\n",
    "# wav_fname = \"10s sweep for 3s reverb 48k\"\n",
    "\n",
    "\n",
    "##############################################################################\n",
    "#  AUDIO Data Load ----------------------------------------------------------#\n",
    "##############################################################################\n",
    "\n",
    "dir_audio = 'audiofiles'     # Path of anechoic audio wav files folder in project folder\n",
    "\n",
    "# TEST AUDIO WAVE FILE LIST\n",
    "# aud_name = \"adult_female_speech\"\n",
    "# aud_name = \"bagpipe_music\"\n",
    "# aud_name = \"bagpipe_steady_chord\"\n",
    "# aud_name = \"flute_arpeggio\"\n",
    "# aud_name = \"flute_music\"\n",
    "# aud_name = \"singing\"\n",
    "# aud_name = \"tuba_arpeggio\"\n",
    "# aud_name = \"tuba_music\"\n",
    "# aud_name = \"impulse\"\n",
    "aud_name = \"impulse1\"\n"
   ]
  },
  {
   "cell_type": "code",
   "execution_count": 3,
   "metadata": {},
   "outputs": [
    {
     "output_type": "stream",
     "name": "stdout",
     "text": [
      "impulse1\n1 3\n2 1\n44100 44100\n16 32\n"
     ]
    }
   ],
   "source": [
    "\n",
    "aud_fname = pyOssWavfile.str_fname(dir_audio, aud_name)\n",
    "\n",
    "# .wav file load as mono, float32, 44.1kHz\n",
    "fmt_a, data_a, st_fmt_a, t_a = pyOssWavfile.readf32(aud_fname)\n",
    "print(aud_name)\n",
    "print(fmt_a[1], st_fmt_a.format)\n",
    "print(fmt_a[2], st_fmt_a.ch)\n",
    "print(fmt_a[3], st_fmt_a.fs)\n",
    "print(fmt_a[6], st_fmt_a.bitdepth)\n"
   ]
  },
  {
   "cell_type": "code",
   "execution_count": 4,
   "metadata": {},
   "outputs": [],
   "source": [
    "# Save .wav file and npz\n",
    "str_info = '_mono_f32_44.1k.wav'\n",
    "dir_result = os.path.join(os.getcwd(), 'resultfiles')\n",
    "\n",
    "# save .wav file\n",
    "pyOssWavfile.write(os.path.join(dir_result, aud_name + str_info), st_fmt_a.fs, data_a)\n",
    "# save npz file\n",
    "pyOssWavfile.save_oss_npz(os.path.join(dir_result, aud_name + str_info), data_a, st_fmt_a, t_a)\n"
   ]
  },
  {
   "cell_type": "code",
   "execution_count": 5,
   "metadata": {},
   "outputs": [
    {
     "output_type": "stream",
     "name": "stdout",
     "text": [
      "c:\\Users\\iMacPC\\Documents\\workspace_py\\pyOssAudioAnalyzer\\resultfiles\\impulse1_mono_f32_44.1k.wav\n",
      "impulse1_mono_f32_44.1k.wav\n",
      "3 3\n",
      "1 1\n",
      "44100 44100\n",
      "32 32\n",
      "0.95\n"
     ]
    }
   ],
   "source": [
    "# 검증 wav file\n",
    "fname2 = os.path.join(dir_result, aud_name + str_info)\n",
    "print(fname2)\n",
    "\n",
    "fmt2, data2, length2 = pyOssWavfile.read(fname2)\n",
    "st_fmt2 = pyOssWavfile.extractWavFmtChunk(fmt2)\n",
    "time2 = data2.shape[0]/st_fmt2.fs\n",
    "\n",
    "print(aud_name + str_info)\n",
    "print(fmt2[1], st_fmt2.format)\n",
    "print(fmt2[2], st_fmt2.ch)\n",
    "print(fmt2[3], st_fmt2.fs)\n",
    "print(fmt2[6], st_fmt2.bitdepth)\n",
    "print(time2)\n"
   ]
  },
  {
   "cell_type": "code",
   "execution_count": 6,
   "metadata": {},
   "outputs": [
    {
     "output_type": "error",
     "ename": "FileNotFoundError",
     "evalue": "[Errno 2] No such file or directory: 'c:\\\\Users\\\\iMacPC\\\\Documents\\\\workspace_py\\\\pyOssAudioAnalyzer\\\\resultfiles\\\\impulse1_mono_f32_44.1k.wav.npz'",
     "traceback": [
      "\u001b[1;31m---------------------------------------------------------------------------\u001b[0m",
      "\u001b[1;31mFileNotFoundError\u001b[0m                         Traceback (most recent call last)",
      "\u001b[1;32m<ipython-input-6-13b5df064401>\u001b[0m in \u001b[0;36m<module>\u001b[1;34m\u001b[0m\n\u001b[0;32m      1\u001b[0m \u001b[1;31m# 검증 npz file\u001b[0m\u001b[1;33m\u001b[0m\u001b[1;33m\u001b[0m\u001b[1;33m\u001b[0m\u001b[0m\n\u001b[0;32m      2\u001b[0m \u001b[1;33m\u001b[0m\u001b[0m\n\u001b[1;32m----> 3\u001b[1;33m \u001b[0mdata3\u001b[0m\u001b[1;33m,\u001b[0m \u001b[0mst_fmt3\u001b[0m\u001b[1;33m,\u001b[0m \u001b[0mtime3\u001b[0m \u001b[1;33m=\u001b[0m \u001b[0mpyOssWavfile\u001b[0m\u001b[1;33m.\u001b[0m\u001b[0mload_oss_npz\u001b[0m\u001b[1;33m(\u001b[0m\u001b[0mfname2\u001b[0m \u001b[1;33m+\u001b[0m\u001b[1;34m'.npz'\u001b[0m\u001b[1;33m)\u001b[0m\u001b[1;33m\u001b[0m\u001b[1;33m\u001b[0m\u001b[0m\n\u001b[0m\u001b[0;32m      4\u001b[0m \u001b[1;33m\u001b[0m\u001b[0m\n\u001b[0;32m      5\u001b[0m \u001b[0mprint\u001b[0m\u001b[1;33m(\u001b[0m\u001b[0mst_fmt2\u001b[0m\u001b[1;33m.\u001b[0m\u001b[0mformat\u001b[0m\u001b[1;33m,\u001b[0m \u001b[0mst_fmt3\u001b[0m\u001b[1;33m.\u001b[0m\u001b[0mformat\u001b[0m\u001b[1;33m)\u001b[0m\u001b[1;33m\u001b[0m\u001b[1;33m\u001b[0m\u001b[0m\n",
      "\u001b[1;32mc:\\Users\\iMacPC\\Documents\\workspace_py\\pyOssAudioAnalyzer\\pyOssWavfile.py\u001b[0m in \u001b[0;36mload_oss_npz\u001b[1;34m(fname)\u001b[0m\n\u001b[0;32m   1060\u001b[0m     \u001b[1;33m:\u001b[0m \u001b[0mt\u001b[0m\u001b[1;33m:\u001b[0m \u001b[0maudio\u001b[0m \u001b[0mfile\u001b[0m \u001b[0mtime\u001b[0m \u001b[1;33m(\u001b[0m\u001b[0msec\u001b[0m\u001b[1;33m)\u001b[0m\u001b[1;33m\u001b[0m\u001b[1;33m\u001b[0m\u001b[0m\n\u001b[0;32m   1061\u001b[0m     \"\"\"\n\u001b[1;32m-> 1062\u001b[1;33m     \u001b[1;32mwith\u001b[0m \u001b[0mnumpy\u001b[0m\u001b[1;33m.\u001b[0m\u001b[0mload\u001b[0m\u001b[1;33m(\u001b[0m\u001b[0mfname\u001b[0m\u001b[1;33m)\u001b[0m \u001b[1;32mas\u001b[0m \u001b[0mnpz_array\u001b[0m\u001b[1;33m:\u001b[0m\u001b[1;33m\u001b[0m\u001b[1;33m\u001b[0m\u001b[0m\n\u001b[0m\u001b[0;32m   1063\u001b[0m         \u001b[0mfmt_array\u001b[0m \u001b[1;33m=\u001b[0m \u001b[0mnpz_array\u001b[0m\u001b[1;33m[\u001b[0m\u001b[1;34m'info'\u001b[0m\u001b[1;33m]\u001b[0m\u001b[1;33m\u001b[0m\u001b[1;33m\u001b[0m\u001b[0m\n\u001b[0;32m   1064\u001b[0m         \u001b[0mdata\u001b[0m \u001b[1;33m=\u001b[0m \u001b[0mnpz_array\u001b[0m\u001b[1;33m[\u001b[0m\u001b[1;34m'data'\u001b[0m\u001b[1;33m]\u001b[0m\u001b[1;33m\u001b[0m\u001b[1;33m\u001b[0m\u001b[0m\n",
      "\u001b[1;32m~\\anaconda3\\lib\\site-packages\\numpy\\lib\\npyio.py\u001b[0m in \u001b[0;36mload\u001b[1;34m(file, mmap_mode, allow_pickle, fix_imports, encoding)\u001b[0m\n\u001b[0;32m    414\u001b[0m             \u001b[0mown_fid\u001b[0m \u001b[1;33m=\u001b[0m \u001b[1;32mFalse\u001b[0m\u001b[1;33m\u001b[0m\u001b[1;33m\u001b[0m\u001b[0m\n\u001b[0;32m    415\u001b[0m         \u001b[1;32melse\u001b[0m\u001b[1;33m:\u001b[0m\u001b[1;33m\u001b[0m\u001b[1;33m\u001b[0m\u001b[0m\n\u001b[1;32m--> 416\u001b[1;33m             \u001b[0mfid\u001b[0m \u001b[1;33m=\u001b[0m \u001b[0mstack\u001b[0m\u001b[1;33m.\u001b[0m\u001b[0menter_context\u001b[0m\u001b[1;33m(\u001b[0m\u001b[0mopen\u001b[0m\u001b[1;33m(\u001b[0m\u001b[0mos_fspath\u001b[0m\u001b[1;33m(\u001b[0m\u001b[0mfile\u001b[0m\u001b[1;33m)\u001b[0m\u001b[1;33m,\u001b[0m \u001b[1;34m\"rb\"\u001b[0m\u001b[1;33m)\u001b[0m\u001b[1;33m)\u001b[0m\u001b[1;33m\u001b[0m\u001b[1;33m\u001b[0m\u001b[0m\n\u001b[0m\u001b[0;32m    417\u001b[0m             \u001b[0mown_fid\u001b[0m \u001b[1;33m=\u001b[0m \u001b[1;32mTrue\u001b[0m\u001b[1;33m\u001b[0m\u001b[1;33m\u001b[0m\u001b[0m\n\u001b[0;32m    418\u001b[0m \u001b[1;33m\u001b[0m\u001b[0m\n",
      "\u001b[1;31mFileNotFoundError\u001b[0m: [Errno 2] No such file or directory: 'c:\\\\Users\\\\iMacPC\\\\Documents\\\\workspace_py\\\\pyOssAudioAnalyzer\\\\resultfiles\\\\impulse1_mono_f32_44.1k.wav.npz'"
     ]
    }
   ],
   "source": [
    "# 검증 npz file\n",
    "\n",
    "data3, st_fmt3, time3 = pyOssWavfile.load_oss_npz(fname2 +'.npz')\n",
    "\n",
    "print(st_fmt2.format, st_fmt3.format)\n",
    "print(st_fmt2.ch, st_fmt3.ch)\n",
    "print(st_fmt2.fs, st_fmt3.fs)\n",
    "print(st_fmt2.bitdepth, st_fmt3.bitdepth)\n",
    "print(time3)\n",
    "\n"
   ]
  },
  {
   "cell_type": "code",
   "execution_count": null,
   "metadata": {},
   "outputs": [],
   "source": []
  }
 ]
}