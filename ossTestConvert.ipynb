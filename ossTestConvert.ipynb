{
 "metadata": {
  "language_info": {
   "codemirror_mode": {
    "name": "ipython",
    "version": 3
   },
   "file_extension": ".py",
   "mimetype": "text/x-python",
   "name": "python",
   "nbconvert_exporter": "python",
   "pygments_lexer": "ipython3",
   "version": "3.8.5-final"
  },
  "orig_nbformat": 2,
  "kernelspec": {
   "name": "Python 3.8.5 64-bit (conda)",
   "display_name": "Python 3.8.5 64-bit (conda)",
   "metadata": {
    "interpreter": {
     "hash": "315caefc643e4ae11c8d3e7ff2010b0a86f7a55984d299e0ea531f57c4f77642"
    }
   }
  }
 },
 "nbformat": 4,
 "nbformat_minor": 2,
 "cells": [
  {
   "source": [
    "# Audio File Conversion\n"
   ],
   "cell_type": "markdown",
   "metadata": {}
  },
  {
   "cell_type": "code",
   "execution_count": 1,
   "metadata": {},
   "outputs": [],
   "source": [
    "# Import Systems \n",
    "import struct\n",
    "import io\n",
    "import os\n",
    "import sys\n",
    "import math\n",
    "\n",
    "# Import Audio\n",
    "import librosa\n",
    "import soundfile\n",
    "\n",
    "import numpy as np\n",
    "import scipy\n",
    "import scipy.signal as sig\n",
    "import matplotlib.pyplot as plt\n",
    "\n",
    "# User Libraries\n",
    "import pyOssWavfile\n",
    "import pyRoomAcoustic as room\n",
    "import pyOssDebug as dbg\n",
    "import pyOssFilter\n"
   ]
  },
  {
   "cell_type": "code",
   "execution_count": 4,
   "metadata": {},
   "outputs": [],
   "source": [
    "# .wav File Open\n",
    "\n",
    "#############################################################################\n",
    "#  Impulse Data Load -------------------------------------------------------#\n",
    "#############################################################################\n",
    "\n",
    "# dir_name = 'impulsefiles'     # Path of impulse wav files folder in project folder\n",
    "\n",
    "# IMPULSE WAVE FILE\n",
    "# wav_fname = \"ElvedenHallMarbleHall\"\n",
    "# wav_fname = \"EmptyApartmentBedroom\"\n",
    "# wav_fname = \"FalklandPalaceRoyalTennisCourt\"\n",
    "# wav_fname = \"InsidePiano\"\n",
    "# wav_fname = \"MaesHowe\"\n",
    "# wav_fname = \"mh3_000_ortf_48k\"\n",
    "# wav_fname = \"SportsCentreUniversityOfYork\"\n",
    "# wav_fname = \"StairwayUniversityOfYork\"\n",
    "# wav_fname = \"StAndrewsChurch\"\n",
    "# wav_fname = \"TyndallBruceMonument\"\n",
    "# wav_fname = \"anechoic_gunshot_0\"\n",
    "# wav_fname = \"10s sweep for 3s reverb 48k\"\n",
    "\n",
    "\n",
    "##############################################################################\n",
    "#  AUDIO Data Load ----------------------------------------------------------#\n",
    "##############################################################################\n",
    "\n",
    "dir_name = 'audiofiles'     # Path of anechoic audio wav files folder in project folder\n",
    "\n",
    "# TEST AUDIO WAVE FILE LIST\n",
    "# wav_fname = \"adult_female_speech\"\n",
    "# wav_fname = \"bagpipe_music\"\n",
    "# wav_fname = \"bagpipe_steady_chord\"\n",
    "# wav_fname = \"flute_arpeggio\"\n",
    "# wav_fname = \"flute_music\"\n",
    "# wav_fname = \"singing\"\n",
    "# wav_fname = \"tuba_arpeggio\"\n",
    "# wav_fname = \"tuba_music\"\n",
    "# wav_fname = \"impulse\"\n",
    "wav_fname = \"impulse1\"\n"
   ]
  },
  {
   "cell_type": "code",
   "execution_count": 5,
   "metadata": {},
   "outputs": [
    {
     "output_type": "stream",
     "name": "stdout",
     "text": [
      "impulse1\n1 3\n2 1\n44100 44100\n16 32\n"
     ]
    }
   ],
   "source": [
    "\n",
    "fname = pyOssWavfile.str_fname(dir_name, wav_fname)\n",
    "\n",
    "# .wav file load as mono, float32, 44.1kHz\n",
    "fmt, data, struct_fmt, t = pyOssWavfile.readf32(fname)\n",
    "print(wav_fname)\n",
    "print(fmt[1], struct_fmt.format)\n",
    "print(fmt[2], struct_fmt.ch)\n",
    "print(fmt[3], struct_fmt.fs)\n",
    "print(fmt[6], struct_fmt.bitdepth)\n"
   ]
  },
  {
   "cell_type": "code",
   "execution_count": null,
   "metadata": {},
   "outputs": [],
   "source": [
    "# Save .wav file and npz\n",
    "string_convert = '_mono_f32_44.1k.wav'\n",
    "result_dir = os.path.join(os.getcwd(), 'resultfiles')\n",
    "\n",
    "# save .wav file\n",
    "pyOssWavfile.write(os.path.join(result_dir, wav_fname + string_convert), struct_fmt.fs, data)\n",
    "# save npz file\n",
    "pyOssWavfile.save_oss_npz(os.path.join(result_dir, wav_fname + string_convert), data, struct_fmt, t)\n"
   ]
  },
  {
   "cell_type": "code",
   "execution_count": null,
   "metadata": {},
   "outputs": [],
   "source": [
    "# 검증 wav file\n",
    "fname2 = os.path.join(result_dir, wav_fname + string_convert)\n",
    "print(fname2)\n",
    "\n",
    "fmt2, data2, length2 = pyOssWavfile.read(fname2)\n",
    "struct_fmt2 = pyOssWavfile.extractWavFmtChunk(fmt2)\n",
    "time2 = data2.shape[0]/struct_fmt2.fs\n",
    "\n",
    "print(wav_fname + string_convert)\n",
    "print(fmt2[1], struct_fmt2.format)\n",
    "print(fmt2[2], struct_fmt2.ch)\n",
    "print(fmt2[3], struct_fmt2.fs)\n",
    "print(fmt2[6], struct_fmt2.bitdepth)\n",
    "print(time2)\n"
   ]
  },
  {
   "cell_type": "code",
   "execution_count": null,
   "metadata": {},
   "outputs": [],
   "source": [
    "# 검증 npz file\n",
    "\n",
    "data3, struct_fmt3, time3 = pyOssWavfile.load_oss_npz(fname2 +'.npz')\n",
    "\n",
    "print(struct_fmt2.format, struct_fmt3.format)\n",
    "print(struct_fmt2.ch, struct_fmt3.ch)\n",
    "print(struct_fmt2.fs, struct_fmt3.fs)\n",
    "print(struct_fmt2.bitdepth, struct_fmt3.bitdepth)\n",
    "print(time3)\n",
    "\n"
   ]
  },
  {
   "cell_type": "code",
   "execution_count": null,
   "metadata": {},
   "outputs": [],
   "source": []
  }
 ]
}