{
 "metadata": {
  "language_info": {
   "codemirror_mode": {
    "name": "ipython",
    "version": 3
   },
   "file_extension": ".py",
   "mimetype": "text/x-python",
   "name": "python",
   "nbconvert_exporter": "python",
   "pygments_lexer": "ipython3",
   "version": "3.8.5-final"
  },
  "orig_nbformat": 2,
  "kernelspec": {
   "name": "python3",
   "display_name": "Python 3.8.5 64-bit (conda)",
   "metadata": {
    "interpreter": {
     "hash": "6ad2903d9f8eb78095a8e1054d3b7d96029c25240c1559c5c7674409ebbac066"
    }
   }
  }
 },
 "nbformat": 4,
 "nbformat_minor": 2,
 "cells": [
  {
   "cell_type": "markdown",
   "source": [
    "# Audio File Convert & Veryfing\n",
    " - Read Original wav file header Information\n",
    " - Load Original wav & convert format to 32bit float 44.1kHz\n",
    " - Save format converted data to wav file & npz file with header Information\n",
    " - Veryfing saved wav file & npz file\n",
    "     "
   ],
   "metadata": {}
  },
  {
   "cell_type": "code",
   "execution_count": 1,
   "source": [
    "# Import Systems \r\n",
    "import struct\r\n",
    "import io\r\n",
    "import os\r\n",
    "import sys\r\n",
    "import math\r\n",
    "\r\n",
    "# Import Audio\r\n",
    "import librosa\r\n",
    "import soundfile\r\n",
    "\r\n",
    "import numpy as np\r\n",
    "import scipy\r\n",
    "import scipy.signal as sig\r\n",
    "import matplotlib.pyplot as plt\r\n",
    "\r\n",
    "# User Libraries\r\n",
    "import pyOssWavfile\r\n",
    "import pyRoomAcoustic as room\r\n",
    "import pyOssDebug as dbg\r\n",
    "import pyOssFilter\r\n"
   ],
   "outputs": [],
   "metadata": {}
  },
  {
   "cell_type": "code",
   "execution_count": 2,
   "source": [
    "# .wav File Open\r\n",
    "\r\n",
    "#############################################################################\r\n",
    "#  Impulse Data Load -------------------------------------------------------#\r\n",
    "#############################################################################\r\n",
    "\r\n",
    "# dir_name = 'impulsefiles'     # Path of impulse wav files folder in project folder\r\n",
    "\r\n",
    "# IMPULSE WAVE FILE\r\n",
    "# wav_fname = \"ElvedenHallMarbleHall\"\r\n",
    "# wav_fname = \"EmptyApartmentBedroom\"\r\n",
    "# wav_fname = \"FalklandPalaceRoyalTennisCourt\"\r\n",
    "# wav_fname = \"InsidePiano\"\r\n",
    "# wav_fname = \"MaesHowe\"\r\n",
    "# wav_fname = \"mh3_000_ortf_48k\"\r\n",
    "# wav_fname = \"SportsCentreUniversityOfYork\"\r\n",
    "# wav_fname = \"StairwayUniversityOfYork\"\r\n",
    "# wav_fname = \"StAndrewsChurch\"\r\n",
    "# wav_fname = \"TyndallBruceMonument\"\r\n",
    "# wav_fname = \"anechoic_gunshot_0\"\r\n",
    "# wav_fname = \"10s sweep for 3s reverb 48k\"\r\n",
    "\r\n",
    "\r\n",
    "##############################################################################\r\n",
    "#  AUDIO Data Load ----------------------------------------------------------#\r\n",
    "##############################################################################\r\n",
    "\r\n",
    "dir_audio = 'audiofiles'     # Path of anechoic audio wav files folder in project folder\r\n",
    "\r\n",
    "# TEST AUDIO WAVE FILE LIST\r\n",
    "# aud_name = \"adult_female_speech\"\r\n",
    "# aud_name = \"bagpipe_music\"\r\n",
    "# aud_name = \"bagpipe_steady_chord\"\r\n",
    "# aud_name = \"flute_arpeggio\"\r\n",
    "# aud_name = \"flute_music\"\r\n",
    "# aud_name = \"singing\"\r\n",
    "# aud_name = \"tuba_arpeggio\"\r\n",
    "# aud_name = \"tuba_music\"\r\n",
    "# aud_name = \"impulse\"\r\n",
    "aud_name = \"impulse1\"\r\n"
   ],
   "outputs": [],
   "metadata": {}
  },
  {
   "cell_type": "code",
   "execution_count": 3,
   "source": [
    "\r\n",
    "aud_fname = pyOssWavfile.str_fname(dir_audio, aud_name)\r\n",
    "\r\n",
    "# .wav file load as mono, float32, 44.1kHz\r\n",
    "fmt_a, data_a, st_fmt_a, t_a = pyOssWavfile.readf32(aud_fname)\r\n",
    "print(aud_name)\r\n",
    "print(fmt_a[1], st_fmt_a.format)\r\n",
    "print(fmt_a[2], st_fmt_a.ch)\r\n",
    "print(fmt_a[3], st_fmt_a.fs)\r\n",
    "print(fmt_a[6], st_fmt_a.bitdepth)\r\n"
   ],
   "outputs": [
    {
     "output_type": "stream",
     "name": "stdout",
     "text": [
      "impulse1\n",
      "1 3\n",
      "2 1\n",
      "44100 44100\n",
      "16 32\n"
     ]
    }
   ],
   "metadata": {}
  },
  {
   "cell_type": "code",
   "execution_count": 4,
   "source": [
    "# Save .wav file and npz\r\n",
    "str_info = '_mono_32f_44.1k.wav'\r\n",
    "dir_result = os.path.join(os.getcwd(), 'resultfiles')\r\n",
    "\r\n",
    "# save .wav file\r\n",
    "pyOssWavfile.write(os.path.join(dir_result, aud_name + str_info), st_fmt_a.fs, data_a)\r\n",
    "# save npz file\r\n",
    "pyOssWavfile.save_oss_npz(os.path.join(dir_result, aud_name + str_info), data_a, st_fmt_a, t_a)\r\n"
   ],
   "outputs": [],
   "metadata": {}
  },
  {
   "cell_type": "code",
   "execution_count": null,
   "source": [
    "# 검증 wav file\r\n",
    "fname2 = os.path.join(dir_result, aud_name + str_info)\r\n",
    "print(fname2)\r\n",
    "\r\n",
    "fmt2, data2, length2 = pyOssWavfile.read(fname2)\r\n",
    "st_fmt2 = pyOssWavfile.extractWavFmtChunk(fmt2)\r\n",
    "time2 = data2.shape[0]/st_fmt2.fs\r\n",
    "\r\n",
    "print(aud_name + str_info)\r\n",
    "print(fmt2[1], st_fmt2.format)\r\n",
    "print(fmt2[2], st_fmt2.ch)\r\n",
    "print(fmt2[3], st_fmt2.fs)\r\n",
    "print(fmt2[6], st_fmt2.bitdepth)\r\n",
    "print(time2)\r\n"
   ],
   "outputs": [],
   "metadata": {}
  },
  {
   "cell_type": "code",
   "execution_count": null,
   "source": [
    "# 검증 npz file\r\n",
    "\r\n",
    "data3, st_fmt3, time3 = pyOssWavfile.load_oss_npz(fname2 +'.npz')\r\n",
    "\r\n",
    "print(st_fmt2.format, st_fmt3.format)\r\n",
    "print(st_fmt2.ch, st_fmt3.ch)\r\n",
    "print(st_fmt2.fs, st_fmt3.fs)\r\n",
    "print(st_fmt2.bitdepth, st_fmt3.bitdepth)\r\n",
    "print(time3)\r\n",
    "\r\n"
   ],
   "outputs": [],
   "metadata": {}
  },
  {
   "cell_type": "code",
   "execution_count": null,
   "source": [],
   "outputs": [],
   "metadata": {}
  }
 ]
}