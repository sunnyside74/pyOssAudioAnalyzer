{
 "metadata": {
  "language_info": {
   "codemirror_mode": {
    "name": "ipython",
    "version": 3
   },
   "file_extension": ".py",
   "mimetype": "text/x-python",
   "name": "python",
   "nbconvert_exporter": "python",
   "pygments_lexer": "ipython3",
   "version": "3.8.5-final"
  },
  "orig_nbformat": 2,
  "kernelspec": {
   "name": "Python 3.8.5 64-bit ('base': conda)",
   "display_name": "Python 3.8.5 64-bit ('base': conda)",
   "metadata": {
    "interpreter": {
     "hash": "687999c83c8f969a2cbef219c08527671fa3fea45877bfc0649f52a45cd4a80c"
    }
   }
  }
 },
 "nbformat": 4,
 "nbformat_minor": 2,
 "cells": [
  {
   "cell_type": "code",
   "execution_count": 4,
   "metadata": {},
   "outputs": [],
   "source": [
    "# Import Library for Audio\n",
    "import sounddevice as sd\n",
    "import pyaudio\n",
    "import wave\n",
    "# Import Library for math & plot\n",
    "import numpy as np\n",
    "from scipy.io import wavfile\n",
    "import matplotlib.pyplot as plt\n",
    "# Import Systems \n",
    "import os\n",
    "import struct\n",
    "import sys\n",
    "import time\n",
    "\n",
    "%matplotlib tk\n",
    "\n",
    "CHUNK = 1024 * 4\n",
    "#FORMAT = pyaudio.paInt16\n",
    "CHANNELS = 1\n",
    "RATE = 44100\n"
   ]
  },
  {
   "cell_type": "code",
   "execution_count": 5,
   "metadata": {
    "tags": []
   },
   "outputs": [
    {
     "output_type": "stream",
     "name": "stdout",
     "text": [
      "/Users/iMacDev/opt/anaconda3/bin/../lib/libportaudio.dylib\n<Lib object for '/Users/iMacDev/opt/anaconda3/bin/../lib/libportaudio.dylib'>\n(1246720, 'PortAudio V19.6.0-devel, revision 396fe4b6699ae929d3a685b3ef8a7e97396139a4')\n  0 IPS237, Core Audio (0 in, 2 out)\n> 1 Built-in Microphone, Core Audio (2 in, 0 out)\n  2 Built-in Output, Core Audio (0 in, 2 out)\n< 3 Steinberg UR44, Core Audio (6 in, 6 out)\n  4 ZoomAudioDevice, Core Audio (2 in, 2 out)\n"
     ]
    }
   ],
   "source": [
    "\n",
    "print(sd._libname)\n",
    "print(sd._lib)\n",
    "\n",
    "print(sd.get_portaudio_version())\n",
    "input_device = sd.query_devices()\n",
    "print(input_device)\n",
    "\n"
   ]
  },
  {
   "cell_type": "code",
   "execution_count": 6,
   "metadata": {
    "tags": []
   },
   "outputs": [
    {
     "output_type": "stream",
     "name": "stdout",
     "text": [
      "5\n{'index': 0, 'structVersion': 2, 'name': 'IPS237', 'hostApi': 0, 'maxInputChannels': 0, 'maxOutputChannels': 2, 'defaultLowInputLatency': 0.01, 'defaultLowOutputLatency': 0.009541666666666667, 'defaultHighInputLatency': 0.1, 'defaultHighOutputLatency': 0.018875, 'defaultSampleRate': 48000.0}\n{'index': 1, 'structVersion': 2, 'name': 'Built-in Microphone', 'hostApi': 0, 'maxInputChannels': 2, 'maxOutputChannels': 0, 'defaultLowInputLatency': 0.0029024943310657597, 'defaultLowOutputLatency': 0.01, 'defaultHighInputLatency': 0.013061224489795919, 'defaultHighOutputLatency': 0.1, 'defaultSampleRate': 44100.0}\n{'index': 2, 'structVersion': 2, 'name': 'Built-in Output', 'hostApi': 0, 'maxInputChannels': 0, 'maxOutputChannels': 2, 'defaultLowInputLatency': 0.01, 'defaultLowOutputLatency': 0.0037188208616780044, 'defaultHighInputLatency': 0.1, 'defaultHighOutputLatency': 0.013877551020408163, 'defaultSampleRate': 44100.0}\n{'index': 3, 'structVersion': 2, 'name': 'Steinberg UR44', 'hostApi': 0, 'maxInputChannels': 6, 'maxOutputChannels': 6, 'defaultLowInputLatency': 0.01, 'defaultLowOutputLatency': 0.003764172335600907, 'defaultHighInputLatency': 0.1, 'defaultHighOutputLatency': 0.013922902494331067, 'defaultSampleRate': 44100.0}\n{'index': 4, 'structVersion': 2, 'name': 'ZoomAudioDevice', 'hostApi': 0, 'maxInputChannels': 2, 'maxOutputChannels': 2, 'defaultLowInputLatency': 0.01, 'defaultLowOutputLatency': 0.03333333333333333, 'defaultHighInputLatency': 0.1, 'defaultHighOutputLatency': 0.042666666666666665, 'defaultSampleRate': 48000.0}\n1\n{'index': 0, 'structVersion': 1, 'type': 5, 'name': 'Core Audio', 'deviceCount': 5, 'defaultInputDevice': 1, 'defaultOutputDevice': 3}\n"
     ]
    }
   ],
   "source": [
    "p = pyaudio.PyAudio()\n",
    "\n",
    "#p.is_format_supported()\n",
    "\n",
    "IDX_ASIO = pyaudio.paASIO\n",
    "\n",
    "print(p.get_device_count())\n",
    "\n",
    "for i in range(p.get_device_count()):\n",
    "   print(p.get_device_info_by_index(i))\n",
    "\n",
    "print(p.get_host_api_count())\n",
    "\n",
    "for i in range(p.get_host_api_count()):\n",
    "    print(p.get_host_api_info_by_index(i))\n",
    "\n",
    "\n"
   ]
  },
  {
   "cell_type": "code",
   "execution_count": 8,
   "metadata": {},
   "outputs": [
    {
     "output_type": "error",
     "ename": "OSError",
     "evalue": "[Errno -9981] Input overflowed",
     "traceback": [
      "\u001b[0;31m---------------------------------------------------------------------------\u001b[0m",
      "\u001b[0;31mOSError\u001b[0m                                   Traceback (most recent call last)",
      "\u001b[0;32m<ipython-input-8-1e6f1ae215a7>\u001b[0m in \u001b[0;36m<module>\u001b[0;34m\u001b[0m\n\u001b[1;32m     31\u001b[0m \u001b[0;34m\u001b[0m\u001b[0m\n\u001b[1;32m     32\u001b[0m \u001b[0;32mwhile\u001b[0m \u001b[0;32mTrue\u001b[0m\u001b[0;34m:\u001b[0m\u001b[0;34m\u001b[0m\u001b[0;34m\u001b[0m\u001b[0m\n\u001b[0;32m---> 33\u001b[0;31m     \u001b[0mdata\u001b[0m \u001b[0;34m=\u001b[0m \u001b[0mstream\u001b[0m\u001b[0;34m.\u001b[0m\u001b[0mread\u001b[0m\u001b[0;34m(\u001b[0m\u001b[0mCHUNK\u001b[0m\u001b[0;34m)\u001b[0m\u001b[0;34m\u001b[0m\u001b[0;34m\u001b[0m\u001b[0m\n\u001b[0m\u001b[1;32m     34\u001b[0m     \u001b[0mdata_int\u001b[0m \u001b[0;34m=\u001b[0m \u001b[0mnp\u001b[0m\u001b[0;34m.\u001b[0m\u001b[0marray\u001b[0m\u001b[0;34m(\u001b[0m\u001b[0mstruct\u001b[0m\u001b[0;34m.\u001b[0m\u001b[0munpack\u001b[0m\u001b[0;34m(\u001b[0m\u001b[0mstr\u001b[0m\u001b[0;34m(\u001b[0m\u001b[0mCHUNK\u001b[0m\u001b[0;34m*\u001b[0m\u001b[0;36m2\u001b[0m\u001b[0;34m)\u001b[0m \u001b[0;34m+\u001b[0m \u001b[0;34m'B'\u001b[0m\u001b[0;34m,\u001b[0m \u001b[0mdata\u001b[0m\u001b[0;34m)\u001b[0m\u001b[0;34m,\u001b[0m \u001b[0mdtype\u001b[0m\u001b[0;34m=\u001b[0m\u001b[0;34m'b'\u001b[0m\u001b[0;34m)\u001b[0m\u001b[0;34m[\u001b[0m\u001b[0;34m:\u001b[0m\u001b[0;34m:\u001b[0m\u001b[0;36m2\u001b[0m\u001b[0;34m]\u001b[0m \u001b[0;34m+\u001b[0m \u001b[0;36m127\u001b[0m\u001b[0;34m\u001b[0m\u001b[0;34m\u001b[0m\u001b[0m\n\u001b[1;32m     35\u001b[0m     \u001b[0mline\u001b[0m\u001b[0;34m.\u001b[0m\u001b[0mset_ydata\u001b[0m\u001b[0;34m(\u001b[0m\u001b[0mdata_int\u001b[0m\u001b[0;34m)\u001b[0m\u001b[0;34m\u001b[0m\u001b[0;34m\u001b[0m\u001b[0m\n",
      "\u001b[0;32m~/opt/anaconda3/lib/python3.8/site-packages/pyaudio.py\u001b[0m in \u001b[0;36mread\u001b[0;34m(self, num_frames, exception_on_overflow)\u001b[0m\n\u001b[1;32m    606\u001b[0m                           paCanNotReadFromAnOutputOnlyStream)\n\u001b[1;32m    607\u001b[0m \u001b[0;34m\u001b[0m\u001b[0m\n\u001b[0;32m--> 608\u001b[0;31m         \u001b[0;32mreturn\u001b[0m \u001b[0mpa\u001b[0m\u001b[0;34m.\u001b[0m\u001b[0mread_stream\u001b[0m\u001b[0;34m(\u001b[0m\u001b[0mself\u001b[0m\u001b[0;34m.\u001b[0m\u001b[0m_stream\u001b[0m\u001b[0;34m,\u001b[0m \u001b[0mnum_frames\u001b[0m\u001b[0;34m,\u001b[0m \u001b[0mexception_on_overflow\u001b[0m\u001b[0;34m)\u001b[0m\u001b[0;34m\u001b[0m\u001b[0;34m\u001b[0m\u001b[0m\n\u001b[0m\u001b[1;32m    609\u001b[0m \u001b[0;34m\u001b[0m\u001b[0m\n\u001b[1;32m    610\u001b[0m     \u001b[0;32mdef\u001b[0m \u001b[0mget_read_available\u001b[0m\u001b[0;34m(\u001b[0m\u001b[0mself\u001b[0m\u001b[0;34m)\u001b[0m\u001b[0;34m:\u001b[0m\u001b[0;34m\u001b[0m\u001b[0;34m\u001b[0m\u001b[0m\n",
      "\u001b[0;31mOSError\u001b[0m: [Errno -9981] Input overflowed"
     ]
    }
   ],
   "source": [
    "# https://stackoverflow.com/questions/47814829/a-real-time-spectrum-analyser-with-pyaudio-in-python-on-raspi\n",
    "\n",
    "import pyaudio\n",
    "import struct\n",
    "import numpy as np\n",
    "import matplotlib.pyplot as plt\n",
    "\n",
    "CHUNK = 1024 * 4\n",
    "FORMAT = pyaudio.paInt16\n",
    "CHANNELS = 1\n",
    "RATE = 44100\n",
    "\n",
    "p = pyaudio.PyAudio()\n",
    "\n",
    "stream = p.open(\n",
    "    format = FORMAT,\n",
    "    channels = CHANNELS,\n",
    "    rate = RATE,\n",
    "    input = True,\n",
    "    output = False,\n",
    "    frames_per_buffer = CHUNK,\n",
    "    start = True\n",
    "    )\n",
    "\n",
    "fig, ax = plt.subplots()\n",
    "x = np.arange(0, 2 * CHUNK, 2)\n",
    "line, = ax.plot(x, np.random.rand(CHUNK))\n",
    "\n",
    "ax.set_ylim(0, 255)\n",
    "ax.set_xlim(0, CHUNK)\n",
    "plt.show()\n",
    "\n",
    "while True:\n",
    "    data = stream.read(CHUNK)\n",
    "    data_int = np.array(struct.unpack(str(CHUNK*2) + 'B', data), dtype='b')[::2] + 127\n",
    "    line.set_ydata(data)\n",
    "    fig.canvas.draw()\n",
    "    fig.canvas.flush_events()\n"
   ]
  },
  {
   "cell_type": "code",
   "execution_count": null,
   "metadata": {},
   "outputs": [],
   "source": []
  }
 ]
}