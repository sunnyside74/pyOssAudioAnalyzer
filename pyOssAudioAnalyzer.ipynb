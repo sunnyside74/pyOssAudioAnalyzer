{
 "metadata": {
  "language_info": {
   "codemirror_mode": {
    "name": "ipython",
    "version": 3
   },
   "file_extension": ".py",
   "mimetype": "text/x-python",
   "name": "python",
   "nbconvert_exporter": "python",
   "pygments_lexer": "ipython3",
   "version": "3.8.5-final"
  },
  "orig_nbformat": 2,
  "kernelspec": {
   "name": "Python 3.8.5 64-bit ('iMacPC': virtualenv)",
   "display_name": "Python 3.8.5 64-bit ('iMacPC': virtualenv)",
   "metadata": {
    "interpreter": {
     "hash": "048c8faec33ab08d4598d2d1b99f8cd3584737cbeccf00701c017cc95ada948e"
    }
   }
  }
 },
 "nbformat": 4,
 "nbformat_minor": 2,
 "cells": [
  {
   "cell_type": "code",
   "execution_count": 1,
   "metadata": {},
   "outputs": [],
   "source": [
    "# Import Systems \n",
    "import os\n",
    "import struct\n",
    "import sys\n",
    "import time\n",
    "\n",
    "# Import Library for Audio\n",
    "import sounddevice as sd\n",
    "import pyaudio\n",
    "import wave\n",
    "\n",
    "# Import Library for math & plot\n",
    "import numpy as np\n",
    "from scipy.io import wavfile\n",
    "import matplotlib.pyplot as plt\n",
    "\n",
    "%matplotlib tk\n",
    "\n",
    "CHUNK = 1024 * 4\n",
    "#FORMAT = pyaudio.paInt16\n",
    "CHANNELS = 1\n",
    "RATE = 44100\n"
   ]
  },
  {
   "cell_type": "code",
   "execution_count": 2,
   "metadata": {
    "tags": []
   },
   "outputs": [
    {
     "output_type": "stream",
     "name": "stdout",
     "text": [
      "C:\\Users\\iMacPC\\anaconda3\\Library\\bin\\portaudio.dll\n<Lib object for 'C:\\Users\\iMacPC\\anaconda3\\Library\\bin\\portaudio.dll'>\n(1246720, 'PortAudio V19.6.0-devel, revision 396fe4b6699ae929d3a685b3ef8a7e97396139a4')\n   0 Microsoft 사운드 매퍼 - Input, MME (2 in, 0 out)\n>  1 Headset Microphone(Cirrus Logic, MME (2 in, 0 out)\n   2 Internal Microphone(Cirrus Logi, MME (2 in, 0 out)\n   3 라인(2- Steinberg UR44), MME (2 in, 0 out)\n   4 Microsoft 사운드 매퍼 - Output, MME (0 in, 2 out)\n<  5 스피커(Cirrus Logic CS8409 (AB 16), MME (0 in, 4 out)\n   6 헤드셋(Cirrus Logic CS8409 (AB 16), MME (0 in, 2 out)\n   7 라인(2- Steinberg UR44), MME (0 in, 2 out)\n   8 Headphones (HD Audio 헤드폰), Windows WDM-KS (0 in, 2 out)\n   9 마이크 (HD Audio 마이크 2), Windows WDM-KS (2 in, 0 out)\n  10 마이크 (HD Audio 마이크), Windows WDM-KS (2 in, 0 out)\n  11 Speakers (HD Audio 스피커), Windows WDM-KS (0 in, 4 out)\n  12 라인 (Steinberg UR44), Windows WDM-KS (2 in, 0 out)\n  13 라인 (Steinberg UR44), Windows WDM-KS (0 in, 2 out)\n  14 Output (AMD HD Audio DP out #1), Windows WDM-KS (0 in, 2 out)\n"
     ]
    }
   ],
   "source": [
    "\n",
    "print(sd._libname)\n",
    "print(sd._lib)\n",
    "\n",
    "print(sd.get_portaudio_version())\n",
    "input_device = sd.query_devices()\n",
    "print(input_device)\n",
    "\n"
   ]
  },
  {
   "cell_type": "code",
   "execution_count": 3,
   "metadata": {
    "tags": []
   },
   "outputs": [
    {
     "output_type": "stream",
     "name": "stdout",
     "text": [
      "31\n{'index': 0, 'structVersion': 2, 'name': 'Microsoft 사운드 매퍼 - Input', 'hostApi': 0, 'maxInputChannels': 2, 'maxOutputChannels': 0, 'defaultLowInputLatency': 0.09, 'defaultLowOutputLatency': 0.09, 'defaultHighInputLatency': 0.18, 'defaultHighOutputLatency': 0.18, 'defaultSampleRate': 44100.0}\n{'index': 1, 'structVersion': 2, 'name': 'Headset Microphone(Cirrus Logic', 'hostApi': 0, 'maxInputChannels': 2, 'maxOutputChannels': 0, 'defaultLowInputLatency': 0.09, 'defaultLowOutputLatency': 0.09, 'defaultHighInputLatency': 0.18, 'defaultHighOutputLatency': 0.18, 'defaultSampleRate': 44100.0}\n{'index': 2, 'structVersion': 2, 'name': 'Internal Microphone(Cirrus Logi', 'hostApi': 0, 'maxInputChannels': 2, 'maxOutputChannels': 0, 'defaultLowInputLatency': 0.09, 'defaultLowOutputLatency': 0.09, 'defaultHighInputLatency': 0.18, 'defaultHighOutputLatency': 0.18, 'defaultSampleRate': 44100.0}\n{'index': 3, 'structVersion': 2, 'name': '라인(2- Steinberg UR44)', 'hostApi': 0, 'maxInputChannels': 2, 'maxOutputChannels': 0, 'defaultLowInputLatency': 0.09, 'defaultLowOutputLatency': 0.09, 'defaultHighInputLatency': 0.18, 'defaultHighOutputLatency': 0.18, 'defaultSampleRate': 44100.0}\n{'index': 4, 'structVersion': 2, 'name': 'Microsoft 사운드 매퍼 - Output', 'hostApi': 0, 'maxInputChannels': 0, 'maxOutputChannels': 2, 'defaultLowInputLatency': 0.09, 'defaultLowOutputLatency': 0.09, 'defaultHighInputLatency': 0.18, 'defaultHighOutputLatency': 0.18, 'defaultSampleRate': 44100.0}\n{'index': 5, 'structVersion': 2, 'name': '스피커(Cirrus Logic CS8409 (AB 16)', 'hostApi': 0, 'maxInputChannels': 0, 'maxOutputChannels': 4, 'defaultLowInputLatency': 0.09, 'defaultLowOutputLatency': 0.09, 'defaultHighInputLatency': 0.18, 'defaultHighOutputLatency': 0.18, 'defaultSampleRate': 44100.0}\n{'index': 6, 'structVersion': 2, 'name': '헤드셋(Cirrus Logic CS8409 (AB 16)', 'hostApi': 0, 'maxInputChannels': 0, 'maxOutputChannels': 2, 'defaultLowInputLatency': 0.09, 'defaultLowOutputLatency': 0.09, 'defaultHighInputLatency': 0.18, 'defaultHighOutputLatency': 0.18, 'defaultSampleRate': 44100.0}\n{'index': 7, 'structVersion': 2, 'name': '라인(2- Steinberg UR44)', 'hostApi': 0, 'maxInputChannels': 0, 'maxOutputChannels': 2, 'defaultLowInputLatency': 0.09, 'defaultLowOutputLatency': 0.09, 'defaultHighInputLatency': 0.18, 'defaultHighOutputLatency': 0.18, 'defaultSampleRate': 44100.0}\n{'index': 8, 'structVersion': 2, 'name': '주 사운드 캡처 드라이버', 'hostApi': 1, 'maxInputChannels': 2, 'maxOutputChannels': 0, 'defaultLowInputLatency': 0.12, 'defaultLowOutputLatency': 0.0, 'defaultHighInputLatency': 0.24, 'defaultHighOutputLatency': 0.0, 'defaultSampleRate': 44100.0}\n{'index': 9, 'structVersion': 2, 'name': 'Headset Microphone(Cirrus Logic CS8409 (AB 16))', 'hostApi': 1, 'maxInputChannels': 2, 'maxOutputChannels': 0, 'defaultLowInputLatency': 0.12, 'defaultLowOutputLatency': 0.0, 'defaultHighInputLatency': 0.24, 'defaultHighOutputLatency': 0.0, 'defaultSampleRate': 44100.0}\n{'index': 10, 'structVersion': 2, 'name': 'Internal Microphone(Cirrus Logic CS8409 (AB 16))', 'hostApi': 1, 'maxInputChannels': 2, 'maxOutputChannels': 0, 'defaultLowInputLatency': 0.12, 'defaultLowOutputLatency': 0.0, 'defaultHighInputLatency': 0.24, 'defaultHighOutputLatency': 0.0, 'defaultSampleRate': 44100.0}\n{'index': 11, 'structVersion': 2, 'name': '라인(2- Steinberg UR44)', 'hostApi': 1, 'maxInputChannels': 2, 'maxOutputChannels': 0, 'defaultLowInputLatency': 0.12, 'defaultLowOutputLatency': 0.0, 'defaultHighInputLatency': 0.24, 'defaultHighOutputLatency': 0.0, 'defaultSampleRate': 44100.0}\n{'index': 12, 'structVersion': 2, 'name': '주 사운드 드라이버', 'hostApi': 1, 'maxInputChannels': 0, 'maxOutputChannels': 2, 'defaultLowInputLatency': 0.0, 'defaultLowOutputLatency': 0.12, 'defaultHighInputLatency': 0.0, 'defaultHighOutputLatency': 0.24, 'defaultSampleRate': 44100.0}\n{'index': 13, 'structVersion': 2, 'name': '스피커(Cirrus Logic CS8409 (AB 16))', 'hostApi': 1, 'maxInputChannels': 0, 'maxOutputChannels': 4, 'defaultLowInputLatency': 0.0, 'defaultLowOutputLatency': 0.12, 'defaultHighInputLatency': 0.0, 'defaultHighOutputLatency': 0.24, 'defaultSampleRate': 44100.0}\n{'index': 14, 'structVersion': 2, 'name': '헤드셋(Cirrus Logic CS8409 (AB 16))', 'hostApi': 1, 'maxInputChannels': 0, 'maxOutputChannels': 2, 'defaultLowInputLatency': 0.0, 'defaultLowOutputLatency': 0.12, 'defaultHighInputLatency': 0.0, 'defaultHighOutputLatency': 0.24, 'defaultSampleRate': 44100.0}\n{'index': 15, 'structVersion': 2, 'name': '라인(2- Steinberg UR44)', 'hostApi': 1, 'maxInputChannels': 0, 'maxOutputChannels': 2, 'defaultLowInputLatency': 0.0, 'defaultLowOutputLatency': 0.12, 'defaultHighInputLatency': 0.0, 'defaultHighOutputLatency': 0.24, 'defaultSampleRate': 44100.0}\n{'index': 16, 'structVersion': 2, 'name': 'ASIO4ALL v2', 'hostApi': 2, 'maxInputChannels': 2, 'maxOutputChannels': 4, 'defaultLowInputLatency': 0.005804988662131519, 'defaultLowOutputLatency': 0.005804988662131519, 'defaultHighInputLatency': 0.046439909297052155, 'defaultHighOutputLatency': 0.046439909297052155, 'defaultSampleRate': 44100.0}\n{'index': 17, 'structVersion': 2, 'name': 'Yamaha Steinberg USB ASIO', 'hostApi': 2, 'maxInputChannels': 6, 'maxOutputChannels': 6, 'defaultLowInputLatency': 0.011609977324263039, 'defaultLowOutputLatency': 0.011609977324263039, 'defaultHighInputLatency': 0.011609977324263039, 'defaultHighOutputLatency': 0.011609977324263039, 'defaultSampleRate': 44100.0}\n{'index': 18, 'structVersion': 2, 'name': '스피커(Cirrus Logic CS8409 (AB 16))', 'hostApi': 3, 'maxInputChannels': 0, 'maxOutputChannels': 2, 'defaultLowInputLatency': 0.0, 'defaultLowOutputLatency': 0.0026666999999999997, 'defaultHighInputLatency': 0.0, 'defaultHighOutputLatency': 0.01, 'defaultSampleRate': 48000.0}\n{'index': 19, 'structVersion': 2, 'name': '헤드셋(Cirrus Logic CS8409 (AB 16))', 'hostApi': 3, 'maxInputChannels': 0, 'maxOutputChannels': 2, 'defaultLowInputLatency': 0.0, 'defaultLowOutputLatency': 0.0026666999999999997, 'defaultHighInputLatency': 0.0, 'defaultHighOutputLatency': 0.01, 'defaultSampleRate': 48000.0}\n{'index': 20, 'structVersion': 2, 'name': '라인(2- Steinberg UR44)', 'hostApi': 3, 'maxInputChannels': 0, 'maxOutputChannels': 2, 'defaultLowInputLatency': 0.0, 'defaultLowOutputLatency': 0.003, 'defaultHighInputLatency': 0.0, 'defaultHighOutputLatency': 0.01, 'defaultSampleRate': 44100.0}\n{'index': 21, 'structVersion': 2, 'name': 'Internal Microphone(Cirrus Logic CS8409 (AB 16))', 'hostApi': 3, 'maxInputChannels': 2, 'maxOutputChannels': 0, 'defaultLowInputLatency': 0.0026666999999999997, 'defaultLowOutputLatency': 0.0, 'defaultHighInputLatency': 0.01, 'defaultHighOutputLatency': 0.0, 'defaultSampleRate': 48000.0}\n{'index': 22, 'structVersion': 2, 'name': '라인(2- Steinberg UR44)', 'hostApi': 3, 'maxInputChannels': 2, 'maxOutputChannels': 0, 'defaultLowInputLatency': 0.003, 'defaultLowOutputLatency': 0.0, 'defaultHighInputLatency': 0.01, 'defaultHighOutputLatency': 0.0, 'defaultSampleRate': 44100.0}\n{'index': 23, 'structVersion': 2, 'name': 'Headset Microphone(Cirrus Logic CS8409 (AB 16))', 'hostApi': 3, 'maxInputChannels': 2, 'maxOutputChannels': 0, 'defaultLowInputLatency': 0.0026666999999999997, 'defaultLowOutputLatency': 0.0, 'defaultHighInputLatency': 0.01, 'defaultHighOutputLatency': 0.0, 'defaultSampleRate': 48000.0}\n{'index': 24, 'structVersion': 2, 'name': 'Headphones (HD Audio 헤드폰)', 'hostApi': 4, 'maxInputChannels': 0, 'maxOutputChannels': 2, 'defaultLowInputLatency': 0.01, 'defaultLowOutputLatency': 0.01, 'defaultHighInputLatency': 0.04, 'defaultHighOutputLatency': 0.04, 'defaultSampleRate': 48000.0}\n{'index': 25, 'structVersion': 2, 'name': '마이크 (HD Audio 마이크 2)', 'hostApi': 4, 'maxInputChannels': 2, 'maxOutputChannels': 0, 'defaultLowInputLatency': 0.01, 'defaultLowOutputLatency': 0.01, 'defaultHighInputLatency': 0.04, 'defaultHighOutputLatency': 0.04, 'defaultSampleRate': 44100.0}\n{'index': 26, 'structVersion': 2, 'name': '마이크 (HD Audio 마이크)', 'hostApi': 4, 'maxInputChannels': 2, 'maxOutputChannels': 0, 'defaultLowInputLatency': 0.01, 'defaultLowOutputLatency': 0.01, 'defaultHighInputLatency': 0.04, 'defaultHighOutputLatency': 0.04, 'defaultSampleRate': 48000.0}\n{'index': 27, 'structVersion': 2, 'name': 'Speakers (HD Audio 스피커)', 'hostApi': 4, 'maxInputChannels': 0, 'maxOutputChannels': 4, 'defaultLowInputLatency': 0.01, 'defaultLowOutputLatency': 0.01, 'defaultHighInputLatency': 0.04, 'defaultHighOutputLatency': 0.04, 'defaultSampleRate': 48000.0}\n{'index': 28, 'structVersion': 2, 'name': '라인 (Steinberg UR44)', 'hostApi': 4, 'maxInputChannels': 2, 'maxOutputChannels': 0, 'defaultLowInputLatency': 0.01, 'defaultLowOutputLatency': 0.01, 'defaultHighInputLatency': 0.08533333333333333, 'defaultHighOutputLatency': 0.08533333333333333, 'defaultSampleRate': 44100.0}\n{'index': 29, 'structVersion': 2, 'name': '라인 (Steinberg UR44)', 'hostApi': 4, 'maxInputChannels': 0, 'maxOutputChannels': 2, 'defaultLowInputLatency': 0.01, 'defaultLowOutputLatency': 0.01, 'defaultHighInputLatency': 0.08533333333333333, 'defaultHighOutputLatency': 0.08533333333333333, 'defaultSampleRate': 44100.0}\n{'index': 30, 'structVersion': 2, 'name': 'Output (AMD HD Audio DP out #1)', 'hostApi': 4, 'maxInputChannels': 0, 'maxOutputChannels': 2, 'defaultLowInputLatency': 0.01, 'defaultLowOutputLatency': 0.01, 'defaultHighInputLatency': 0.04, 'defaultHighOutputLatency': 0.04, 'defaultSampleRate': 44100.0}\n5\n{'index': 0, 'structVersion': 1, 'type': 2, 'name': 'MME', 'deviceCount': 8, 'defaultInputDevice': 1, 'defaultOutputDevice': 5}\n{'index': 1, 'structVersion': 1, 'type': 1, 'name': 'Windows DirectSound', 'deviceCount': 8, 'defaultInputDevice': 8, 'defaultOutputDevice': 12}\n{'index': 2, 'structVersion': 1, 'type': 3, 'name': 'ASIO', 'deviceCount': 2, 'defaultInputDevice': 16, 'defaultOutputDevice': 16}\n{'index': 3, 'structVersion': 1, 'type': 13, 'name': 'Windows WASAPI', 'deviceCount': 6, 'defaultInputDevice': 23, 'defaultOutputDevice': 18}\n{'index': 4, 'structVersion': 1, 'type': 11, 'name': 'Windows WDM-KS', 'deviceCount': 7, 'defaultInputDevice': 26, 'defaultOutputDevice': 27}\n"
     ]
    }
   ],
   "source": [
    "p = pyaudio.PyAudio()\n",
    "\n",
    "#p.is_format_supported()\n",
    "\n",
    "IDX_ASIO = pyaudio.paASIO\n",
    "\n",
    "print(p.get_device_count())\n",
    "\n",
    "for i in range(p.get_device_count()):\n",
    "   print(p.get_device_info_by_index(i))\n",
    "\n",
    "print(p.get_host_api_count())\n",
    "\n",
    "for i in range(p.get_host_api_count()):\n",
    "    print(p.get_host_api_info_by_index(i))\n",
    "\n",
    "\n"
   ]
  },
  {
   "cell_type": "code",
   "execution_count": null,
   "metadata": {},
   "outputs": [],
   "source": [
    "# https://stackoverflow.com/questions/47814829/a-real-time-spectrum-analyser-with-pyaudio-in-python-on-raspi\n",
    "\n",
    "import pyaudio\n",
    "import struct\n",
    "import numpy as np\n",
    "import matplotlib.pyplot as plt\n",
    "\n",
    "CHUNK = 1024 * 4\n",
    "FORMAT = pyaudio.paInt16\n",
    "CHANNELS = 1\n",
    "RATE = 44100\n",
    "\n",
    "p = pyaudio.PyAudio()\n",
    "\n",
    "stream = p.open(\n",
    "    format = FORMAT,\n",
    "    channels = CHANNELS,\n",
    "    rate = RATE,\n",
    "    input = True,\n",
    "    output = False,\n",
    "    frames_per_buffer = CHUNK,\n",
    "    start = True\n",
    "    )\n",
    "\n",
    "fig, ax = plt.subplots()\n",
    "x = np.arange(0, 2 * CHUNK, 2)\n",
    "line, = ax.plot(x, np.random.rand(CHUNK))\n",
    "\n",
    "ax.set_ylim(0, 255)\n",
    "ax.set_xlim(0, CHUNK)\n",
    "plt.show()\n",
    "\n",
    "while True:\n",
    "    data = stream.read(CHUNK)\n",
    "    data_int = np.array(struct.unpack(str(CHUNK*2) + 'B', data), dtype='b')[::2] + 127\n",
    "    line.set_ydata(data)\n",
    "    fig.canvas.draw()\n",
    "    fig.canvas.flush_events()\n"
   ]
  },
  {
   "cell_type": "code",
   "execution_count": null,
   "metadata": {},
   "outputs": [],
   "source": []
  }
 ]
}