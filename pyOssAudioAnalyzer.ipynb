{
 "metadata": {
  "language_info": {
   "codemirror_mode": {
    "name": "ipython",
    "version": 3
   },
   "file_extension": ".py",
   "mimetype": "text/x-python",
   "name": "python",
   "nbconvert_exporter": "python",
   "pygments_lexer": "ipython3",
   "version": "3.8.3-final"
  },
  "orig_nbformat": 2,
  "kernelspec": {
   "name": "python_defaultSpec_1596931214162",
   "display_name": "Python 3.8.3 64-bit ('base': conda)"
  }
 },
 "nbformat": 4,
 "nbformat_minor": 2,
 "cells": [
  {
   "cell_type": "code",
   "execution_count": 2,
   "metadata": {},
   "outputs": [
    {
     "output_type": "error",
     "ename": "NameError",
     "evalue": "name 'pyaudio' is not defined",
     "traceback": [
      "\u001b[1;31m---------------------------------------------------------------------------\u001b[0m",
      "\u001b[1;31mNameError\u001b[0m                                 Traceback (most recent call last)",
      "\u001b[1;32m<ipython-input-2-f2312b6d1e87>\u001b[0m in \u001b[0;36m<module>\u001b[1;34m\u001b[0m\n\u001b[0;32m     16\u001b[0m \u001b[1;33m\u001b[0m\u001b[0m\n\u001b[0;32m     17\u001b[0m \u001b[0mCHUNK\u001b[0m \u001b[1;33m=\u001b[0m \u001b[1;36m1024\u001b[0m \u001b[1;33m*\u001b[0m \u001b[1;36m4\u001b[0m\u001b[1;33m\u001b[0m\u001b[1;33m\u001b[0m\u001b[0m\n\u001b[1;32m---> 18\u001b[1;33m \u001b[0mFORMAT\u001b[0m \u001b[1;33m=\u001b[0m \u001b[0mpyaudio\u001b[0m\u001b[1;33m.\u001b[0m\u001b[0mpaInt16\u001b[0m\u001b[1;33m\u001b[0m\u001b[1;33m\u001b[0m\u001b[0m\n\u001b[0m\u001b[0;32m     19\u001b[0m \u001b[0mCHANNELS\u001b[0m \u001b[1;33m=\u001b[0m \u001b[1;36m1\u001b[0m\u001b[1;33m\u001b[0m\u001b[1;33m\u001b[0m\u001b[0m\n\u001b[0;32m     20\u001b[0m \u001b[0mRATE\u001b[0m \u001b[1;33m=\u001b[0m \u001b[1;36m44100\u001b[0m\u001b[1;33m\u001b[0m\u001b[1;33m\u001b[0m\u001b[0m\n",
      "\u001b[1;31mNameError\u001b[0m: name 'pyaudio' is not defined"
     ]
    }
   ],
   "source": [
    "# Import Library for Audio\n",
    "import sounddevice as sd\n",
    "#import pyaudio\n",
    "import wave\n",
    "# Import Library for math & plot\n",
    "import numpy as np\n",
    "from scipy.io import wavfile\n",
    "import matplotlib.pyplot as plt\n",
    "# Import Systems \n",
    "import os\n",
    "import struct\n",
    "import sys\n",
    "import time\n",
    "\n",
    "%matplotlib tk\n",
    "\n",
    "CHUNK = 1024 * 4\n",
    "#FORMAT = pyaudio.paInt16\n",
    "CHANNELS = 1\n",
    "RATE = 44100\n"
   ]
  },
  {
   "cell_type": "code",
   "execution_count": 4,
   "metadata": {
    "tags": []
   },
   "outputs": [
    {
     "output_type": "stream",
     "name": "stdout",
     "text": "C:\\Users\\iMacPC\\anaconda3\\Library\\bin\\portaudio.dll\n(1246720, 'PortAudio V19.6.0-devel, revision 396fe4b6699ae929d3a685b3ef8a7e97396139a4')\n   0 Microsoft 사운드 매퍼 - Input, MME (2 in, 0 out)\n>  1 라인(Steinberg UR44), MME (2 in, 0 out)\n   2 Microsoft 사운드 매퍼 - Output, MME (0 in, 2 out)\n<  3 스피커(Cirrus Logic CS8409 (AB 16), MME (0 in, 4 out)\n   4 라인(Steinberg UR44), MME (0 in, 2 out)\n   5 헤드셋(Cirrus Logic CS8409 (AB 16), MME (0 in, 2 out)\n   6 Headphones (HD Audio 헤드폰), Windows WDM-KS (0 in, 2 out)\n   7 마이크 (HD Audio 마이크 2), Windows WDM-KS (2 in, 0 out)\n   8 Speakers (HD Audio 스피커), Windows WDM-KS (0 in, 4 out)\n   9 Output (AMD HD Audio DP out #1), Windows WDM-KS (0 in, 2 out)\n  10 라인 (Steinberg UR44), Windows WDM-KS (2 in, 0 out)\n  11 라인 (Steinberg UR44), Windows WDM-KS (0 in, 2 out)\n"
    }
   ],
   "source": [
    "\n",
    "print(sd._libname)\n",
    "print(sd._lib)\n",
    "\n",
    "print(sd.get_portaudio_version())\n",
    "input_device = sd.query_devices()\n",
    "print(input_device)\n",
    "\n"
   ]
  },
  {
   "cell_type": "code",
   "execution_count": 10,
   "metadata": {
    "tags": []
   },
   "outputs": [
    {
     "output_type": "stream",
     "name": "stdout",
     "text": "7\n{'index': 0, 'structVersion': 2, 'name': 'Microsoft 사운드 매퍼 - Output', 'hostApi': 0, 'maxInputChannels': 0, 'maxOutputChannels': 2, 'defaultLowInputLatency': 0.09, 'defaultLowOutputLatency': 0.09, 'defaultHighInputLatency': 0.18, 'defaultHighOutputLatency': 0.18, 'defaultSampleRate': 44100.0}\n{'index': 1, 'structVersion': 2, 'name': '스피커(Cirrus Logic CS8409 (AB 16)', 'hostApi': 0, 'maxInputChannels': 0, 'maxOutputChannels': 4, 'defaultLowInputLatency': 0.09, 'defaultLowOutputLatency': 0.09, 'defaultHighInputLatency': 0.18, 'defaultHighOutputLatency': 0.18, 'defaultSampleRate': 44100.0}\n{'index': 2, 'structVersion': 2, 'name': '헤드셋(Cirrus Logic CS8409 (AB 16)', 'hostApi': 0, 'maxInputChannels': 0, 'maxOutputChannels': 2, 'defaultLowInputLatency': 0.09, 'defaultLowOutputLatency': 0.09, 'defaultHighInputLatency': 0.18, 'defaultHighOutputLatency': 0.18, 'defaultSampleRate': 44100.0}\n{'index': 3, 'structVersion': 2, 'name': 'Headphones (HD Audio 헤드폰)', 'hostApi': 1, 'maxInputChannels': 0, 'maxOutputChannels': 2, 'defaultLowInputLatency': 0.01, 'defaultLowOutputLatency': 0.01, 'defaultHighInputLatency': 0.04, 'defaultHighOutputLatency': 0.04, 'defaultSampleRate': 48000.0}\n{'index': 4, 'structVersion': 2, 'name': '마이크 (HD Audio 마이크 2)', 'hostApi': 1, 'maxInputChannels': 2, 'maxOutputChannels': 0, 'defaultLowInputLatency': 0.01, 'defaultLowOutputLatency': 0.01, 'defaultHighInputLatency': 0.04, 'defaultHighOutputLatency': 0.04, 'defaultSampleRate': 44100.0}\n{'index': 5, 'structVersion': 2, 'name': 'Speakers (HD Audio 스피커)', 'hostApi': 1, 'maxInputChannels': 0, 'maxOutputChannels': 4, 'defaultLowInputLatency': 0.01, 'defaultLowOutputLatency': 0.01, 'defaultHighInputLatency': 0.04, 'defaultHighOutputLatency': 0.04, 'defaultSampleRate': 48000.0}\n{'index': 6, 'structVersion': 2, 'name': 'Output (AMD HD Audio DP out #1)', 'hostApi': 1, 'maxInputChannels': 0, 'maxOutputChannels': 2, 'defaultLowInputLatency': 0.01, 'defaultLowOutputLatency': 0.01, 'defaultHighInputLatency': 0.04, 'defaultHighOutputLatency': 0.04, 'defaultSampleRate': 44100.0}\n2\n{'index': 0, 'structVersion': 1, 'type': 2, 'name': 'MME', 'deviceCount': 3, 'defaultInputDevice': -1, 'defaultOutputDevice': 1}\n{'index': 1, 'structVersion': 1, 'type': 11, 'name': 'Windows WDM-KS', 'deviceCount': 4, 'defaultInputDevice': 4, 'defaultOutputDevice': 5}\n"
    }
   ],
   "source": [
    "p = pyaudio.PyAudio()\n",
    "\n",
    "#p.is_format_supported()\n",
    "\n",
    "IDX_ASIO = pyaudio.paASIO\n",
    "\n",
    "print(p.get_device_count())\n",
    "\n",
    "for i in range(p.get_device_count()):\n",
    "   print(p.get_device_info_by_index(i))\n",
    "\n",
    "print(p.get_host_api_count())\n",
    "\n",
    "for i in range(p.get_host_api_count()):\n",
    "    print(p.get_host_api_info_by_index(i))\n",
    "\n",
    "\n"
   ]
  },
  {
   "cell_type": "code",
   "execution_count": null,
   "metadata": {},
   "outputs": [],
   "source": []
  }
 ]
}