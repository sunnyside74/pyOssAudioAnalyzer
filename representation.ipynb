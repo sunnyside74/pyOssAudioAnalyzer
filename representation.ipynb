{
 "metadata": {
  "language_info": {
   "codemirror_mode": {
    "name": "ipython",
    "version": 3
   },
   "file_extension": ".py",
   "mimetype": "text/x-python",
   "name": "python",
   "nbconvert_exporter": "python",
   "pygments_lexer": "ipython3",
   "version": "3.8.5-final"
  },
  "orig_nbformat": 2,
  "kernelspec": {
   "name": "python3",
   "display_name": "Python 3.8.5 64-bit (conda)",
   "metadata": {
    "interpreter": {
     "hash": "048c8faec33ab08d4598d2d1b99f8cd3584737cbeccf00701c017cc95ada948e"
    }
   }
  }
 },
 "nbformat": 4,
 "nbformat_minor": 2,
 "cells": [
  {
   "cell_type": "code",
   "execution_count": 1,
   "metadata": {},
   "outputs": [],
   "source": [
    "# Import Systems \n",
    "import struct\n",
    "import io\n",
    "import os\n",
    "import sys\n",
    "import time\n",
    "import platform\n",
    "\n",
    "# Import Audio\n",
    "import pyaudio\n",
    "import librosa\n",
    "import soundfile\n",
    "\n",
    "import numpy as np\n",
    "import scipy.signal as sig\n",
    "import matplotlib.pyplot as plt\n",
    "\n",
    "# User Libraries\n",
    "import pyOssWavfile\n",
    "import pyOssFilter\n",
    "import pyRoomAcoustic as room\n",
    "import pyOssDebug as dbg\n"
   ]
  },
  {
   "cell_type": "code",
   "execution_count": null,
   "metadata": {},
   "outputs": [],
   "source": [
    "# 완산여고 결과.docx 값\n",
    "\n",
    "# [아람누리, 세종 체임버홀, 대구범어성당] 잔향데이터\n",
    "arr_RT_src = np.array( [0.94, 2.18, 4.3] )\n",
    "arr_C80_src = np.array( [2.3, -3.6, -5.1] )\n",
    "arr_D50_src = np.array( [0.4, 0.25, 0.20] )\n",
    "arr_RASTI_src = np.array( [0.54, 0.47, 0.32] )\n",
    "\n",
    "# 완산여고에 [아람누리, 세종 체임버홀, 대구범어성당] 잔향데이터 적용\n",
    "arr_RT_tgt = np.array( [1.15, 1.76, 4.15] )\n",
    "arr_C80_tgt = np.array( [13.7, 15.1, 15.4] )\n",
    "arr_D50_tgt = np.array( [0.85, 0.92, 0.91] )\n",
    "arr_RASTI_tgt = np.array( [0.77, 0.86, 0.85] )\n",
    "\n",
    "# 완산여고 오리지널 (잔향 미적용)\n",
    "rt_tgt = np.full( (1, 3) , 0.31 )\n",
    "C80_tgt = np.full( (1, 3), 16.3 )\n",
    "D50_tgt = np.full( (1, 3), 0.94)\n",
    "RASTI_tgt = np.full( (1, 3), 0.87)\n",
    "\n"
   ]
  },
  {
   "cell_type": "code",
   "execution_count": 4,
   "metadata": {},
   "outputs": [],
   "source": [
    "# 전주대 SoundLab 적용 결과\n",
    "\n",
    "# [아람누리, 세종 체임버홀, 대구범어성당] 잔향데이터\n",
    "arr_RT_src = np.array( [2.18, 0.94, 4.3] )\n",
    "arr_C80_src = np.array( [-3.6, 2.3, -5.1] )\n",
    "arr_D50_src = np.array( [0.25, 0.40, 0.20] )\n",
    "arr_RASTI_src = np.array( [0.47, 0.54, 0.32] )\n",
    "\n",
    "# 전주대 SoundLab에 [아람누리, 세종 체임버홀, 대구범어성당] 잔향데이터 적용\n",
    "arr_RT_tgt = np.array( [2.6, 5.55, 5.76] )\n",
    "arr_C80_tgt = np.array( [6.9, 5.1, 3.9] )\n",
    "arr_D50_tgt = np.array( [0.692, 0.63, 0.592] )\n",
    "arr_RASTI_tgt = np.array( [0.743, 0.714, 0.693] )\n",
    "\n",
    "# 전주대 SoundLab 오리지널 (잔향 미적용)\n",
    "rt_tgt = np.full( (1, 3) , 0.41 )\n",
    "C80_tgt = np.full( (1, 3), 9.2 )\n",
    "D50_tgt = np.full( (1, 3), 0.615)\n",
    "RASTI_tgt = np.full( (1, 3), 0.79)\n",
    "\n"
   ]
  },
  {
   "cell_type": "code",
   "execution_count": 5,
   "metadata": {},
   "outputs": [
    {
     "output_type": "stream",
     "name": "stdout",
     "text": [
      "RT 재현율(%) =  [[123.72881356 969.81132075 137.53213368]]\nC80 재현율(%) =  [[17.96875    59.42028986 37.06293706]]\nD50 재현율(%) =  [[-21.09589041  -6.97674419   5.54216867]]\nRASTI 재현율(%) =  [[14.6875     30.4        20.63829787]]\n"
     ]
    }
   ],
   "source": [
    "rep_RT = 100 * ( (arr_RT_tgt - rt_tgt) / (arr_RT_src - rt_tgt ) )\n",
    "rep_C80 = 100 * ( (arr_C80_tgt - C80_tgt) / (arr_C80_src - C80_tgt ) )\n",
    "rep_D50 = 100 * ( (arr_D50_tgt - D50_tgt) / (arr_D50_src - D50_tgt ) )\n",
    "rep_RASTI = 100 * ( (arr_RASTI_tgt - RASTI_tgt) / (arr_RASTI_src - RASTI_tgt ) )\n",
    "\n",
    "print(\"RT 재현율(%) = \", rep_RT)\n",
    "print(\"C80 재현율(%) = \", rep_C80)\n",
    "print(\"D50 재현율(%) = \", rep_D50)\n",
    "print(\"RASTI 재현율(%) = \", rep_RASTI)\n",
    "\n"
   ]
  },
  {
   "cell_type": "code",
   "execution_count": null,
   "metadata": {},
   "outputs": [],
   "source": []
  }
 ]
}