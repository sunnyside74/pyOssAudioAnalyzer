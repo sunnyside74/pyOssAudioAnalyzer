{
 "metadata": {
  "language_info": {
   "codemirror_mode": {
    "name": "ipython",
    "version": 3
   },
   "file_extension": ".py",
   "mimetype": "text/x-python",
   "name": "python",
   "nbconvert_exporter": "python",
   "pygments_lexer": "ipython3",
   "version": "3.8.5-final"
  },
  "orig_nbformat": 2,
  "kernelspec": {
   "name": "Python 3.8.5 64-bit ('base': conda)",
   "display_name": "Python 3.8.5 64-bit ('base': conda)",
   "metadata": {
    "interpreter": {
     "hash": "687999c83c8f969a2cbef219c08527671fa3fea45877bfc0649f52a45cd4a80c"
    }
   }
  }
 },
 "nbformat": 4,
 "nbformat_minor": 2,
 "cells": [
  {
   "source": [
    "# Band Pass Filter 테스트\n",
    "- Octave Band scale의 Band Pass Filter 생성\n",
    "- Butterworth 필터\n",
    "- FIR Filter 처리 가능여부\n"
   ],
   "cell_type": "markdown",
   "metadata": {}
  },
  {
   "cell_type": "code",
   "execution_count": 1,
   "metadata": {},
   "outputs": [],
   "source": [
    "'''\n",
    "# 라이브러리 정의\n",
    " - 시스템 라이브러리\n",
    " - 오디오 관련 라이브러리\n",
    " - 연산 및 Plot 관련 라이브러리 \n",
    " - 샤용자 라이브러리\n",
    "'''\n",
    "\n",
    "# Import Systems \n",
    "import struct\n",
    "import io\n",
    "import os\n",
    "import sys\n",
    "import time\n",
    "import math\n",
    "import platform\n",
    "\n",
    "# Import Audio\n",
    "import wave\n",
    "import pyaudio\n",
    "import librosa\n",
    "\n",
    "import numpy as np\n",
    "import scipy\n",
    "import scipy.signal as sig\n",
    "import matplotlib.pyplot as plt\n",
    "import soundfile\n",
    "\n",
    "# User Libraries\n",
    "import pyOssWavfile\n",
    "import pyRoomAcoustic as room\n",
    "import pyOssDebug as dbg\n",
    "import pyOssFilter\n",
    "\n"
   ]
  },
  {
   "cell_type": "code",
   "execution_count": 2,
   "metadata": {},
   "outputs": [],
   "source": [
    "# .wav File Open\n",
    "\n",
    "# Path of audiofiles folder\n",
    "audio_dir = os.path.join(os.getcwd(), 'audiofiles')\n",
    "\n",
    "# Define wave file name text to open\n",
    "# Path + wave file name\n",
    "\n",
    "#audio_fname = \"TyndallBruceMonument.wav\"\n",
    "#audio_fname = \"ElvedenHallMarbleHall.wav'\"\n",
    "#audio_fname = \"EmptyApartmentBedroom.wav\"\n",
    "#audio_fname = \"FalklandPalaceRoyalTennisCourt.wav\"\n",
    "#audio_fname = \"InsidePiano.wav\"\n",
    "audio_fname = \"MaesHowe.wav\"\n",
    "#audio_fname = \"SportsCentreUniversityOfYork.wav\"\n",
    "#audio_fname = \"StairwayUniversityOfYork.wav\"\n",
    "#audio_fname = \"StAndrewsChurch.wav\"\n",
    "\n",
    "wav_fname = os.path.join(audio_dir, audio_fname)\n",
    "\n",
    "ossWav_fmt_chunk = pyOssWavfile.read_format(wav_fname)\n",
    "ossWav_struct_fmt = pyOssWavfile.extractWavFmtChunk(ossWav_fmt_chunk)\n",
    "\n",
    "if ossWav_struct_fmt.bitdepth == 24:        # Bitdepth가 24bit일 때는 pysoundfile을 이용하여 wav data를 불러옴\n",
    "    ossWav_data, ossWav_struct_fmt.fs = soundfile.read(wav_fname)\n",
    "else:                                       # 그 외에는 scipy.io.wavfile을 수정한 함수 pyOssWavfile을 이용하여 wav data를 불러옴\n",
    "    ossWav_fmt_chunk, ossWav_data, ossWav_length = pyOssWavfile.read(wav_fname)\n",
    "\n",
    "ossWav_time = ossWav_data.shape[0] / ossWav_struct_fmt.fs\n"
   ]
  },
  {
   "cell_type": "code",
   "execution_count": 4,
   "metadata": {},
   "outputs": [
    {
     "output_type": "stream",
     "name": "stdout",
     "text": [
      "{'index': 4, 'structVersion': 2, 'name': 'ZoomAudioDevice', 'hostApi': 0, 'maxInputChannels': 2, 'maxOutputChannels': 2, 'defaultLowInputLatency': 0.01, 'defaultLowOutputLatency': 0.03333333333333333, 'defaultHighInputLatency': 0.1, 'defaultHighOutputLatency': 0.042666666666666665, 'defaultSampleRate': 48000.0}\n{'index': 0, 'structVersion': 1, 'type': 5, 'name': 'Core Audio', 'deviceCount': 5, 'defaultInputDevice': 1, 'defaultOutputDevice': 3}\n"
     ]
    }
   ],
   "source": [
    "p = pyaudio.PyAudio()\n",
    "\n",
    "\n",
    "IDX_ASIO = pyaudio.paASIO\n",
    "IDX_COREAUDIO = pyaudio.paCoreAudio     # = 5\n",
    "\n",
    "if 'darwin' in platform.system():\n",
    "    IDX = pyaudio.paCoreAudio\n",
    "elif 'linux' in platform.system():\n",
    "    IDX = pyaudio.paALSA\n",
    "else:\n",
    "    IDX = pyaudio.paWASAPI \n",
    "\n",
    "\n",
    "for i in range(p.get_device_count()):\n",
    "    device_index = p.get_device_info_by_index(i)\n",
    "    print(device_index)\n",
    "    # if ('ASIO' in device_index):\n",
    "    if ('Steinberg UR44' in device_index):\n",
    "        break\n",
    "\n",
    "print(device_index)\n",
    "\n",
    "for i in range(p.get_host_api_count()):\n",
    "    api_index = p.get_host_api_info_by_index(i)\n",
    "    print(api_index)\n",
    "\n",
    "\n",
    "api_index_key = list(api_index.keys())\n",
    "api_index_value = list(api_index.values())\n",
    "\n"
   ]
  },
  {
   "cell_type": "code",
   "execution_count": null,
   "metadata": {
    "tags": []
   },
   "outputs": [],
   "source": [
    "p = pyaudio.PyAudio()\n",
    "\n",
    "stream = p.open(\n",
    "    format = pyaudio.paFloat32,\n",
    "    channels = 1,\n",
    "    rate = RATE,\n",
    "    input = True,\n",
    "    output = False,\n",
    "    frames_per_buffer = BUFFER\n",
    ")\n",
    "\n",
    "fig = plt.figure()\n",
    "line1 = plt.plot([],[])[0]\n",
    "line2 = plt.plot([],[])[0]\n",
    "\n",
    "r = range(0,int(RATE/2+1),int(RATE/BUFFER))\n",
    "l = len(r)"
   ]
  },
  {
   "cell_type": "code",
   "execution_count": null,
   "metadata": {},
   "outputs": [],
   "source": []
  }
 ]
}