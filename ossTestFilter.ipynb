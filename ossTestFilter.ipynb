{
 "metadata": {
  "language_info": {
   "codemirror_mode": {
    "name": "ipython",
    "version": 3
   },
   "file_extension": ".py",
   "mimetype": "text/x-python",
   "name": "python",
   "nbconvert_exporter": "python",
   "pygments_lexer": "ipython3",
   "version": "3.8.5-final"
  },
  "orig_nbformat": 2,
  "kernelspec": {
   "name": "Python 3.8.5 64-bit ('base': conda)",
   "display_name": "Python 3.8.5 64-bit ('base': conda)",
   "metadata": {
    "interpreter": {
     "hash": "687999c83c8f969a2cbef219c08527671fa3fea45877bfc0649f52a45cd4a80c"
    }
   }
  }
 },
 "nbformat": 4,
 "nbformat_minor": 2,
 "cells": [
  {
   "source": [
    "# Band Pass Filter 테스트\n",
    "- Octave Band scale의 Band Pass Filter 생성\n",
    "- Butterworth 필터\n",
    "- FIR Filter 처리 가능여부\n"
   ],
   "cell_type": "markdown",
   "metadata": {}
  },
  {
   "cell_type": "code",
   "execution_count": 2,
   "metadata": {},
   "outputs": [],
   "source": [
    "'''\n",
    "# 라이브러리 정의\n",
    " - 시스템 라이브러리\n",
    " - 오디오 관련 라이브러리\n",
    " - 연산 및 Plot 관련 라이브러리 \n",
    " - 샤용자 라이브러리\n",
    "'''\n",
    "\n",
    "# Import Systems \n",
    "import struct\n",
    "import io\n",
    "import os\n",
    "import sys\n",
    "import time\n",
    "\n",
    "# Import Audio\n",
    "import wave\n",
    "import pyaudio\n",
    "#import librosa\n",
    "\n",
    "import numpy as np\n",
    "from scipy.io import wavfile\n",
    "import scipy.signal as sig\n",
    "import matplotlib.pyplot as plt\n",
    "import soundfile\n",
    "\n",
    "# User Libraries\n",
    "import pyOssWavfile\n",
    "import pyRoomAcoustic as room\n",
    "import pyOssDebug as dbg\n",
    "\n"
   ]
  },
  {
   "cell_type": "code",
   "execution_count": 4,
   "metadata": {},
   "outputs": [],
   "source": [
    "# .wav File Open\n",
    "\n",
    "# Path of audiofiles folder\n",
    "audio_dir = os.path.join(os.getcwd(), 'audiofiles')\n",
    "\n",
    "# Define wave file name text to open\n",
    "# Path + wave file name\n",
    "\n",
    "#audio_fname = \"TyndallBruceMonument.wav\"\n",
    "#audio_fname = \"ElvedenHallMarbleHall.wav'\"\n",
    "#audio_fname = \"EmptyApartmentBedroom.wav\"\n",
    "#audio_fname = \"FalklandPalaceRoyalTennisCourt.wav\"\n",
    "#audio_fname = \"InsidePiano.wav\"\n",
    "audio_fname = \"MaesHowe.wav\"\n",
    "#audio_fname = \"SportsCentreUniversityOfYork.wav\"\n",
    "#audio_fname = \"StairwayUniversityOfYork.wav\"\n",
    "#audio_fname = \"StAndrewsChurch.wav\"\n",
    "\n",
    "wav_fname = os.path.join(audio_dir, audio_fname)\n",
    "\n",
    "ossWav_fmt_chunk = pyOssWavfile.read_format(wav_fname)\n",
    "ossWav_struct_fmt = pyOssWavfile.extractWavFmtChunk(ossWav_fmt_chunk)\n",
    "\n",
    "if ossWav_struct_fmt.bitdepth == 24:        # Bitdepth가 24bit일 때는 pysoundfile을 이용하여 wav data를 불러옴\n",
    "    ossWav_data, ossWav_struct_fmt.fs = soundfile.read(wav_fname)\n",
    "else:                                       # 그 외에는 scipy.io.wavfile을 수정한 함수 pyOssWavfile을 이용하여 wav data를 불러옴\n",
    "    ossWav_fmt_chunk, ossWav_data, ossWav_length = pyOssWavfile.read(wav_fname)\n",
    "\n",
    "ossWav_time = ossWav_data.shape[0] / ossWav_struct_fmt.fs\n"
   ]
  },
  {
   "cell_type": "code",
   "execution_count": 6,
   "metadata": {
    "tags": []
   },
   "outputs": [
    {
     "output_type": "error",
     "ename": "NameError",
     "evalue": "name 'signal' is not defined",
     "traceback": [
      "\u001b[0;31m---------------------------------------------------------------------------\u001b[0m",
      "\u001b[0;31mNameError\u001b[0m                                 Traceback (most recent call last)",
      "\u001b[0;32m<ipython-input-6-0cfaf03a8227>\u001b[0m in \u001b[0;36m<module>\u001b[0;34m\u001b[0m\n\u001b[1;32m      8\u001b[0m \u001b[0;34m\u001b[0m\u001b[0m\n\u001b[1;32m      9\u001b[0m \u001b[0;34m\u001b[0m\u001b[0m\n\u001b[0;32m---> 10\u001b[0;31m \u001b[0msignal\u001b[0m\u001b[0;34m.\u001b[0m\u001b[0mlp2bp\u001b[0m\u001b[0;34m\u001b[0m\u001b[0;34m\u001b[0m\u001b[0m\n\u001b[0m\u001b[1;32m     11\u001b[0m \u001b[0;34m\u001b[0m\u001b[0m\n\u001b[1;32m     12\u001b[0m \u001b[0;34m\u001b[0m\u001b[0m\n",
      "\u001b[0;31mNameError\u001b[0m: name 'signal' is not defined"
     ]
    }
   ],
   "source": [
    "PI = 3.141592\n",
    "\n",
    "CHUNK = 1024 * 4\n",
    "\n",
    "# Filter Design\n",
    "fc = 500\n",
    "wc = 2*PI*fc\n",
    "\n",
    "\n",
    "sig.lp2bp\n",
    "\n",
    "\n",
    "\n",
    "# Filter Process (Filtering)\n",
    "\n",
    "\n"
   ]
  },
  {
   "cell_type": "code",
   "execution_count": null,
   "metadata": {},
   "outputs": [],
   "source": []
  }
 ]
}