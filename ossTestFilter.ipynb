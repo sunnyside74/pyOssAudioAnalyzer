{
 "metadata": {
  "language_info": {
   "codemirror_mode": {
    "name": "ipython",
    "version": 3
   },
   "file_extension": ".py",
   "mimetype": "text/x-python",
   "name": "python",
   "nbconvert_exporter": "python",
   "pygments_lexer": "ipython3",
   "version": "3.8.5-final"
  },
  "orig_nbformat": 2,
  "kernelspec": {
   "name": "Python 3.8.5 64-bit ('base': conda)",
   "display_name": "Python 3.8.5 64-bit ('base': conda)",
   "metadata": {
    "interpreter": {
     "hash": "687999c83c8f969a2cbef219c08527671fa3fea45877bfc0649f52a45cd4a80c"
    }
   }
  }
 },
 "nbformat": 4,
 "nbformat_minor": 2,
 "cells": [
  {
   "source": [
    "# Band Pass Filter 테스트\n",
    "- Octave Band scale의 Band Pass Filter 생성\n",
    "- Butterworth 필터\n",
    "- FIR Filter 처리 가능여부\n"
   ],
   "cell_type": "markdown",
   "metadata": {}
  },
  {
   "cell_type": "code",
   "execution_count": 1,
   "metadata": {},
   "outputs": [],
   "source": [
    "'''\n",
    "# 라이브러리 정의\n",
    " - 시스템 라이브러리\n",
    " - 오디오 관련 라이브러리\n",
    " - 연산 및 Plot 관련 라이브러리 \n",
    " - 샤용자 라이브러리\n",
    "'''\n",
    "\n",
    "# Import Systems \n",
    "import struct\n",
    "import io\n",
    "import os\n",
    "import sys\n",
    "import time\n",
    "\n",
    "# Import Audio\n",
    "import wave\n",
    "import pyaudio\n",
    "#import librosa\n",
    "\n",
    "import numpy as np\n",
    "from scipy.io import wavfile\n",
    "import scipy.signal as sig\n",
    "import matplotlib.pyplot as plt\n",
    "import soundfile\n",
    "\n",
    "# User Libraries\n",
    "import pyOssWavfile\n",
    "import pyRoomAcoustic as room\n",
    "import pyOssPyAudio as osspa\n",
    "import pyOssDebug as dbg\n",
    "\n"
   ]
  },
  {
   "cell_type": "code",
   "execution_count": 2,
   "metadata": {},
   "outputs": [],
   "source": [
    "# .wav File Open\n",
    "\n",
    "# Path of audiofiles folder\n",
    "audio_dir = os.path.join(os.getcwd(), 'audiofiles')\n",
    "\n",
    "# Define wave file name text to open\n",
    "# Path + wave file name\n",
    "\n",
    "#audio_fname = \"TyndallBruceMonument.wav\"\n",
    "#audio_fname = \"ElvedenHallMarbleHall.wav'\"\n",
    "#audio_fname = \"EmptyApartmentBedroom.wav\"\n",
    "#audio_fname = \"FalklandPalaceRoyalTennisCourt.wav\"\n",
    "#audio_fname = \"InsidePiano.wav\"\n",
    "audio_fname = \"MaesHowe.wav\"\n",
    "#audio_fname = \"SportsCentreUniversityOfYork.wav\"\n",
    "#audio_fname = \"StairwayUniversityOfYork.wav\"\n",
    "#audio_fname = \"StAndrewsChurch.wav\"\n",
    "\n",
    "wav_fname = os.path.join(audio_dir, audio_fname)\n",
    "\n",
    "# Read .wav File\n",
    "ossWav_fmt_chunk, ossWav_data, ossWav_length = pyOssWavfile.read(wav_fname)\n",
    "\n",
    "# Extract wav format chunk\n",
    "ossWav_format, ossWav_numch, ossWav_fs, ossWav_byterate, ossWav_blockalign, ossWav_bitdepth = pyOssWavfile.extractWavFmtChunk(ossWav_fmt_chunk)\n",
    "ossWav_time = ossWav_data.shape[0] / ossWav_fs\n"
   ]
  },
  {
   "cell_type": "code",
   "execution_count": 3,
   "metadata": {
    "tags": []
   },
   "outputs": [
    {
     "output_type": "stream",
     "name": "stdout",
     "text": "FORMAT = 1\nFORMAT = 1\n"
    }
   ],
   "source": [
    "# pyaudio\n",
    "\n",
    "CHUNK = 1024 * 4\n",
    "#FORMAT = pyaudio.paInt16\n",
    "FORMAT = osspa.convPaSampleFormat(ossWav_format, ossWav_bitdepth)\n",
    "CHANNELS = ossWav_numch\n",
    "RATE = ossWav_fs\n",
    "\n",
    "print (\"FORMAT =\", FORMAT)\n",
    "print (\"FORMAT =\", pyaudio.paFloat32)\n",
    "\n",
    "pAudio = pyaudio.PyAudio()\n",
    "\n",
    "\n",
    "# Filter 불러오기\n",
    "\n"
   ]
  },
  {
   "cell_type": "code",
   "execution_count": null,
   "metadata": {},
   "outputs": [],
   "source": []
  }
 ]
}